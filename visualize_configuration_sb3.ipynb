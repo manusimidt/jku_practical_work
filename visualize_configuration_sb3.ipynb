{
 "cells": [
  {
   "cell_type": "code",
   "execution_count": 1,
   "id": "0433f93a",
   "metadata": {},
   "outputs": [
    {
     "name": "stdout",
     "output_type": "stream",
     "text": [
      "pygame 2.1.2 (SDL 2.0.18, Python 3.9.7)\n",
      "Hello from the pygame community. https://www.pygame.org/contribute.html\n"
     ]
    }
   ],
   "source": [
    "import os\n",
    "import matplotlib.pyplot as plt\n",
    "import numpy as np\n",
    "import itertools\n",
    "from rl.ppo.policies import ActorCriticNet\n",
    "from stable_baselines3 import PPO\n",
    "import torch\n",
    "from torch import optim\n",
    "from env import VanillaEnv\n",
    "import time"
   ]
  },
  {
   "cell_type": "code",
   "execution_count": 2,
   "id": "5b511ea7",
   "metadata": {},
   "outputs": [
    {
     "data": {
      "image/png": "[encoded data removed]",
      "text/plain": [
       "<Figure size 700x900 with 1 Axes>"
      ]
     },
     "metadata": {},
     "output_type": "display_data"
    }
   ],
   "source": [
    "def plot_evaluation_grid(grid, training_positions):\n",
    "    \"\"\"Plots the evaluation grid.\"\"\"\n",
    "    fig, ax = plt.subplots(figsize=(7, 9))\n",
    "    grid_x, grid_y = grid.shape\n",
    "    extent = (0, grid_x, grid_y, 0)\n",
    "    ax.imshow(grid.T, extent=extent, origin='lower', cmap='copper')\n",
    "\n",
    "    x_ticks = np.arange(grid_x)\n",
    "    y_ticks = np.arange(grid_y)\n",
    "    ax.set_xticks(x_ticks)\n",
    "    ax.set_yticks(y_ticks)\n",
    "\n",
    "    # ax.tick_params(labelbottom=False, labelleft=False)\n",
    "    ax.set_ylabel(\"Floor height\")\n",
    "    ax.set_xlabel(\"Obstacle position\")\n",
    "    \n",
    "    # Loop over data dimensions and create text annotations.\n",
    "    for (obstacle_pos, floor_height) in training_positions:\n",
    "        pos_index = obstacle_pos\n",
    "        height_index = floor_height\n",
    "        ax.text(\n",
    "            pos_index + 0.5,\n",
    "            height_index + 0.5,\n",
    "            'T',\n",
    "            ha='center',\n",
    "            va='center',\n",
    "            color='r',\n",
    "            fontsize='large',\n",
    "            fontweight = 'bold')\n",
    "\n",
    "    ax.grid(color='w', linewidth=1)\n",
    "    fig.tight_layout()\n",
    "    return fig\n",
    "\n",
    "n_obstacle_pos = 26 # how many obstacle position you want to try out (paper: 27, max: 30)\n",
    "n_floor_heights = 11 # how many floor heights you want to try out (paper: 11, max: 40)\n",
    "obstacle_pos = np.rint(np.linspace(VanillaEnv.min_obstacle_pos, VanillaEnv.max_obstacle_pos, n_obstacle_pos)).astype(np.int8)\n",
    "floor_height = np.rint(np.linspace(VanillaEnv.min_floor_height, VanillaEnv.max_floor_height, n_floor_heights)).astype(np.int8)\n",
    "\n",
    "grid = np.zeros((len(obstacle_pos), len(floor_height)))\n",
    "\n",
    "grid[1] = np.ones(11)\n",
    "grid[0] = np.ones(11)\n",
    "grid[-1] = np.ones(11)\n",
    "grid[-2] = np.ones(11)\n",
    "\n",
    "fig = plot_evaluation_grid(grid, [(0, 1), [2,2], [10,10]])\n",
    "plt.show()\n"
   ]
  },
  {
   "cell_type": "code",
   "execution_count": 3,
   "id": "e12970db",
   "metadata": {},
   "outputs": [],
   "source": [
    "def map_conf_to_index(confs:list)->list:\n",
    "    \"\"\"\n",
    "    Takes a list of configurations (i.e.: [(14, 0), (25, 20)]) and returns the \n",
    "    indices that correspond to the grid (i.e.: [(0, 0), (8,5)])\n",
    "    \"\"\"\n",
    "    res = []\n",
    "    for conf in confs:\n",
    "        x = np.where(obstacle_pos == conf[0])[0]\n",
    "        y = np.where(floor_height == conf[1])[0]\n",
    "        assert len(x) == 1 and len(y) == 1, \"Something wrong with the grid. Make sure the configurations are defined equally while training & evaluating\"\n",
    "        res.append((x[0], y[0]))\n",
    "    return res"
   ]
  },
  {
   "cell_type": "code",
   "execution_count": 4,
   "id": "f8bef5d3",
   "metadata": {},
   "outputs": [
    {
     "name": "stdout",
     "output_type": "stream",
     "text": [
      "Loading model  narrow-shift.zip\n",
      "Loading model  narrow-vanilla.zip\n"
     ]
    },
    {
     "ename": "KeyboardInterrupt",
     "evalue": "",
     "output_type": "error",
     "traceback": [
      "\u001b[1;31m---------------------------------------------------------------------------\u001b[0m",
      "\u001b[1;31mKeyboardInterrupt\u001b[0m                         Traceback (most recent call last)",
      "Cell \u001b[1;32mIn[4], line 37\u001b[0m\n\u001b[0;32m     33\u001b[0m         model\u001b[39m.\u001b[39mload(folder_name \u001b[39m+\u001b[39m conf_name)\n\u001b[0;32m     36\u001b[0m         \u001b[39mfor\u001b[39;00m _ \u001b[39min\u001b[39;00m \u001b[39mrange\u001b[39m(\u001b[39m100\u001b[39m):\n\u001b[1;32m---> 37\u001b[0m             is_solved \u001b[39m=\u001b[39m play_episode(model, env)\n\u001b[0;32m     38\u001b[0m             \u001b[39mif\u001b[39;00m is_solved: grid[obs_pos_idx][floor_height_idx] \u001b[39m+\u001b[39m\u001b[39m=\u001b[39m \u001b[39m0.01\u001b[39m\n\u001b[0;32m     40\u001b[0m train_info \u001b[39m=\u001b[39m []\n",
      "Cell \u001b[1;32mIn[4], line 12\u001b[0m, in \u001b[0;36mplay_episode\u001b[1;34m(model, env)\u001b[0m\n\u001b[0;32m     10\u001b[0m obs \u001b[39m=\u001b[39m env\u001b[39m.\u001b[39mreset()\n\u001b[0;32m     11\u001b[0m \u001b[39mwhile\u001b[39;00m \u001b[39mnot\u001b[39;00m done:\n\u001b[1;32m---> 12\u001b[0m     action, _ \u001b[39m=\u001b[39m model\u001b[39m.\u001b[39;49mpolicy\u001b[39m.\u001b[39;49mpredict(obs)\n\u001b[0;32m     13\u001b[0m     obs, rewards, done, _ \u001b[39m=\u001b[39m env\u001b[39m.\u001b[39mstep(action\u001b[39m.\u001b[39mitem())\n\u001b[0;32m     14\u001b[0m     episode_return \u001b[39m+\u001b[39m\u001b[39m=\u001b[39m \u001b[39m1\u001b[39m\n",
      "File \u001b[1;32mc:\\Users\\manus\\anaconda3\\envs\\jumping-sb3\\lib\\site-packages\\stable_baselines3\\common\\policies.py:343\u001b[0m, in \u001b[0;36mBasePolicy.predict\u001b[1;34m(self, observation, state, episode_start, deterministic)\u001b[0m\n\u001b[0;32m    340\u001b[0m observation, vectorized_env \u001b[39m=\u001b[39m \u001b[39mself\u001b[39m\u001b[39m.\u001b[39mobs_to_tensor(observation)\n\u001b[0;32m    342\u001b[0m \u001b[39mwith\u001b[39;00m th\u001b[39m.\u001b[39mno_grad():\n\u001b[1;32m--> 343\u001b[0m     actions \u001b[39m=\u001b[39m \u001b[39mself\u001b[39;49m\u001b[39m.\u001b[39;49m_predict(observation, deterministic\u001b[39m=\u001b[39;49mdeterministic)\n\u001b[0;32m    344\u001b[0m \u001b[39m# Convert to numpy, and reshape to the original action shape\u001b[39;00m\n\u001b[0;32m    345\u001b[0m actions \u001b[39m=\u001b[39m actions\u001b[39m.\u001b[39mcpu()\u001b[39m.\u001b[39mnumpy()\u001b[39m.\u001b[39mreshape((\u001b[39m-\u001b[39m\u001b[39m1\u001b[39m,) \u001b[39m+\u001b[39m \u001b[39mself\u001b[39m\u001b[39m.\u001b[39maction_space\u001b[39m.\u001b[39mshape)\n",
      "File \u001b[1;32mc:\\Users\\manus\\anaconda3\\envs\\jumping-sb3\\lib\\site-packages\\stable_baselines3\\common\\policies.py:687\u001b[0m, in \u001b[0;36mActorCriticPolicy._predict\u001b[1;34m(self, observation, deterministic)\u001b[0m\n\u001b[0;32m    679\u001b[0m \u001b[39mdef\u001b[39;00m \u001b[39m_predict\u001b[39m(\u001b[39mself\u001b[39m, observation: th\u001b[39m.\u001b[39mTensor, deterministic: \u001b[39mbool\u001b[39m \u001b[39m=\u001b[39m \u001b[39mFalse\u001b[39;00m) \u001b[39m-\u001b[39m\u001b[39m>\u001b[39m th\u001b[39m.\u001b[39mTensor:\n\u001b[0;32m    680\u001b[0m \u001b[39m    \u001b[39m\u001b[39m\"\"\"\u001b[39;00m\n\u001b[0;32m    681\u001b[0m \u001b[39m    Get the action according to the policy for a given observation.\u001b[39;00m\n\u001b[0;32m    682\u001b[0m \n\u001b[1;32m   (...)\u001b[0m\n\u001b[0;32m    685\u001b[0m \u001b[39m    :return: Taken action according to the policy\u001b[39;00m\n\u001b[0;32m    686\u001b[0m \u001b[39m    \"\"\"\u001b[39;00m\n\u001b[1;32m--> 687\u001b[0m     \u001b[39mreturn\u001b[39;00m \u001b[39mself\u001b[39;49m\u001b[39m.\u001b[39;49mget_distribution(observation)\u001b[39m.\u001b[39mget_actions(deterministic\u001b[39m=\u001b[39mdeterministic)\n",
      "File \u001b[1;32mc:\\Users\\manus\\anaconda3\\envs\\jumping-sb3\\lib\\site-packages\\stable_baselines3\\common\\policies.py:720\u001b[0m, in \u001b[0;36mActorCriticPolicy.get_distribution\u001b[1;34m(self, obs)\u001b[0m\n\u001b[0;32m    713\u001b[0m \u001b[39mdef\u001b[39;00m \u001b[39mget_distribution\u001b[39m(\u001b[39mself\u001b[39m, obs: th\u001b[39m.\u001b[39mTensor) \u001b[39m-\u001b[39m\u001b[39m>\u001b[39m Distribution:\n\u001b[0;32m    714\u001b[0m \u001b[39m    \u001b[39m\u001b[39m\"\"\"\u001b[39;00m\n\u001b[0;32m    715\u001b[0m \u001b[39m    Get the current policy distribution given the observations.\u001b[39;00m\n\u001b[0;32m    716\u001b[0m \n\u001b[0;32m    717\u001b[0m \u001b[39m    :param obs:\u001b[39;00m\n\u001b[0;32m    718\u001b[0m \u001b[39m    :return: the action distribution.\u001b[39;00m\n\u001b[0;32m    719\u001b[0m \u001b[39m    \"\"\"\u001b[39;00m\n\u001b[1;32m--> 720\u001b[0m     features \u001b[39m=\u001b[39m \u001b[39msuper\u001b[39;49m()\u001b[39m.\u001b[39;49mextract_features(obs, \u001b[39mself\u001b[39;49m\u001b[39m.\u001b[39;49mpi_features_extractor)\n\u001b[0;32m    721\u001b[0m     latent_pi \u001b[39m=\u001b[39m \u001b[39mself\u001b[39m\u001b[39m.\u001b[39mmlp_extractor\u001b[39m.\u001b[39mforward_actor(features)\n\u001b[0;32m    722\u001b[0m     \u001b[39mreturn\u001b[39;00m \u001b[39mself\u001b[39m\u001b[39m.\u001b[39m_get_action_dist_from_latent(latent_pi)\n",
      "File \u001b[1;32mc:\\Users\\manus\\anaconda3\\envs\\jumping-sb3\\lib\\site-packages\\stable_baselines3\\common\\policies.py:141\u001b[0m, in \u001b[0;36mBaseModel.extract_features\u001b[1;34m(self, obs, features_extractor)\u001b[0m\n\u001b[0;32m    139\u001b[0m features_extractor \u001b[39m=\u001b[39m features_extractor \u001b[39mor\u001b[39;00m \u001b[39mself\u001b[39m\u001b[39m.\u001b[39mfeatures_extractor\n\u001b[0;32m    140\u001b[0m \u001b[39massert\u001b[39;00m features_extractor \u001b[39mis\u001b[39;00m \u001b[39mnot\u001b[39;00m \u001b[39mNone\u001b[39;00m, \u001b[39m\"\u001b[39m\u001b[39mNo features extractor was set\u001b[39m\u001b[39m\"\u001b[39m\n\u001b[1;32m--> 141\u001b[0m preprocessed_obs \u001b[39m=\u001b[39m preprocess_obs(obs, \u001b[39mself\u001b[39;49m\u001b[39m.\u001b[39;49mobservation_space, normalize_images\u001b[39m=\u001b[39;49m\u001b[39mself\u001b[39;49m\u001b[39m.\u001b[39;49mnormalize_images)\n\u001b[0;32m    142\u001b[0m \u001b[39mreturn\u001b[39;00m features_extractor(preprocessed_obs)\n",
      "File \u001b[1;32mc:\\Users\\manus\\anaconda3\\envs\\jumping-sb3\\lib\\site-packages\\stable_baselines3\\common\\preprocessing.py:109\u001b[0m, in \u001b[0;36mpreprocess_obs\u001b[1;34m(obs, observation_space, normalize_images)\u001b[0m\n\u001b[0;32m     97\u001b[0m \u001b[39m\u001b[39m\u001b[39m\"\"\"\u001b[39;00m\n\u001b[0;32m     98\u001b[0m \u001b[39mPreprocess observation to be to a neural network.\u001b[39;00m\n\u001b[0;32m     99\u001b[0m \u001b[39mFor images, it normalizes the values by dividing them by 255 (to have values in [0, 1])\u001b[39;00m\n\u001b[1;32m   (...)\u001b[0m\n\u001b[0;32m    106\u001b[0m \u001b[39m:return:\u001b[39;00m\n\u001b[0;32m    107\u001b[0m \u001b[39m\"\"\"\u001b[39;00m\n\u001b[0;32m    108\u001b[0m \u001b[39mif\u001b[39;00m \u001b[39misinstance\u001b[39m(observation_space, spaces\u001b[39m.\u001b[39mBox):\n\u001b[1;32m--> 109\u001b[0m     \u001b[39mif\u001b[39;00m normalize_images \u001b[39mand\u001b[39;00m is_image_space(observation_space):\n\u001b[0;32m    110\u001b[0m         \u001b[39mreturn\u001b[39;00m obs\u001b[39m.\u001b[39mfloat() \u001b[39m/\u001b[39m \u001b[39m255.0\u001b[39m\n\u001b[0;32m    111\u001b[0m     \u001b[39mreturn\u001b[39;00m obs\u001b[39m.\u001b[39mfloat()\n",
      "File \u001b[1;32mc:\\Users\\manus\\anaconda3\\envs\\jumping-sb3\\lib\\site-packages\\stable_baselines3\\common\\preprocessing.py:55\u001b[0m, in \u001b[0;36mis_image_space\u001b[1;34m(observation_space, check_channels, normalized_image)\u001b[0m\n\u001b[0;32m     52\u001b[0m     \u001b[39mreturn\u001b[39;00m \u001b[39mFalse\u001b[39;00m\n\u001b[0;32m     54\u001b[0m \u001b[39m# Check the value range\u001b[39;00m\n\u001b[1;32m---> 55\u001b[0m incorrect_bounds \u001b[39m=\u001b[39m np\u001b[39m.\u001b[39many(observation_space\u001b[39m.\u001b[39mlow \u001b[39m!=\u001b[39m \u001b[39m0\u001b[39m) \u001b[39mor\u001b[39;00m np\u001b[39m.\u001b[39many(observation_space\u001b[39m.\u001b[39;49mhigh \u001b[39m!=\u001b[39;49m \u001b[39m255\u001b[39;49m)\n\u001b[0;32m     56\u001b[0m \u001b[39mif\u001b[39;00m check_bounds \u001b[39mand\u001b[39;00m incorrect_bounds:\n\u001b[0;32m     57\u001b[0m     \u001b[39mreturn\u001b[39;00m \u001b[39mFalse\u001b[39;00m\n",
      "\u001b[1;31mKeyboardInterrupt\u001b[0m: "
     ]
    }
   ],
   "source": [
    "render = True\n",
    "folder_name: str = './best-ckpts/sb3/'\n",
    "\n",
    "def play_episode(model: PPO, env: VanillaEnv)->bool:\n",
    "    \"\"\"\n",
    "    returns true of the episode is concidered solved\n",
    "    \"\"\"\n",
    "    done = False\n",
    "    episode_return = 0\n",
    "    obs = env.reset()\n",
    "    while not done:\n",
    "        action, _ = model.policy.predict(obs)\n",
    "        obs, rewards, done, _ = env.step(action.item())\n",
    "        episode_return += 1\n",
    "        if render: env.render()\n",
    "    return rewards > 100\n",
    "\n",
    "for conf_name in os.listdir(folder_name):\n",
    "    print(\"Loading model \", conf_name)\n",
    "    # todo DELETE THIS STATEMENT\n",
    "    if 'vanilla' not in conf_name: continue\n",
    "    grid = np.zeros((len(obstacle_pos), len(floor_height)))\n",
    "\n",
    "    for obs_pos_idx in range(len(obstacle_pos)):\n",
    "        for floor_height_idx in range(len(floor_height)):\n",
    "            curr_obs_pos = obstacle_pos[obs_pos_idx]\n",
    "            curr_floor_height = floor_height[floor_height_idx]\n",
    "\n",
    "            # todo load the model and check performance for all configurations\n",
    "            env = VanillaEnv([(curr_obs_pos, curr_floor_height),], rendering=render)\n",
    "\n",
    "            model = PPO(\"MlpPolicy\", env, tensorboard_log=\"./tensorboard\")\n",
    "            model.load(folder_name + conf_name)\n",
    "\n",
    "\n",
    "            for _ in range(100):\n",
    "                is_solved = play_episode(model, env)\n",
    "                if is_solved: grid[obs_pos_idx][floor_height_idx] += 0.01\n",
    "    \n",
    "    train_info = []\n",
    "    if 'narrow' in conf_name:\n",
    "        train_info = [\n",
    "            (26, 12), (29, 12), (31, 12), (34, 12),\n",
    "            (26, 20), (29, 20), (31, 20), (34, 20),\n",
    "            (26, 28), (29, 28), (31, 28), (34, 28)]\n",
    "    else:\n",
    "        train_info = [\n",
    "            (22, 8), (27, 8), (32, 8), (38, 8),\n",
    "            (22, 20), (27, 20), (32, 20), (38, 20),\n",
    "            (22, 32), (27, 32), (32, 32), (38, 32)]\n",
    "\n",
    "    fig = plot_evaluation_grid(grid, map_conf_to_index(train_info))\n",
    "    fig.suptitle(conf_name)\n",
    "    plt.show()"
   ]
  },
  {
   "cell_type": "code",
   "execution_count": null,
   "id": "2a1ce6e4",
   "metadata": {},
   "outputs": [],
   "source": []
  }
 ],
 "metadata": {
  "kernelspec": {
   "display_name": "Python 3 (ipykernel)",
   "language": "python",
   "name": "python3"
  },
  "language_info": {
   "codemirror_mode": {
    "name": "ipython",
    "version": 3
   },
   "file_extension": ".py",
   "mimetype": "text/x-python",
   "name": "python",
   "nbconvert_exporter": "python",
   "pygments_lexer": "ipython3",
   "version": "3.9.7"
  }
 },
 "nbformat": 4,
 "nbformat_minor": 5
}
