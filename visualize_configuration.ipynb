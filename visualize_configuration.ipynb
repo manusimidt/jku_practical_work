{
 "cells": [
  {
   "cell_type": "code",
   "execution_count": 4,
   "id": "0433f93a",
   "metadata": {},
   "outputs": [],
   "source": [
    "import matplotlib.pyplot as plt\n",
    "import numpy as np"
   ]
  },
  {
   "cell_type": "code",
   "execution_count": 32,
   "id": "5b511ea7",
   "metadata": {},
   "outputs": [
    {
     "data": {
      "image/png": "[encoded data removed]",
      "text/plain": [
       "<Figure size 700x900 with 1 Axes>"
      ]
     },
     "metadata": {},
     "output_type": "display_data"
    }
   ],
   "source": [
    "def plot_evaluation_grid(grid, training_positions, min_obs_position,\n",
    "                         min_floor_height):\n",
    "    \"\"\"Plots the evaluation grid.\"\"\"\n",
    "    fig, ax = plt.subplots(figsize=(7, 9))\n",
    "    grid_x, grid_y = grid.shape\n",
    "    extent = (0, grid_x, grid_y, 0)\n",
    "    ax.imshow(grid.T, extent=extent, origin='lower', cmap='copper')\n",
    "\n",
    "    x_ticks = np.arange(grid_x)\n",
    "    y_ticks = np.arange(grid_y)\n",
    "    ax.set_xticks(x_ticks)\n",
    "    ax.set_yticks(y_ticks)\n",
    "\n",
    "    ax.tick_params(labelbottom=False, labelleft=False)\n",
    "    ax.set_ylabel(\"Floor height\")\n",
    "    ax.set_xlabel(\"Obstacle position\")\n",
    "    \n",
    "    # Loop over data dimensions and create text annotations.\n",
    "    for (obstacle_pos, floor_height) in training_positions:\n",
    "        pos_index = obstacle_pos - min_obs_position\n",
    "        height_index = floor_height - min_floor_height\n",
    "        ax.text(\n",
    "            pos_index + 0.5,\n",
    "            height_index + 0.5,\n",
    "            'T',\n",
    "            ha='center',\n",
    "            va='center',\n",
    "            color='r')\n",
    "\n",
    "    ax.grid(color='w', linewidth=1)\n",
    "    fig.tight_layout()\n",
    "    return fig\n",
    "\n",
    "\n",
    "grid = np.zeros((26, 11))\n",
    "grid[1] = np.ones(11)\n",
    "grid[0] = np.ones(11)\n",
    "grid[-1] = np.ones(11)\n",
    "grid[-2] = np.ones(11)\n",
    "\n",
    "fig = plot_evaluation_grid(grid, [(1 + 10, 1 + 23), (1 + 10, 2 + 23)], 10, 23)\n",
    "plt.show()\n"
   ]
  }
 ],
 "metadata": {
  "kernelspec": {
   "display_name": "Python 3 (ipykernel)",
   "language": "python",
   "name": "python3"
  },
  "language_info": {
   "codemirror_mode": {
    "name": "ipython",
    "version": 3
   },
   "file_extension": ".py",
   "mimetype": "text/x-python",
   "name": "python",
   "nbconvert_exporter": "python",
   "pygments_lexer": "ipython3",
   "version": "3.9.7"
  }
 },
 "nbformat": 4,
 "nbformat_minor": 5
}
