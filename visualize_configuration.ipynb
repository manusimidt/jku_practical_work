{
 "cells": [
  {
   "cell_type": "code",
   "execution_count": 17,
   "id": "0433f93a",
   "metadata": {},
   "outputs": [],
   "source": [
    "import os\n",
    "import matplotlib.pyplot as plt\n",
    "import numpy as np\n",
    "import itertools\n",
    "from rl.ppo.policies import ActorCriticNet\n",
    "from rl.ppo.ppo import PPO\n",
    "import torch\n",
    "from torch import optim\n",
    "from env import VanillaEnv\n",
    "from rl.common.utils import set_seed\n",
    "import time"
   ]
  },
  {
   "cell_type": "code",
   "execution_count": 18,
   "id": "5b511ea7",
   "metadata": {},
   "outputs": [
    {
     "data": {
      "image/png": "[encoded data removed]",
      "text/plain": [
       "<Figure size 800x400 with 1 Axes>"
      ]
     },
     "metadata": {},
     "output_type": "display_data"
    }
   ],
   "source": [
    "def plot_evaluation_grid(grid, training_positions):\n",
    "    \"\"\"Plots the evaluation grid.\"\"\"\n",
    "    fig, ax = plt.subplots(figsize=(8, 4))\n",
    "    grid_x, grid_y = grid.shape\n",
    "    extent = (0, grid_x, grid_y, 0)\n",
    "    ax.imshow(grid.T, extent=extent, origin='lower', cmap='copper')\n",
    "\n",
    "    x_ticks = np.arange(grid_x)\n",
    "    y_ticks = np.arange(grid_y)\n",
    "    ax.set_xticks(x_ticks)\n",
    "    ax.set_yticks(y_ticks)\n",
    "\n",
    "    # ax.tick_params(labelbottom=False, labelleft=False)\n",
    "    ax.set_ylabel(\"Floor height\")\n",
    "    ax.set_xlabel(\"Obstacle position\")\n",
    "    \n",
    "    # Loop over data dimensions and create text annotations.\n",
    "    for (obstacle_pos, floor_height) in training_positions:\n",
    "        pos_index = obstacle_pos\n",
    "        height_index = floor_height\n",
    "        ax.text(\n",
    "            pos_index + 0.5,\n",
    "            height_index + 0.5,\n",
    "            'T',\n",
    "            ha='center',\n",
    "            va='center',\n",
    "            color='r',\n",
    "            fontsize='large',\n",
    "            fontweight = 'bold')\n",
    "\n",
    "    ax.grid(color='w', linewidth=1)\n",
    "    fig.tight_layout()\n",
    "    return fig\n",
    "\n",
    "n_obstacle_pos = 26 # how many obstacle position you want to try out (paper: 27, max: 30)\n",
    "n_floor_heights = 11 # how many floor heights you want to try out (paper: 11, max: 40)\n",
    "obstacle_pos = np.rint(np.linspace(VanillaEnv.min_obstacle_pos, VanillaEnv.max_obstacle_pos, n_obstacle_pos)).astype(np.int8)\n",
    "floor_height = np.rint(np.linspace(VanillaEnv.min_floor_height, VanillaEnv.max_floor_height, n_floor_heights)).astype(np.int8)\n",
    "\n",
    "grid = np.zeros((len(obstacle_pos), len(floor_height)))\n",
    "\n",
    "grid[1] = np.ones(11)\n",
    "grid[0] = np.ones(11)\n",
    "grid[-1] = np.ones(11)\n",
    "grid[-2] = np.ones(11)\n",
    "\n",
    "fig = plot_evaluation_grid(grid, [(0, 1), [2,2], [10,10]])\n",
    "fig.suptitle(\"Just a test\")\n",
    "plt.show()\n"
   ]
  },
  {
   "cell_type": "code",
   "execution_count": 19,
   "id": "e12970db",
   "metadata": {},
   "outputs": [],
   "source": [
    "def map_conf_to_index(confs:list)->list:\n",
    "    \"\"\"\n",
    "    Takes a list of configurations (i.e.: [(14, 0), (25, 20)]) and returns the \n",
    "    indices that correspond to the grid (i.e.: [(0, 0), (8,5)])\n",
    "    \"\"\"\n",
    "    res = []\n",
    "    for conf in confs:\n",
    "        x = np.where(obstacle_pos == conf[0])[0]\n",
    "        y = np.where(floor_height == conf[1])[0]\n",
    "        assert len(x) == 1 and len(y) == 1, \"Something wrong with the grid. Make sure the configurations are defined equally while training & evaluating\"\n",
    "        res.append((x[0], y[0]))\n",
    "    return res"
   ]
  },
  {
   "cell_type": "code",
   "execution_count": 20,
   "id": "f8bef5d3",
   "metadata": {},
   "outputs": [
    {
     "ename": "",
     "evalue": "",
     "output_type": "error",
     "traceback": [
      "\u001b[1;31mThe Kernel crashed while executing code in the the current cell or a previous cell. Please review the code in the cell(s) to identify a possible cause of the failure. Click <a href='https://aka.ms/vscodeJupyterKernelCrash'>here</a> for more info. View Jupyter <a href='command:jupyter.viewOutput'>log</a> for further details."
     ]
    }
   ],
   "source": [
    "render = False\n",
    "folder_name: str = './ckpts-final/'\n",
    "\n",
    "def play_episode(model: PPO, env: VanillaEnv)->bool:\n",
    "    \"\"\"\n",
    "    returns true of the episode is concidered solved\n",
    "    \"\"\"\n",
    "    done = False\n",
    "    episode_return = 0\n",
    "    obs = env.reset()\n",
    "    while not done:\n",
    "        action, _ = model.policy.act_deterministic(torch.FloatTensor(obs).unsqueeze(0))\n",
    "        obs, rewards, done, info = env.step(action.item())\n",
    "        episode_return += rewards\n",
    "        if render: env.render()\n",
    "    return not info['collision']\n",
    "\n",
    "for conf_name in os.listdir(folder_name):\n",
    "    if not conf_name.endswith('.pth'): continue\n",
    "    img_name = conf_name.replace('.pth', '-eval.png')\n",
    "\n",
    "    # check if the file already exists\n",
    "    if img_name in os.listdir(folder_name): continue\n",
    "    \n",
    "    print(\"Loading model \", conf_name)\n",
    "    grid = np.zeros((len(obstacle_pos), len(floor_height)))\n",
    "\n",
    "    solved_counter, failed_counter = 0,0\n",
    "\n",
    "    for obs_pos_idx in range(len(obstacle_pos)):\n",
    "        for floor_height_idx in range(len(floor_height)):\n",
    "            curr_obs_pos = obstacle_pos[obs_pos_idx]\n",
    "            curr_floor_height = floor_height[floor_height_idx]\n",
    "\n",
    "            # todo load the model and check performance for all configurations\n",
    "            env = VanillaEnv([(curr_obs_pos, curr_floor_height),], rendering=render)\n",
    "            set_seed(env, 31)\n",
    "            policy: ActorCriticNet = ActorCriticNet(obs_space=(1, 60, 60), action_space=2, hidden_size=128)\n",
    "            optimizer = optim.Adam(policy.parameters(), lr=0.001)\n",
    "\n",
    "            model = PPO(policy, env, optimizer, seed=31)\n",
    "            train_info = model.load(folder_name + conf_name)\n",
    "\n",
    "\n",
    "            for _ in range(1):\n",
    "                is_solved = play_episode(model, env)\n",
    "                if is_solved: \n",
    "                    grid[obs_pos_idx][floor_height_idx] += 1\n",
    "                    solved_counter += 1\n",
    "                else:\n",
    "                    failed_counter += 1\n",
    "\n",
    "    acc = round(solved_counter * 100 / (solved_counter + failed_counter))\n",
    "    fig = plot_evaluation_grid(np.fliplr(grid), map_conf_to_index(train_info['conf']))\n",
    "    fig.suptitle(conf_name.replace('.pth', '') + f\"   acc: {acc}%\")\n",
    "    plt.savefig(folder_name + img_name)\n",
    "    plt.show()"
   ]
  }
 ],
 "metadata": {
  "kernelspec": {
   "display_name": "Python 3 (ipykernel)",
   "language": "python",
   "name": "python3"
  },
  "language_info": {
   "codemirror_mode": {
    "name": "ipython",
    "version": 3
   },
   "file_extension": ".py",
   "mimetype": "text/x-python",
   "name": "python",
   "nbconvert_exporter": "python",
   "pygments_lexer": "ipython3",
   "version": "3.9.7"
  }
 },
 "nbformat": 4,
 "nbformat_minor": 5
}
