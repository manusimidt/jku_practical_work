{
 "cells": [
  {
   "cell_type": "code",
   "execution_count": 1,
   "id": "0f466199",
   "metadata": {},
   "outputs": [
    {
     "name": "stdout",
     "output_type": "stream",
     "text": [
      "pygame 2.1.2 (SDL 2.0.18, Python 3.9.7)\n",
      "Hello from the pygame community. https://www.pygame.org/contribute.html\n"
     ]
    }
   ],
   "source": [
    "import gym\n",
    "import gym_jumping_task\n",
    "from gym_jumping_task.envs.jumping_task import JumpTaskEnv\n",
    "import matplotlib.pyplot as plt\n",
    "import numpy as np\n",
    "import torch\n",
    "from torchvision.utils import make_grid\n",
    "from env import VanillaEnv\n",
    "from rl.common.buffer2 import Transition, Episode, RolloutBuffer"
   ]
  },
  {
   "cell_type": "code",
   "execution_count": 2,
   "id": "d6ed4db5",
   "metadata": {},
   "outputs": [
    {
     "name": "stdout",
     "output_type": "stream",
     "text": [
      "Episode 0 return 156.0\n",
      "Episode 100 return 156.0\n",
      "Episode 200 return 156.0\n",
      "Episode 300 return 156.0\n",
      "Episode 400 return 156.0\n",
      "Episode 500 return 156.0\n",
      "Episode 600 return 156.0\n",
      "Episode 700 return 156.0\n",
      "Episode 800 return 156.0\n",
      "Episode 900 return 156.0\n"
     ]
    }
   ],
   "source": [
    "env = VanillaEnv(configurations=[\n",
    "        (22, 8), (27, 8), (32, 8), (38, 8),\n",
    "        (22, 20), (27, 20), (32, 20), (38, 20),\n",
    "        (22, 32), (27, 32), (32, 32), (38, 32),\n",
    "],rendering=True)\n",
    "\n",
    "n_iterations = 10_00\n",
    "gamma = 0.99\n",
    "\n",
    "buffer = RolloutBuffer(capacity=n_iterations)\n",
    "\n",
    "for i in range(n_iterations):\n",
    "    done = False\n",
    "    episode = Episode(discount=gamma)\n",
    "    obs = env.reset()\n",
    "    obstacle_position = env.actualEnv.obstacle_position;\n",
    "    jumping_pixel = obstacle_position-14;\n",
    "    step = 0\n",
    "    episode_reward = 0\n",
    "    while not done:\n",
    "        action = 1 if step==jumping_pixel else 0\n",
    "        obs, reward, done, _ = env.step(action)\n",
    "        episode.append(Transition(obs, action, reward, 0))\n",
    "        env.render()\n",
    "        step +=1\n",
    "    buffer.add(episode)\n",
    "    if i % 100==0: print(f\"Episode {i} return {np.sum(episode.rewards())}\")\n",
    "    "
   ]
  },
  {
   "cell_type": "code",
   "execution_count": null,
   "id": "d4ab50b5",
   "metadata": {},
   "outputs": [],
   "source": []
  }
 ],
 "metadata": {
  "kernelspec": {
   "display_name": "Python 3 (ipykernel)",
   "language": "python",
   "name": "python3"
  },
  "language_info": {
   "codemirror_mode": {
    "name": "ipython",
    "version": 3
   },
   "file_extension": ".py",
   "mimetype": "text/x-python",
   "name": "python",
   "nbconvert_exporter": "python",
   "pygments_lexer": "ipython3",
   "version": "3.9.7"
  }
 },
 "nbformat": 4,
 "nbformat_minor": 5
}
