{
 "cells": [
  {
   "cell_type": "code",
   "execution_count": 43,
   "id": "0f466199",
   "metadata": {},
   "outputs": [],
   "source": [
    "import gym\n",
    "import gym_jumping_task\n",
    "from gym_jumping_task.envs.jumping_task import JumpTaskEnv\n",
    "import matplotlib.pyplot as plt\n",
    "import numpy as np\n",
    "from torchvision.utils import make_grid\n",
    "from env import VanillaEnv\n",
    "from rl.common.buffer2 import Transition, Episode, RolloutBuffer\n",
    "from rl.ppo.policies import ActorCriticNet\n",
    "import torch\n",
    "import torch.optim as optim\n",
    "import torch.nn as nn\n",
    "import torch.nn.functional as F\n",
    "from torch.utils.data import Dataset, DataLoader\n",
    "from typing import List"
   ]
  },
  {
   "cell_type": "code",
   "execution_count": 44,
   "id": "d6ed4db5",
   "metadata": {},
   "outputs": [
    {
     "name": "stdout",
     "output_type": "stream",
     "text": [
      "Episode 0 return 156.0\n",
      "Episode 100 return 156.0\n",
      "Episode 200 return 156.0\n",
      "Episode 300 return 156.0\n",
      "Episode 400 return 156.0\n",
      "Episode 500 return 156.0\n",
      "Episode 600 return 156.0\n",
      "Episode 700 return 156.0\n",
      "Episode 800 return 156.0\n",
      "Episode 900 return 156.0\n"
     ]
    }
   ],
   "source": [
    "env = VanillaEnv(configurations=[\n",
    "        (22, 8), (27, 8), (32, 8), (38, 8),\n",
    "        (22, 20), (27, 20), (32, 20), (38, 20),\n",
    "        (22, 32), (27, 32), (32, 32), (38, 32),\n",
    "],rendering=True)\n",
    "\n",
    "n_iterations = 10_00\n",
    "gamma = 0.99\n",
    "\n",
    "episodes: List[Episode] = []\n",
    "\n",
    "for i in range(n_iterations):\n",
    "    done = False\n",
    "    episode = Episode(discount=gamma)\n",
    "    obs = env.reset()\n",
    "    obstacle_position = env.actualEnv.obstacle_position;\n",
    "    jumping_pixel = obstacle_position-14;\n",
    "    step = 0\n",
    "    episode_reward = 0\n",
    "    while not done:\n",
    "        action = 1 if step==jumping_pixel else 0\n",
    "        obs, reward, done, _ = env.step(action)\n",
    "        episode.append(Transition(obs, action, reward, 0))\n",
    "        env.render()\n",
    "        step +=1\n",
    "    episodes.append(episode)\n",
    "    if i % 100==0: print(f\"Episode {i} return {np.sum(episode.rewards())}\")\n",
    "    "
   ]
  },
  {
   "cell_type": "code",
   "execution_count": 45,
   "id": "cc4b1b87",
   "metadata": {},
   "outputs": [
    {
     "name": "stdout",
     "output_type": "stream",
     "text": [
      "Shape of X: torch.Size([56000, 1, 60, 60]) dtype: torch.uint8\n",
      "Shape of Y: torch.Size([56000, 2]) dtype: torch.float64\n"
     ]
    }
   ],
   "source": [
    "# get the states, returns and actions out of the episodes\n",
    "states, actions, values = [], [], []\n",
    "for episode in episodes:\n",
    "    states += episode.states()\n",
    "    actions += episode.actions()\n",
    "    values += episode.calculate_return()\n",
    "\n",
    "states, actions, values = np.array(states), np.array(actions), np.array(values)\n",
    "# vertically add actions and values\n",
    "targets = np.column_stack((actions, values))\n",
    "\n",
    "X = torch.tensor(states)\n",
    "Y = torch.tensor(targets)\n",
    "\n",
    "print(f\"Shape of X: {X.shape} dtype: {X.dtype}\")\n",
    "print(f\"Shape of Y: {Y.shape} dtype: {Y.dtype}\")"
   ]
  },
  {
   "cell_type": "code",
   "execution_count": 52,
   "id": "6b4ff957",
   "metadata": {},
   "outputs": [
    {
     "name": "stdout",
     "output_type": "stream",
     "text": [
      "created train loader and test loader with sizes 700 and 175 respectively\n"
     ]
    }
   ],
   "source": [
    "class BCDataset(Dataset):\n",
    "    def __init__(self, x, y):\n",
    "        super().__init__()\n",
    "        assert x.shape[0] == y.shape[0]\n",
    "        self.x = x\n",
    "        self.y = y\n",
    "\n",
    "    def __len__(self):\n",
    "        return self.y.shape[0]\n",
    "    \n",
    "    def __getitem__(self, index):\n",
    "        return self.x[index], self.y[index]\n",
    "\n",
    "data: BCDataset = BCDataset(X, Y)\n",
    "train_set, val_set = torch.utils.data.random_split(data, [int(len(data)*0.8), int(len(data)*0.2)])\n",
    "\n",
    "trainloader:DataLoader = DataLoader(train_set, batch_size=64, shuffle=True)\n",
    "testloader:DataLoader = DataLoader(val_set, batch_size=64, shuffle=True)"
   ]
  },
  {
   "cell_type": "code",
   "execution_count": 73,
   "id": "d4ab50b5",
   "metadata": {},
   "outputs": [],
   "source": [
    "def train(net:ActorCriticNet, dataLoader: DataLoader, \n",
    "          optim_actor, optim_critic,\n",
    "          loss_actor, loss_critic\n",
    "          ):\n",
    "    device = next(net.parameters()).device\n",
    "\n",
    "    for batch in dataLoader:\n",
    "        # X is the observation\n",
    "        # \n",
    "        X, y = batch[0].to(device), batch[1].to(device)\n",
    "        pred_action_logits = net.actor.forward(X)\n",
    "        pred_values = net.critic.forward(X)\n",
    "\n",
    "        actor_error = loss_actor(pred_action_logits, torch.tensor(y[:,0], dtype=torch.int64))\n",
    "        critic_error = loss_critic(pred_values, y[:,1])\n",
    "\n",
    "        optim_actor.zero_grad()\n",
    "        actor_error.backward()\n",
    "        optim_actor.step()\n",
    "\n",
    "        optim_critic.zero_grad()\n",
    "        critic_error.backward()\n",
    "        optim_critic.step()\n",
    "\n",
    "\n"
   ]
  },
  {
   "cell_type": "code",
   "execution_count": 74,
   "id": "ce748fc3",
   "metadata": {},
   "outputs": [
    {
     "name": "stderr",
     "output_type": "stream",
     "text": [
      "C:\\Users\\manus\\AppData\\Local\\Temp\\ipykernel_23480\\3862726229.py:14: UserWarning: To copy construct from a tensor, it is recommended to use sourceTensor.clone().detach() or sourceTensor.clone().detach().requires_grad_(True), rather than torch.tensor(sourceTensor).\n",
      "  actor_error = loss_actor(pred_action_logits, torch.tensor(y[:,0], dtype=torch.int64))\n"
     ]
    },
    {
     "ename": "RuntimeError",
     "evalue": "Found dtype Double but expected Float",
     "output_type": "error",
     "traceback": [
      "\u001b[1;31m---------------------------------------------------------------------------\u001b[0m",
      "\u001b[1;31mRuntimeError\u001b[0m                              Traceback (most recent call last)",
      "Cell \u001b[1;32mIn[74], line 9\u001b[0m\n\u001b[0;32m      6\u001b[0m loss_actor \u001b[39m=\u001b[39m nn\u001b[39m.\u001b[39mCrossEntropyLoss()\n\u001b[0;32m      7\u001b[0m loss_critic \u001b[39m=\u001b[39m nn\u001b[39m.\u001b[39mMSELoss()\n\u001b[1;32m----> 9\u001b[0m train(model, trainloader, optim_actor, optim_critic, loss_actor, loss_critic)\n",
      "Cell \u001b[1;32mIn[73], line 22\u001b[0m, in \u001b[0;36mtrain\u001b[1;34m(net, dataLoader, optim_actor, optim_critic, loss_actor, loss_critic)\u001b[0m\n\u001b[0;32m     19\u001b[0m optim_actor\u001b[39m.\u001b[39mstep()\n\u001b[0;32m     21\u001b[0m optim_critic\u001b[39m.\u001b[39mzero_grad()\n\u001b[1;32m---> 22\u001b[0m critic_error\u001b[39m.\u001b[39;49mbackward()\n\u001b[0;32m     23\u001b[0m optim_critic\u001b[39m.\u001b[39mstep()\n",
      "File \u001b[1;32mc:\\Users\\manus\\anaconda3\\envs\\jumping-sb3\\lib\\site-packages\\torch\\_tensor.py:488\u001b[0m, in \u001b[0;36mTensor.backward\u001b[1;34m(self, gradient, retain_graph, create_graph, inputs)\u001b[0m\n\u001b[0;32m    478\u001b[0m \u001b[39mif\u001b[39;00m has_torch_function_unary(\u001b[39mself\u001b[39m):\n\u001b[0;32m    479\u001b[0m     \u001b[39mreturn\u001b[39;00m handle_torch_function(\n\u001b[0;32m    480\u001b[0m         Tensor\u001b[39m.\u001b[39mbackward,\n\u001b[0;32m    481\u001b[0m         (\u001b[39mself\u001b[39m,),\n\u001b[1;32m   (...)\u001b[0m\n\u001b[0;32m    486\u001b[0m         inputs\u001b[39m=\u001b[39minputs,\n\u001b[0;32m    487\u001b[0m     )\n\u001b[1;32m--> 488\u001b[0m torch\u001b[39m.\u001b[39;49mautograd\u001b[39m.\u001b[39;49mbackward(\n\u001b[0;32m    489\u001b[0m     \u001b[39mself\u001b[39;49m, gradient, retain_graph, create_graph, inputs\u001b[39m=\u001b[39;49minputs\n\u001b[0;32m    490\u001b[0m )\n",
      "File \u001b[1;32mc:\\Users\\manus\\anaconda3\\envs\\jumping-sb3\\lib\\site-packages\\torch\\autograd\\__init__.py:197\u001b[0m, in \u001b[0;36mbackward\u001b[1;34m(tensors, grad_tensors, retain_graph, create_graph, grad_variables, inputs)\u001b[0m\n\u001b[0;32m    192\u001b[0m     retain_graph \u001b[39m=\u001b[39m create_graph\n\u001b[0;32m    194\u001b[0m \u001b[39m# The reason we repeat same the comment below is that\u001b[39;00m\n\u001b[0;32m    195\u001b[0m \u001b[39m# some Python versions print out the first line of a multi-line function\u001b[39;00m\n\u001b[0;32m    196\u001b[0m \u001b[39m# calls in the traceback and some print out the last line\u001b[39;00m\n\u001b[1;32m--> 197\u001b[0m Variable\u001b[39m.\u001b[39;49m_execution_engine\u001b[39m.\u001b[39;49mrun_backward(  \u001b[39m# Calls into the C++ engine to run the backward pass\u001b[39;49;00m\n\u001b[0;32m    198\u001b[0m     tensors, grad_tensors_, retain_graph, create_graph, inputs,\n\u001b[0;32m    199\u001b[0m     allow_unreachable\u001b[39m=\u001b[39;49m\u001b[39mTrue\u001b[39;49;00m, accumulate_grad\u001b[39m=\u001b[39;49m\u001b[39mTrue\u001b[39;49;00m)\n",
      "\u001b[1;31mRuntimeError\u001b[0m: Found dtype Double but expected Float"
     ]
    }
   ],
   "source": [
    "lr = 0.004\n",
    "\n",
    "model = ActorCriticNet();\n",
    "optim_actor = optim.Adam(model.actor.parameters(), lr=lr);\n",
    "optim_critic = optim.Adam(model.critic.parameters(), lr=lr)\n",
    "loss_actor = nn.CrossEntropyLoss()\n",
    "loss_critic = nn.MSELoss()\n",
    "                       \n",
    "train(model, trainloader, optim_actor, optim_critic, loss_actor, loss_critic)"
   ]
  }
 ],
 "metadata": {
  "kernelspec": {
   "display_name": "Python 3 (ipykernel)",
   "language": "python",
   "name": "python3"
  },
  "language_info": {
   "codemirror_mode": {
    "name": "ipython",
    "version": 3
   },
   "file_extension": ".py",
   "mimetype": "text/x-python",
   "name": "python",
   "nbconvert_exporter": "python",
   "pygments_lexer": "ipython3",
   "version": "3.9.7"
  }
 },
 "nbformat": 4,
 "nbformat_minor": 5
}
