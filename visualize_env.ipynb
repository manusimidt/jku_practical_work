{
 "cells": [
  {
   "cell_type": "code",
   "execution_count": 1,
   "id": "24edbb41",
   "metadata": {},
   "outputs": [
    {
     "name": "stdout",
     "output_type": "stream",
     "text": [
      "pygame 2.1.2 (SDL 2.0.18, Python 3.9.7)\n",
      "Hello from the pygame community. https://www.pygame.org/contribute.html\n"
     ]
    }
   ],
   "source": [
    "import gym\n",
    "import gym_jumping_task\n",
    "from gym_jumping_task.envs.jumping_task import JumpTaskEnv\n",
    "import matplotlib.pyplot as plt\n",
    "import numpy as np\n",
    "import torch\n",
    "from torchvision.utils import make_grid\n",
    "import torch.nn as nn"
   ]
  },
  {
   "cell_type": "code",
   "execution_count": 2,
   "id": "4f4ae6cd",
   "metadata": {},
   "outputs": [
    {
     "name": "stdout",
     "output_type": "stream",
     "text": [
      "(60, 60)\n"
     ]
    },
    {
     "data": {
      "text/plain": [
       "array([[1., 1., 1., ..., 1., 1., 1.],\n",
       "       [1., 0., 0., ..., 0., 0., 1.],\n",
       "       [1., 0., 0., ..., 0., 0., 1.],\n",
       "       ...,\n",
       "       [1., 0., 0., ..., 0., 0., 1.],\n",
       "       [1., 0., 0., ..., 0., 0., 1.],\n",
       "       [1., 1., 1., ..., 1., 1., 1.]], dtype=float32)"
      ]
     },
     "execution_count": 2,
     "metadata": {},
     "output_type": "execute_result"
    }
   ],
   "source": [
    "device = torch.device('cpu')\n",
    "\n",
    "env = JumpTaskEnv(scr_w=60, scr_h=60)\n",
    "observation = env._reset(floor_height=30, obstacle_position=30)\n",
    "print(observation.shape)\n",
    "observation"
   ]
  },
  {
   "cell_type": "code",
   "execution_count": 5,
   "id": "a8ecc8a9",
   "metadata": {},
   "outputs": [
    {
     "data": {
      "text/plain": [
       "<matplotlib.image.AxesImage at 0x1163f99bc40>"
      ]
     },
     "execution_count": 5,
     "metadata": {},
     "output_type": "execute_result"
    },
    {
     "data": {
      "image/png": "[encoded data removed]",
      "text/plain": [
       "<Figure size 640x480 with 1 Axes>"
      ]
     },
     "metadata": {},
     "output_type": "display_data"
    }
   ],
   "source": [
    "plt.imshow(np.flipud(observation), cmap='gray', vmin=0, vmax=1)"
   ]
  },
  {
   "cell_type": "code",
   "execution_count": 6,
   "id": "f3413cb7",
   "metadata": {},
   "outputs": [],
   "source": [
    "def show_imgs(x,max_display=16):\n",
    "    grid = make_grid(torch.from_numpy(x[:max_display]),4).permute(1,2,0).cpu().numpy()\n",
    "    plt.xticks([])\n",
    "    plt.yticks([])\n",
    "    plt.imshow(grid)"
   ]
  },
  {
   "cell_type": "markdown",
   "id": "6789f5c7",
   "metadata": {},
   "source": [
    "### Environment Configurations"
   ]
  },
  {
   "cell_type": "code",
   "execution_count": 16,
   "id": "22214adc",
   "metadata": {},
   "outputs": [
    {
     "data": {
      "image/png": "[encoded data removed]",
      "text/plain": [
       "<Figure size 640x480 with 1 Axes>"
      ]
     },
     "metadata": {},
     "output_type": "display_data"
    }
   ],
   "source": [
    "configurations = [\n",
    "    (5,14),\n",
    "    (5,20),\n",
    "    (5,30),\n",
    "    (5,40),    \n",
    "    (10,20),\n",
    "    (20,20),\n",
    "    (30,20),\n",
    "    (40,20),\n",
    "]\n",
    "\n",
    "frames = []\n",
    "for conf in configurations:\n",
    "    obs = env._reset(floor_height=conf[0], obstacle_position=conf[1])\n",
    "    frames.append(np.flipud(obs))\n",
    "    \n",
    "show_imgs(np.expand_dims(np.array(np.array(frames) * 255, dtype=np.uint8), axis=1))"
   ]
  }
 ],
 "metadata": {
  "kernelspec": {
   "display_name": "Python 3 (ipykernel)",
   "language": "python",
   "name": "python3"
  },
  "language_info": {
   "codemirror_mode": {
    "name": "ipython",
    "version": 3
   },
   "file_extension": ".py",
   "mimetype": "text/x-python",
   "name": "python",
   "nbconvert_exporter": "python",
   "pygments_lexer": "ipython3",
   "version": "3.9.7"
  }
 },
 "nbformat": 4,
 "nbformat_minor": 5
}
