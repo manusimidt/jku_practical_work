{
 "cells": [
  {
   "cell_type": "code",
   "execution_count": 2,
   "id": "24edbb41",
   "metadata": {},
   "outputs": [
    {
     "name": "stdout",
     "output_type": "stream",
     "text": [
      "pygame 2.1.2 (SDL 2.0.18, Python 3.9.7)\n",
      "Hello from the pygame community. https://www.pygame.org/contribute.html\n"
     ]
    }
   ],
   "source": [
    "import gym\n",
    "import gym_jumping_task\n",
    "from gym_jumping_task.envs.jumping_task import JumpTaskEnv\n",
    "import matplotlib.pyplot as plt\n",
    "import numpy as np\n",
    "import torch\n",
    "from torchvision.utils import make_grid\n",
    "from env import AugmentingEnv"
   ]
  },
  {
   "cell_type": "code",
   "execution_count": 16,
   "id": "4f4ae6cd",
   "metadata": {},
   "outputs": [
    {
     "name": "stdout",
     "output_type": "stream",
     "text": [
      "(60, 60)\n"
     ]
    },
    {
     "data": {
      "text/plain": [
       "array([[1., 1., 1., ..., 1., 1., 1.],\n",
       "       [1., 0., 0., ..., 0., 0., 1.],\n",
       "       [1., 0., 0., ..., 0., 0., 1.],\n",
       "       ...,\n",
       "       [1., 0., 0., ..., 0., 0., 1.],\n",
       "       [1., 0., 0., ..., 0., 0., 1.],\n",
       "       [1., 1., 1., ..., 1., 1., 1.]], dtype=float32)"
      ]
     },
     "execution_count": 16,
     "metadata": {},
     "output_type": "execute_result"
    }
   ],
   "source": [
    "device = torch.device('cpu')\n",
    "\n",
    "env = JumpTaskEnv(scr_w=60, scr_h=60)\n",
    "observation = env._reset(floor_height=28, obstacle_position=26)\n",
    "observation = env.step(0)[0]\n",
    "observation = env.step(0)[0]\n",
    "observation = env.step(1)[0]\n",
    "observation = env.step(0)[0]\n",
    "print(observation.shape)\n",
    "observation"
   ]
  },
  {
   "cell_type": "code",
   "execution_count": 17,
   "id": "a8ecc8a9",
   "metadata": {},
   "outputs": [
    {
     "data": {
      "text/plain": [
       "<matplotlib.image.AxesImage at 0x1ca5f256760>"
      ]
     },
     "execution_count": 17,
     "metadata": {},
     "output_type": "execute_result"
    },
    {
     "data": {
      "image/png": "[encoded data removed]",
      "text/plain": [
       "<Figure size 640x480 with 1 Axes>"
      ]
     },
     "metadata": {},
     "output_type": "display_data"
    }
   ],
   "source": [
    "plt.imshow(np.flipud(observation), cmap='gray', vmin=0, vmax=1)"
   ]
  },
  {
   "cell_type": "code",
   "execution_count": 7,
   "id": "f3413cb7",
   "metadata": {},
   "outputs": [],
   "source": [
    "def show_imgs(x,max_display=16):\n",
    "    grid = make_grid(torch.from_numpy(x[:max_display]),4).permute(1,2,0).cpu().numpy()\n",
    "    plt.xticks([])\n",
    "    plt.yticks([])\n",
    "    plt.imshow(grid)"
   ]
  },
  {
   "cell_type": "markdown",
   "id": "6789f5c7",
   "metadata": {},
   "source": [
    "### Environment Configurations"
   ]
  },
  {
   "cell_type": "code",
   "execution_count": 8,
   "id": "22214adc",
   "metadata": {
    "scrolled": false
   },
   "outputs": [
    {
     "data": {
      "image/png": "[encoded data removed]",
      "text/plain": [
       "<Figure size 640x480 with 1 Axes>"
      ]
     },
     "metadata": {},
     "output_type": "display_data"
    }
   ],
   "source": [
    "ALL_CONFIGURATIONS = [\n",
    "     # obstacle pos, floor height\n",
    "    (15, 0), (15, 10), (15, 20), (15, 30),  \n",
    "    (25, 0), (25, 10), (25, 20), (25, 30), \n",
    "    (35, 0), (35, 10), (35, 20), (35, 30), \n",
    "    (45, 0), (45, 10), (45, 20), (45, 30), \n",
    "]\n",
    "\n",
    "frames = []\n",
    "for conf in ALL_CONFIGURATIONS:\n",
    "    obs = env._reset(obstacle_position=conf[0], floor_height=conf[1] )\n",
    "    frames.append(np.flipud(obs))\n",
    "    \n",
    "show_imgs(np.expand_dims(np.array(np.array(frames) * 255, dtype=np.uint8), axis=1))"
   ]
  },
  {
   "cell_type": "code",
   "execution_count": 11,
   "id": "24f363db",
   "metadata": {},
   "outputs": [
    {
     "name": "stdout",
     "output_type": "stream",
     "text": [
      "Cumulative reward:  24\n",
      "Cumulative reward:  24\n",
      "Cumulative reward:  34\n",
      "Cumulative reward:  21\n",
      "Cumulative reward:  34\n",
      "Cumulative reward:  24\n",
      "Cumulative reward:  25\n"
     ]
    }
   ],
   "source": [
    "env = JumpTaskEnv(scr_w=60, scr_h=60, rendering=True, slow_motion=True)\n",
    "\n",
    "def watch_agent(env, agent=None):\n",
    "    state = env.reset()\n",
    "    cumreward = 0\n",
    "    for _ in range(200):\n",
    "        env.render()\n",
    "        if agent is None:\n",
    "            action = env.action_space.sample()\n",
    "        else:\n",
    "            action, _ = agent.act(state)\n",
    "            action = action.numpy()\n",
    "        state, reward, done, info = env.step(action)\n",
    "        cumreward += reward\n",
    "\n",
    "        if done:\n",
    "            print(\"Cumulative reward: \", cumreward)\n",
    "            cumreward = 0\n",
    "            env.reset()\n",
    "    env.close()\n",
    "\n",
    "watch_agent(env)\n",
    "    "
   ]
  },
  {
   "cell_type": "code",
   "execution_count": 12,
   "id": "502fd283",
   "metadata": {},
   "outputs": [
    {
     "data": {
      "text/plain": [
       "(3, 1, 60, 60)"
      ]
     },
     "execution_count": 12,
     "metadata": {},
     "output_type": "execute_result"
    }
   ],
   "source": [
    "# vectorized env\n",
    "env = gym.vector.SyncVectorEnv([\n",
    "    lambda: AugmentingEnv(),\n",
    "    lambda: AugmentingEnv(),\n",
    "    lambda: AugmentingEnv()\n",
    "])\n",
    "obs = env.reset()\n",
    "np.array(obs).shape\n",
    "next_states, rewards, dones, infos = env.step([0,0,0])\n",
    "next_states.shape"
   ]
  },
  {
   "cell_type": "code",
   "execution_count": null,
   "id": "e42cd0dd",
   "metadata": {},
   "outputs": [],
   "source": [
    "\n"
   ]
  },
  {
   "cell_type": "code",
   "execution_count": null,
   "id": "b2d03875",
   "metadata": {},
   "outputs": [],
   "source": []
  }
 ],
 "metadata": {
  "kernelspec": {
   "display_name": "Python 3 (ipykernel)",
   "language": "python",
   "name": "python3"
  },
  "language_info": {
   "codemirror_mode": {
    "name": "ipython",
    "version": 3
   },
   "file_extension": ".py",
   "mimetype": "text/x-python",
   "name": "python",
   "nbconvert_exporter": "python",
   "pygments_lexer": "ipython3",
   "version": "3.9.7"
  }
 },
 "nbformat": 4,
 "nbformat_minor": 5
}
