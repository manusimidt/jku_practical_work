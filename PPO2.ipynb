{
 "cells": [
  {
   "cell_type": "markdown",
   "metadata": {
    "colab_type": "text",
    "id": "wp-owFvMsyhT"
   },
   "source": [
    "Authors: Marius-Constantin Dinu, Jose A. Arjona-Medina\n",
    "\n",
    "Date: 01-04-2020\n",
    "\n",
    "---\n",
    "\n",
    "This file is part of the \"Deep Reinforcement Learning\" lecture material. The following copyright statement applies to all code within this file.\n",
    "\n",
    "Copyright statement:\n",
    "This material, no matter whether in printed or electronic form, may be used for personal and non-commercial educational use only. Any reproduction of this manuscript, no matter whether as a whole or in parts, no matter whether in printed or in electronic form, requires explicit prior acceptance of the authors."
   ]
  },
  {
   "cell_type": "markdown",
   "metadata": {
    "colab_type": "text",
    "id": "2JCtceNbtHYr"
   },
   "source": [
    "## Enable GPU Acceleration"
   ]
  },
  {
   "cell_type": "markdown",
   "metadata": {
    "colab_type": "text",
    "id": "1-3aSPnHtVbP"
   },
   "source": [
    "---\n",
    "Before you start exploring this notebook make sure that GPU support is enabled.\n",
    "To enable the GPU backend for your notebook, go to **Edit** → **Notebook Settings** and set **Hardware accelerator** to **GPU**. \n",
    "\n",
    "---\n"
   ]
  },
  {
   "cell_type": "markdown",
   "metadata": {
    "colab_type": "text",
    "id": "uEr0OtA2sq-d"
   },
   "source": [
    "# Deep Reinforcement Lerning Lectures - Policy Gradients (PPO)"
   ]
  },
  {
   "cell_type": "markdown",
   "metadata": {
    "colab_type": "text",
    "id": "kKs_nHkcsq-h"
   },
   "source": [
    "### Imports and auxiliary settings"
   ]
  },
  {
   "cell_type": "code",
   "execution_count": null,
   "metadata": {
    "colab": {
     "base_uri": "https://localhost:8080/",
     "height": 1000
    },
    "colab_type": "code",
    "executionInfo": {
     "elapsed": 32119,
     "status": "ok",
     "timestamp": 1585589737653,
     "user": {
      "displayName": "Marius-Constantin Dinu",
      "photoUrl": "https://lh3.googleusercontent.com/a-/AOh14Ggjp9xw1rWHA81nVWnaDZv7DMr05fAFanjrBIVfmg=s64",
      "userId": "15394306909827369521"
     },
     "user_tz": -120
    },
    "id": "KAeeYLdFsq-j",
    "outputId": "e859de78-34f2-486a-f403-3425200d626d"
   },
   "outputs": [],
   "source": []
  },
  {
   "cell_type": "code",
   "execution_count": 1,
   "metadata": {
    "colab": {},
    "colab_type": "code",
    "id": "mukyekassq-s"
   },
   "outputs": [],
   "source": [
    "import os\n",
    "os.environ[\"CUDA_VISIBLE_DEVICES\"] = \"0\""
   ]
  },
  {
   "cell_type": "code",
   "execution_count": 2,
   "metadata": {
    "colab": {
     "base_uri": "https://localhost:8080/",
     "height": 54
    },
    "colab_type": "code",
    "executionInfo": {
     "elapsed": 585,
     "status": "ok",
     "timestamp": 1585590295355,
     "user": {
      "displayName": "Marius-Constantin Dinu",
      "photoUrl": "https://lh3.googleusercontent.com/a-/AOh14Ggjp9xw1rWHA81nVWnaDZv7DMr05fAFanjrBIVfmg=s64",
      "userId": "15394306909827369521"
     },
     "user_tz": -120
    },
    "id": "3MbfYIK7sq-y",
    "outputId": "dadf99f1-fd8b-4953-fbb0-880c5074c96f"
   },
   "outputs": [
    {
     "name": "stdout",
     "output_type": "stream",
     "text": [
      "pygame 2.1.2 (SDL 2.0.18, Python 3.9.7)\n",
      "Hello from the pygame community. https://www.pygame.org/contribute.html\n"
     ]
    }
   ],
   "source": [
    "%matplotlib inline\n",
    "\n",
    "# PyTorch imports\n",
    "import torch\n",
    "import torch.optim as optim\n",
    "import torch.nn as nn\n",
    "import torch.nn.functional as F\n",
    "from torch.distributions import Categorical\n",
    "\n",
    "# Auxiliary Python imports\n",
    "import io\n",
    "import glob\n",
    "import base64\n",
    "import random\n",
    "import numpy as np\n",
    "from tqdm.notebook import tqdm\n",
    "from time import sleep\n",
    "\n",
    "# Environment import and set logger level to display error only\n",
    "import gym; gym.logger.set_level(40)\n",
    "from gym.wrappers import Monitor\n",
    "\n",
    "# Plotting and notebook imports\n",
    "import matplotlib.pyplot as plt\n",
    "from IPython.display import HTML, display, clear_output\n",
    "\n",
    "from env import RandomAugmentingEnv"
   ]
  },
  {
   "cell_type": "code",
   "execution_count": 3,
   "metadata": {
    "colab": {},
    "colab_type": "code",
    "id": "0cPDDuWXsq-3"
   },
   "outputs": [
    {
     "name": "stdout",
     "output_type": "stream",
     "text": [
      "cuda\n"
     ]
    }
   ],
   "source": [
    "# use GPU if available\n",
    "device = torch.device(\"cuda\" if torch.cuda.is_available() else \"cpu\")\n",
    "print(device)"
   ]
  },
  {
   "cell_type": "markdown",
   "metadata": {
    "colab_type": "text",
    "id": "4atM9ErYsq-9"
   },
   "source": [
    "### Auxiliary Methods"
   ]
  },
  {
   "cell_type": "code",
   "execution_count": 4,
   "metadata": {
    "colab": {},
    "colab_type": "code",
    "id": "85Yw-gC4sq-_"
   },
   "outputs": [],
   "source": [
    "def wrap_env(env):\n",
    "  env = Monitor(env, './video', force=True)\n",
    "  return env\n",
    "\n",
    "\n",
    "def create_env(env_id='LunarLander-v2'):\n",
    "    # initialize environment\n",
    "    env = wrap_env(gym.make(env_id))\n",
    "    action_size = env.action_space.n\n",
    "    state_size = env.observation_space.shape[0]\n",
    "    return env, action_size, state_size\n",
    "\n",
    "\n",
    "def set_seed(env, seed=None):\n",
    "    if seed is not None:\n",
    "        random.seed(seed)\n",
    "        env.seed(seed)\n",
    "        np.random.seed(seed)\n",
    "        torch.manual_seed(seed)\n",
    "        if torch.cuda.is_available():\n",
    "            torch.cuda.manual_seed(seed)\n",
    "            torch.cuda.manual_seed_all(seed)\n",
    "\n",
    "\n",
    "def transforms(state):\n",
    "    return torch.FloatTensor(state).to(device)\n",
    "\n",
    "            \n",
    "def test_environment(env, agent=None):\n",
    "    state = env.reset()\n",
    "\n",
    "    for i in range(200):\n",
    "        env.render()\n",
    "\n",
    "        if agent is None:\n",
    "            action = env.action_space.sample()\n",
    "        else:\n",
    "            action, _ = agent.act(state)\n",
    "            action = action.item()\n",
    "        state, reward, done, info = env.step(action)\n",
    "        if done:\n",
    "            env.reset()\n",
    "\n",
    "    env.close()\n",
    "\n",
    "\n",
    "def get_running_stat(stat, stat_len):\n",
    "    cum_sum = np.cumsum(np.insert(stat, 0, 0)) \n",
    "    return (cum_sum[stat_len:] - cum_sum[:-stat_len]) / stat_len\n",
    "\n",
    "\n",
    "def plot_results(runner, reward_scale=1.0):\n",
    "    # plot stats\n",
    "    episode, r, l = np.array(runner.stats_rewards_list).T\n",
    "    cum_r = get_running_stat(r, 10)\n",
    "    cum_l = get_running_stat(l, 10)\n",
    "    \n",
    "    plt.figure(figsize=(16, 16))\n",
    "    \n",
    "    plt.subplot(321)\n",
    "\n",
    "    # plot rewards\n",
    "    plt.plot(episode[-len(cum_r):], cum_r)\n",
    "    plt.plot(episode, r, alpha=0.5)\n",
    "    plt.xlabel('Episode')\n",
    "    plt.ylabel('Episode Reward')\n",
    "   \n",
    "    plt.subplot(322)\n",
    "    \n",
    "    # plot episode lengths\n",
    "    plt.plot(episode[-len(cum_l):], cum_l)\n",
    "    plt.plot(episode, l, alpha=0.5)\n",
    "    plt.xlabel('Episode')\n",
    "    plt.ylabel('Episode Length')\n",
    "    \n",
    "    plt.subplot(323)\n",
    "    \n",
    "    # plot return\n",
    "    all_returns = np.array(runner.buffer.all_returns)/reward_scale\n",
    "    plt.scatter(range(0, len(all_returns)), all_returns, alpha=0.5)\n",
    "    mean_returns = np.array(runner.buffer.mean_returns)/reward_scale # rescale back to original return\n",
    "    plt.plot(range(0, len(mean_returns)), mean_returns, color=\"orange\")\n",
    "    plt.xlabel('Episode')\n",
    "    plt.ylabel('Return')\n",
    "    \n",
    "    plt.subplot(324)\n",
    "    \n",
    "    # plot entropy\n",
    "    entropy_arr = np.array(runner.stats_entropy_list)\n",
    "    plt.plot(range(0, len(entropy_arr)), entropy_arr)\n",
    "    plt.xlabel('Episode')\n",
    "    plt.ylabel('Entropy')\n",
    "\n",
    "    plt.subplot(325)\n",
    "\n",
    "    # plot variance\n",
    "    variance_arr = np.array(runner.logger.compute_gradient_variance())\n",
    "    plt.plot(range(0, len(variance_arr)), variance_arr)\n",
    "    plt.xlabel('Episode')\n",
    "    plt.ylabel('Variance')\n",
    "    \n",
    "    plt.show()\n",
    "\n",
    "\n",
    "\"\"\"\n",
    "Utility functions to enable video recording of gym environment and displaying it\n",
    "\"\"\"\n",
    "def show_video():\n",
    "    mp4list = glob.glob('video/*.mp4')\n",
    "    if len(mp4list) > 0:\n",
    "        mp4 = mp4list[0]\n",
    "        video = io.open(mp4, 'r+b').read()\n",
    "        encoded = base64.b64encode(video)\n",
    "        display(HTML(data='''<video alt=\"test\" autoplay \n",
    "                  loop controls style=\"height: 400px;\">\n",
    "                  <source src=\"data:video/mp4;base64,{0}\" type=\"video/mp4\" />\n",
    "                </video>'''.format(encoded.decode('ascii'))))\n",
    "    else: \n",
    "        print(\"Could not find video\")\n"
   ]
  },
  {
   "cell_type": "markdown",
   "metadata": {
    "colab_type": "text",
    "id": "OJoUS0kEsq_E"
   },
   "source": [
    "### Test environment"
   ]
  },
  {
   "cell_type": "markdown",
   "metadata": {
    "colab_type": "text",
    "id": "qjrTDiAQsq_G"
   },
   "source": [
    "OpenAI offers a set of environments for Reinforcement Learning, which are accessible via the `gym` pip package.\n",
    "In this exercise we will focus on discrete control tasks using a Box2D simulation known as LunarLander-v2.\n",
    "To access the Box2D packages, make sure you have installed gym via `pip install gym` and the Box2D simulator via `pip install box2d box2d-kengz` command in the terminal in advance."
   ]
  },
  {
   "cell_type": "code",
   "execution_count": 5,
   "metadata": {
    "colab": {
     "base_uri": "https://localhost:8080/",
     "height": 421
    },
    "colab_type": "code",
    "executionInfo": {
     "elapsed": 3452,
     "status": "ok",
     "timestamp": 1585590301492,
     "user": {
      "displayName": "Marius-Constantin Dinu",
      "photoUrl": "https://lh3.googleusercontent.com/a-/AOh14Ggjp9xw1rWHA81nVWnaDZv7DMr05fAFanjrBIVfmg=s64",
      "userId": "15394306909827369521"
     },
     "user_tz": -120
    },
    "id": "qwYyuiQrsq_I",
    "outputId": "a8049521-9744-4303-ee6d-6b11c1d4d989"
   },
   "outputs": [],
   "source": [
    "# show behavior in envrionment with random agent\n",
    "env = RandomAugmentingEnv(obs_position=20, floor_height=20)"
   ]
  },
  {
   "cell_type": "markdown",
   "metadata": {
    "colab_type": "text",
    "id": "ngvV7Dujsq_R"
   },
   "source": [
    "### Define Policy Network"
   ]
  },
  {
   "cell_type": "code",
   "execution_count": 6,
   "metadata": {
    "colab": {},
    "colab_type": "code",
    "id": "6Pw6d_0_sq_S"
   },
   "outputs": [],
   "source": [
    "class ActorNet(nn.Module):\n",
    "    def __init__(self):\n",
    "        super(ActorNet, self).__init__()\n",
    "        \n",
    "        self.features = nn.Sequential(\n",
    "            nn.Conv2d(in_channels=1, out_channels=8, kernel_size=3, stride=4),\n",
    "            nn.ReLU(),\n",
    "            nn.Conv2d(in_channels=8, out_channels=16, kernel_size=3,  stride=2),\n",
    "            nn.ReLU(),\n",
    "            nn.Conv2d(in_channels=16, out_channels=32, kernel_size=3,  stride=2),\n",
    "            nn.ReLU(),\n",
    "        )\n",
    "        self.fc = nn.Sequential(\n",
    "            nn.Linear(32*3*3, 128), \n",
    "            nn.ReLU(),\n",
    "            nn.Linear(128, 2)\n",
    "        )\n",
    "        \n",
    "    def forward(self, x):\n",
    "        x = self.features(x)\n",
    "        # convert the images to a matrix with the batch count as first dimension and the features as second dimension\n",
    "        x = x.view(x.size(0), -1)\n",
    "        x = self.fc(x)\n",
    "        # return torch.softmax(x, dim=-1) #-1 to take softmax of last dimension\n",
    "        return x\n",
    "    \n",
    "class CriticNet(nn.Module):\n",
    "    def __init__(self):\n",
    "        super(CriticNet, self).__init__()\n",
    "        self.features = nn.Sequential(\n",
    "            nn.Conv2d(in_channels=1, out_channels=8, kernel_size=3, stride=4),\n",
    "            nn.ReLU(),\n",
    "            nn.Conv2d(in_channels=8, out_channels=16, kernel_size=3,  stride=2),\n",
    "            nn.ReLU(),\n",
    "            nn.Conv2d(in_channels=16, out_channels=32, kernel_size=3,  stride=2),\n",
    "            nn.ReLU(),\n",
    "        )\n",
    "        self.fc = nn.Sequential(\n",
    "            nn.Linear(32*3*3, 128), \n",
    "            nn.ReLU(),\n",
    "            nn.Linear(128, 1)\n",
    "        )\n",
    "        \n",
    "    def forward(self, x):\n",
    "        x = self.features(x)\n",
    "        x = x.view(x.size(0), -1)\n",
    "        return self.fc(x)\n",
    "\n",
    "    \n",
    "class ActorCriticNet(nn.Module):\n",
    "    def __init__(self, state_size, action_size, hidden_size):\n",
    "        super(ActorCriticNet, self).__init__()\n",
    "        self.actor = ActorNet()\n",
    "        self.critic = CriticNet()\n",
    "\n",
    "    def forward(self, x):\n",
    "        raise NotImplementedError\n",
    "\n",
    "    def act(self, state):\n",
    "        action_logits = self.actor(state)\n",
    "        dist = Categorical(logits=action_logits)\n",
    "        action = dist.sample()\n",
    "        log_probs = dist.log_prob(action)\n",
    "        return action, log_probs\n",
    "    \n",
    "    def evaluate(self, state, action):\n",
    "        action_logits = self.actor(state)\n",
    "        policy_dist = Categorical(logits=action_logits)\n",
    "        log_probs = policy_dist.log_prob(action)\n",
    "        entropy = policy_dist.entropy()\n",
    "        state_value = self.critic(state)\n",
    "        return state_value, log_probs, entropy"
   ]
  },
  {
   "cell_type": "markdown",
   "metadata": {
    "colab_type": "text",
    "id": "AZ9B_0NBsq_Y"
   },
   "source": [
    "### Training Buffer"
   ]
  },
  {
   "cell_type": "code",
   "execution_count": 7,
   "metadata": {
    "colab": {},
    "colab_type": "code",
    "id": "kPOf2_C0sq_Z"
   },
   "outputs": [],
   "source": [
    "class Transition(object):\n",
    "    def __init__(self, state, action, reward, log_probs):\n",
    "        self.state = state\n",
    "        self.action = action\n",
    "        self.reward = reward\n",
    "        self.g_return = 0.0\n",
    "        self.log_probs = log_probs\n",
    "\n",
    "\n",
    "class Episode(object):\n",
    "    def __init__(self, discount):\n",
    "        self.discount = discount\n",
    "        self._empty()\n",
    "        self.total_reward = 0.0\n",
    "\n",
    "    def _empty(self):\n",
    "        self.n = 0\n",
    "        self.transitions = []\n",
    "\n",
    "    def reset(self):\n",
    "        self._empty()\n",
    "\n",
    "    def size(self):\n",
    "        return self.n\n",
    "\n",
    "    def append(self, transition):\n",
    "        self.transitions.append(transition)\n",
    "        self.n += 1\n",
    "        \n",
    "    def states(self):\n",
    "        return [s.state for s in self.transitions]\n",
    "    \n",
    "    def actions(self):\n",
    "        return [a.action for a in self.transitions]\n",
    "    \n",
    "    def rewards(self):\n",
    "        return [r.reward for r in self.transitions]\n",
    "    \n",
    "    def returns(self):\n",
    "        return [r.g_return for r in self.transitions]\n",
    "    \n",
    "    def calculate_return(self):\n",
    "        # turn rewards into return\n",
    "        rewards = self.rewards()\n",
    "        trajectory_len = len(rewards)\n",
    "        return_array = torch.zeros((trajectory_len,))\n",
    "        g_return = 0.\n",
    "        for i in range(trajectory_len-1, -1, -1):\n",
    "            g_return = rewards[i] + self.discount*g_return\n",
    "            return_array[i] = g_return\n",
    "            self.transitions[i].g_return = g_return\n",
    "        return return_array\n",
    "\n",
    "class ReplayBuffer(object):\n",
    "    def __init__(self, capacity, batch_size, min_transitions):\n",
    "        self.capacity = capacity\n",
    "        self.batch_size = batch_size\n",
    "        self.min_transitions = min_transitions\n",
    "        self.buffer = []\n",
    "        self._empty()\n",
    "        self.mean_returns = []\n",
    "        self.all_returns = []\n",
    "        \n",
    "    def _empty(self):\n",
    "        del self.buffer[:]\n",
    "        self.position = 0\n",
    "\n",
    "    def add(self, episode):\n",
    "        \"\"\"Saves a transition.\"\"\"\n",
    "        episode.calculate_return()\n",
    "        for t in episode.transitions:\n",
    "            if len(self.buffer) < self.capacity:\n",
    "                self.buffer.append(None)\n",
    "            self.buffer[self.position] = t\n",
    "            self.position = (self.position + 1) % self.capacity\n",
    "            \n",
    "    def update_stats(self):\n",
    "        returns = [t.g_return for t in self.buffer]\n",
    "        self.all_returns += returns\n",
    "        mean_return = np.mean(np.array(returns))\n",
    "        self.mean_returns += ([mean_return]*len(returns))\n",
    "\n",
    "    def reset(self):\n",
    "        self._empty()\n",
    "\n",
    "    def sample(self):\n",
    "        prob = [1/len(self.buffer) for _ in range(0, len(self.buffer))]\n",
    "        return np.random.choice(self.buffer, size=self.batch_size, p=prob, replace=False)\n",
    "\n",
    "    def __len__(self):\n",
    "        return len(self.buffer)\n",
    "\n",
    "\n",
    "def grad_variance(g):\n",
    "    return np.mean(g**2) - np.mean(g)**2\n",
    "\n",
    "\n",
    "class Logger(object):\n",
    "    def __init__(self):\n",
    "        self.gradients = []\n",
    "\n",
    "    def add_gradients(self, grad):\n",
    "        self.gradients.append(grad)\n",
    "\n",
    "    def compute_gradient_variance(self):\n",
    "        vars_ = []\n",
    "        grads_list = [np.zeros_like(self.gradients[0])] * 100\n",
    "        for i, grads in enumerate(self.gradients):\n",
    "            grads_list.append(grads)\n",
    "            grads_list = grads_list[1:]\n",
    "            grad_arr = np.stack(grads_list, axis=0)\n",
    "            g = np.apply_along_axis(grad_variance, axis=-1, arr=grad_arr)\n",
    "            vars_.append(np.mean(g))\n",
    "        return vars_"
   ]
  },
  {
   "cell_type": "markdown",
   "metadata": {
    "colab_type": "text",
    "id": "XHUx_w4isq_f"
   },
   "source": [
    "### Define Agent"
   ]
  },
  {
   "cell_type": "code",
   "execution_count": 8,
   "metadata": {
    "colab": {},
    "colab_type": "code",
    "id": "fw35TDTAsq_g"
   },
   "outputs": [],
   "source": [
    "class Agent(object):\n",
    "    def __init__(self, buffer, state_size, action_size, hidden_size, learning_rate, transforms, logger, eps_clip=0.2, n_epochs=1, betas=(0.9, 0.999), loss_scales=(0.5, 1.0, 0.0)):\n",
    "        self.action_size = action_size\n",
    "        self.buffer = buffer\n",
    "        self.policy = ActorCriticNet(state_size, action_size, hidden_size).to(device)\n",
    "        self.optimizer = optim.Adam(self.policy.parameters(), lr=learning_rate, betas=betas)\n",
    "        self.critic_criterion = torch.nn.MSELoss()\n",
    "        self.loss_scales = loss_scales\n",
    "        self.transforms = transforms\n",
    "        self.n_epochs = n_epochs\n",
    "        self.eps_clip = eps_clip\n",
    "        self.logger = logger\n",
    "        \n",
    "    def act(self, state):\n",
    "        with torch.no_grad():\n",
    "            state_t = self.transforms(state)\n",
    "            state_t = state_t if len(state_t.shape) == 2 else state_t.unsqueeze(0)\n",
    "            action, log_probs = self.policy.act(state_t)\n",
    "        return action.cpu(), log_probs\n",
    "\n",
    "    def train(self):       \n",
    "        for _ in range(self.n_epochs):   \n",
    "            # sample batch from buffer\n",
    "            samples = self.buffer.sample()\n",
    "            episode_returns = []\n",
    "            states = []\n",
    "            actions = []\n",
    "            old_log_probs = []\n",
    "            for s in samples:\n",
    "                states += [self.transforms(s.state),]\n",
    "                episode_returns += [s.g_return,]\n",
    "                actions += [s.action,]\n",
    "                old_log_probs += [s.log_probs,]\n",
    "\n",
    "            # create tensors\n",
    "            state_t = torch.stack(states, dim=0).to(device).detach()\n",
    "            action_t = torch.LongTensor(actions).to(device).detach()    \n",
    "            return_t = torch.FloatTensor(episode_returns).view(-1, 1).to(device)\n",
    "            old_log_probs_t = torch.stack(old_log_probs, dim=0).to(device).detach()\n",
    "            \n",
    "            # normalize returns\n",
    "            return_t = (return_t - return_t.mean()) / (return_t.std() + 1e-5)\n",
    "            \n",
    "            # get value function estimate\n",
    "            v_s, log_probs, entropy = self.policy.evaluate(state_t, action_t)\n",
    "                        \n",
    "            # use importance sampling\n",
    "            ratios = torch.exp(log_probs.view(-1, 1) - old_log_probs_t.detach())\n",
    "\n",
    "            # compute advantage\n",
    "            advantages = return_t - v_s.detach()\n",
    "\n",
    "            # compute ppo trust region loss\n",
    "            surr1 = ratios * advantages\n",
    "            surr2 = torch.clamp(ratios, 1-self.eps_clip, 1+self.eps_clip) * advantages\n",
    "            policy_loss = -torch.min(surr1, surr2)\n",
    "\n",
    "            # compute critic loss\n",
    "            value_loss = self.critic_criterion(v_s, return_t)\n",
    "            \n",
    "            # combine losses\n",
    "            loss = self.loss_scales[0]*value_loss + self.loss_scales[1]*policy_loss - self.loss_scales[2]*entropy.view(-1, 1)\n",
    "\n",
    "            # perform training step\n",
    "            self.optimizer.zero_grad()\n",
    "            loss.mean().backward()\n",
    "            self.logger.add_gradients(np.concatenate([param.grad.view(-1).detach().cpu().numpy() for param in self.policy.parameters()], axis=0))\n",
    "            self.optimizer.step()\n",
    "        \n",
    "        return (loss.mean().detach().cpu().numpy(), \n",
    "                value_loss.mean().detach().cpu().numpy(), \n",
    "                policy_loss.mean().detach().cpu().numpy()), entropy.mean().detach().cpu().numpy()"
   ]
  },
  {
   "cell_type": "markdown",
   "metadata": {
    "colab_type": "text",
    "id": "v9C5-DnvsrAQ"
   },
   "source": [
    "### Define Task Runner"
   ]
  },
  {
   "cell_type": "code",
   "execution_count": 9,
   "metadata": {
    "colab": {},
    "colab_type": "code",
    "id": "qV_tbaGKsrAS"
   },
   "outputs": [],
   "source": [
    "class Runner(object):\n",
    "    def __init__(self, env, agent, buffer, logger, discount=0.99, n_episodes=5000, reward_scale=0.01,\n",
    "                 use_buffer_reset=True, stats_interval=1, print_stats=True, min_average_reward=300, render=False):\n",
    "        self.env = env\n",
    "        self.agent = agent\n",
    "        self.buffer = buffer\n",
    "        self.render = render\n",
    "        self.logger = logger\n",
    "        self.discount = discount\n",
    "        self.n_episodes = n_episodes\n",
    "        self.reward_scale = reward_scale\n",
    "        self.use_buffer_reset = use_buffer_reset\n",
    "        self.stats_interval = stats_interval\n",
    "        self.print_stats = print_stats\n",
    "        self.min_average_reward = min_average_reward\n",
    "        # store stats for plotting\n",
    "        self.stats_rewards_list = []\n",
    "        self.stats_entropy_list = []\n",
    "        # stats for running episodes\n",
    "        self.timesteps = 0\n",
    "\n",
    "    def run(self):\n",
    "        with tqdm(range(self.n_episodes)) as pbar:\n",
    "            for e in pbar:\n",
    "                state = self.env.reset()\n",
    "                total_losses = 0.\n",
    "                value_losses = 0.\n",
    "                policy_losses = 0.\n",
    "                # stopping condition for training if agent reaches the amount of reward\n",
    "                if len(self.stats_rewards_list) > self.stats_interval and np.mean(self.stats_rewards_list[-self.stats_interval:],axis=0)[1] > self.min_average_reward:\n",
    "                    print(\"Stopping at episode {} with average rewards of {} in last {} episodes\".\n",
    "                        format(e, np.mean(self.stats_rewards_list[-self.stats_interval:],axis=0)[1], self.stats_interval))\n",
    "                    break  \n",
    "\n",
    "                # create new episode\n",
    "                episode = Episode(discount=self.discount)\n",
    "\n",
    "                done = False\n",
    "                # train in each episode until episode is done\n",
    "                while not done:\n",
    "                    self.timesteps += 1\n",
    "                    if self.render: self.env.render()\n",
    "\n",
    "                    # select an action from the agent's policy\n",
    "                    action, log_probs = self.agent.act(state)\n",
    "\n",
    "                    # enter action into the env\n",
    "                    next_state, reward, done, _ = self.env.step(action.item())\n",
    "                    episode.total_reward += reward\n",
    "                    \n",
    "                    # store agent trajectory\n",
    "                    transition = Transition(state=state, action=action, reward=(reward*self.reward_scale), log_probs=log_probs)\n",
    "                    episode.append(transition)\n",
    "\n",
    "                    # update stats and update agent if done\n",
    "                    if done:\n",
    "                        # add current episode to the replay buffer\n",
    "                        self.buffer.add(episode)\n",
    "                        self.stats_rewards_list.append((e, episode.total_reward, episode.size()))\n",
    "\n",
    "                        # skip if stored episodes are less than the batch size\n",
    "                        if len(self.buffer) < self.buffer.min_transitions: break\n",
    "\n",
    "                        # update the network\n",
    "                        (total_loss, value_loss, policy_loss), entropy = self.agent.train()\n",
    "                        \n",
    "                        total_losses += total_loss\n",
    "                        value_losses += value_loss\n",
    "                        policy_losses += policy_loss\n",
    "                        self.stats_entropy_list.append(entropy)\n",
    "                        self.buffer.update_stats()\n",
    "                        \n",
    "                        if self.use_buffer_reset: self.buffer.reset()\n",
    "                        if self.print_stats and e % self.stats_interval == 0:\n",
    "                            pbar.set_description(\"[%03d] Reward: %.4f\" % (e, np.mean(self.stats_rewards_list[-self.stats_interval:],axis=0)[1]))\n",
    "                            print(f\"Episode {e}: Reward:  {np.mean(self.stats_rewards_list[-self.stats_interval:],axis=0)[1]}\")\n",
    "\n",
    "                    state = next_state"
   ]
  },
  {
   "cell_type": "markdown",
   "metadata": {
    "colab_type": "text",
    "id": "SRMpVLPisrAV"
   },
   "source": [
    "### Train Agent"
   ]
  },
  {
   "cell_type": "code",
   "execution_count": 10,
   "metadata": {
    "colab": {},
    "colab_type": "code",
    "id": "BuYUpwjVsrAW"
   },
   "outputs": [],
   "source": [
    "# create environment\n",
    "# env, action_size, state_size = create_env()\n",
    "action_size=2\n",
    "state_size=60\n",
    "seed = 31\n",
    "# set seed\n",
    "set_seed(env, seed=seed)\n",
    "\n",
    "# hyperparameters\n",
    "episodes = 3500 # run agent for this many episodes\n",
    "epochs = 4 # run n epochs of network updates\n",
    "hidden_size = 64 # number of units in NN hidden layers\n",
    "learning_rate = 0.002 # learning rate for optimizer\n",
    "discount = 0.99 # discount factor gamma value\n",
    "reward_scale = 1. # reward scaling\n",
    "\n",
    "batch_size = 1000 # number of samples used for an update\n",
    "min_transitions = 2000 # number of minimum transitions until update is triggered\n",
    "capacity = 2000 # maximum number of transitions stored in the replay buffer\n",
    "\n",
    "use_buffer_reset = True # resets the buffer after every update\n",
    "eps_clip = 0.2 # clipping or importance sampling updates\n",
    "loss_scales = (.5, 1., 0.01) # loss scales (value loss, policy loss, entropy loss)\n",
    "betas = (0.9, 0.999) # optimizer beta parameters\n",
    "\n",
    "# additional settings\n",
    "print_stats = True\n",
    "render = False"
   ]
  },
  {
   "cell_type": "code",
   "execution_count": 11,
   "metadata": {
    "colab": {},
    "colab_type": "code",
    "id": "oklfElE2srAa"
   },
   "outputs": [],
   "source": [
    "logger = Logger()\n",
    "buffer = ReplayBuffer(capacity=capacity, batch_size=batch_size, min_transitions=min_transitions)\n",
    "agent = Agent(buffer=buffer, state_size=state_size, action_size=action_size, hidden_size=hidden_size,\n",
    "              learning_rate=learning_rate, transforms=transforms, logger=logger, n_epochs=epochs, betas=betas, loss_scales=loss_scales)\n",
    "runner = Runner(env=env, agent=agent, buffer=buffer, logger=logger, discount=discount, n_episodes=episodes, reward_scale=reward_scale, \n",
    "                use_buffer_reset=use_buffer_reset, print_stats=print_stats, render=render)"
   ]
  },
  {
   "cell_type": "code",
   "execution_count": 12,
   "metadata": {
    "colab": {
     "base_uri": "https://localhost:8080/",
     "height": 66,
     "referenced_widgets": [
      "b1fb731b063c4bdab7d98ee3293b444c",
      "1aa630f83dcf43e8a055678ddead20f4",
      "a88f130052ea42fdbe560e60749774cb",
      "2a13cf2d4cfc40629d52e7aa0b779a71",
      "3f9b6c5f7f9e452db296f8c789a42616",
      "d882dff31bc049e28403f45525cb9429",
      "e0c469e6089843de863afc9cb0fed7c5",
      "ecd4c91ef51944998f3c6c87710feff1"
     ]
    },
    "colab_type": "code",
    "executionInfo": {
     "elapsed": 397641,
     "status": "ok",
     "timestamp": 1585590722221,
     "user": {
      "displayName": "Marius-Constantin Dinu",
      "photoUrl": "https://lh3.googleusercontent.com/a-/AOh14Ggjp9xw1rWHA81nVWnaDZv7DMr05fAFanjrBIVfmg=s64",
      "userId": "15394306909827369521"
     },
     "user_tz": -120
    },
    "id": "EoyDdHhAsrAf",
    "outputId": "e789ffe3-50b6-4753-fd7f-e9709ddc1821"
   },
   "outputs": [
    {
     "data": {
      "application/vnd.jupyter.widget-view+json": {
       "model_id": "c153f4d1443f481ca7da4f3f4202bee1",
       "version_major": 2,
       "version_minor": 0
      },
      "text/plain": [
       "  0%|          | 0/3500 [00:00<?, ?it/s]"
      ]
     },
     "metadata": {},
     "output_type": "display_data"
    },
    {
     "name": "stdout",
     "output_type": "stream",
     "text": [
      "Episode 85: Reward:  21.0\n",
      "Episode 171: Reward:  23.0\n",
      "Episode 257: Reward:  23.0\n",
      "Episode 343: Reward:  23.0\n",
      "Episode 429: Reward:  22.0\n",
      "Episode 514: Reward:  21.0\n",
      "Episode 599: Reward:  21.0\n",
      "Episode 684: Reward:  22.0\n",
      "Episode 769: Reward:  21.0\n",
      "Episode 854: Reward:  21.0\n",
      "Episode 936: Reward:  21.0\n",
      "Episode 1016: Reward:  25.0\n",
      "Episode 1097: Reward:  24.0\n",
      "Episode 1173: Reward:  21.0\n",
      "Episode 1249: Reward:  21.0\n",
      "Episode 1323: Reward:  14.0\n",
      "Episode 1387: Reward:  25.0\n",
      "Episode 1447: Reward:  156.0\n",
      "Episode 1497: Reward:  14.0\n",
      "Episode 1537: Reward:  156.0\n",
      "Episode 1575: Reward:  156.0\n",
      "Episode 1613: Reward:  156.0\n",
      "Episode 1650: Reward:  156.0\n",
      "Episode 1686: Reward:  156.0\n",
      "Episode 1722: Reward:  156.0\n",
      "Episode 1759: Reward:  156.0\n",
      "Episode 1795: Reward:  156.0\n",
      "Episode 1831: Reward:  156.0\n",
      "Episode 1867: Reward:  156.0\n",
      "Episode 1903: Reward:  156.0\n",
      "Episode 1939: Reward:  156.0\n",
      "Episode 1975: Reward:  156.0\n",
      "Episode 2011: Reward:  156.0\n",
      "Episode 2047: Reward:  156.0\n",
      "Episode 2083: Reward:  156.0\n",
      "Episode 2119: Reward:  156.0\n",
      "Episode 2155: Reward:  156.0\n",
      "Episode 2191: Reward:  156.0\n",
      "Episode 2227: Reward:  156.0\n",
      "Episode 2263: Reward:  156.0\n",
      "Episode 2299: Reward:  156.0\n",
      "Episode 2335: Reward:  156.0\n",
      "Episode 2371: Reward:  156.0\n",
      "Episode 2407: Reward:  156.0\n",
      "Episode 2444: Reward:  156.0\n",
      "Episode 2480: Reward:  156.0\n",
      "Episode 2516: Reward:  156.0\n",
      "Episode 2552: Reward:  156.0\n",
      "Episode 2589: Reward:  156.0\n",
      "Episode 2625: Reward:  156.0\n",
      "Episode 2661: Reward:  156.0\n",
      "Episode 2698: Reward:  156.0\n",
      "Episode 2734: Reward:  156.0\n",
      "Episode 2770: Reward:  156.0\n",
      "Episode 2806: Reward:  156.0\n",
      "Episode 2842: Reward:  156.0\n",
      "Episode 2878: Reward:  156.0\n",
      "Episode 2914: Reward:  156.0\n",
      "Episode 2950: Reward:  156.0\n",
      "Episode 2986: Reward:  156.0\n",
      "Episode 3022: Reward:  156.0\n",
      "Episode 3058: Reward:  156.0\n",
      "Episode 3094: Reward:  156.0\n",
      "Episode 3130: Reward:  156.0\n",
      "Episode 3166: Reward:  156.0\n",
      "Episode 3202: Reward:  156.0\n",
      "Episode 3238: Reward:  156.0\n",
      "Episode 3274: Reward:  156.0\n",
      "Episode 3310: Reward:  156.0\n",
      "Episode 3346: Reward:  156.0\n",
      "Episode 3382: Reward:  156.0\n",
      "Episode 3419: Reward:  156.0\n",
      "Episode 3457: Reward:  156.0\n",
      "Episode 3493: Reward:  156.0\n"
     ]
    }
   ],
   "source": [
    "runner.run()"
   ]
  },
  {
   "cell_type": "code",
   "execution_count": 13,
   "metadata": {
    "colab": {
     "base_uri": "https://localhost:8080/",
     "height": 937
    },
    "colab_type": "code",
    "executionInfo": {
     "elapsed": 5643,
     "status": "ok",
     "timestamp": 1585590750145,
     "user": {
      "displayName": "Marius-Constantin Dinu",
      "photoUrl": "https://lh3.googleusercontent.com/a-/AOh14Ggjp9xw1rWHA81nVWnaDZv7DMr05fAFanjrBIVfmg=s64",
      "userId": "15394306909827369521"
     },
     "user_tz": -120
    },
    "id": "0aYNELqfsrAk",
    "outputId": "a9e3ee78-33d1-4872-eb1d-2b4a6a4fb56d"
   },
   "outputs": [
    {
     "data": {
      "image/png": "[encoded data removed]",
      "text/plain": [
       "<Figure size 1600x1600 with 5 Axes>"
      ]
     },
     "metadata": {},
     "output_type": "display_data"
    }
   ],
   "source": [
    "plot_results(runner, reward_scale=reward_scale)"
   ]
  },
  {
   "cell_type": "code",
   "execution_count": null,
   "metadata": {
    "colab": {
     "base_uri": "https://localhost:8080/",
     "height": 421
    },
    "colab_type": "code",
    "executionInfo": {
     "elapsed": 4260,
     "status": "ok",
     "timestamp": 1585590789655,
     "user": {
      "displayName": "Marius-Constantin Dinu",
      "photoUrl": "https://lh3.googleusercontent.com/a-/AOh14Ggjp9xw1rWHA81nVWnaDZv7DMr05fAFanjrBIVfmg=s64",
      "userId": "15394306909827369521"
     },
     "user_tz": -120
    },
    "id": "0WbXUDVusrAo",
    "outputId": "b08aab3e-0765-47a5-d832-550dff29f69f"
   },
   "outputs": [],
   "source": [
    "env, _, _ = create_env()\n",
    "test_environment(env=env, agent=agent)\n",
    "show_video()"
   ]
  },
  {
   "cell_type": "code",
   "execution_count": null,
   "metadata": {
    "colab": {},
    "colab_type": "code",
    "id": "j7eOUJ2_srAr"
   },
   "outputs": [],
   "source": []
  }
 ],
 "metadata": {
  "colab": {
   "collapsed_sections": [],
   "name": "04-RL_PolicyGradients_PPO_Solution.ipynb",
   "provenance": []
  },
  "kernelspec": {
   "display_name": "Python 3 (ipykernel)",
   "language": "python",
   "name": "python3"
  },
  "language_info": {
   "codemirror_mode": {
    "name": "ipython",
    "version": 3
   },
   "file_extension": ".py",
   "mimetype": "text/x-python",
   "name": "python",
   "nbconvert_exporter": "python",
   "pygments_lexer": "ipython3",
   "version": "3.9.7"
  },
  "widgets": {
   "application/vnd.jupyter.widget-state+json": {
    "1aa630f83dcf43e8a055678ddead20f4": {
     "model_module": "@jupyter-widgets/base",
     "model_name": "LayoutModel",
     "state": {
      "_model_module": "@jupyter-widgets/base",
      "_model_module_version": "1.2.0",
      "_model_name": "LayoutModel",
      "_view_count": null,
      "_view_module": "@jupyter-widgets/base",
      "_view_module_version": "1.2.0",
      "_view_name": "LayoutView",
      "align_content": null,
      "align_items": null,
      "align_self": null,
      "border": null,
      "bottom": null,
      "display": null,
      "flex": null,
      "flex_flow": null,
      "grid_area": null,
      "grid_auto_columns": null,
      "grid_auto_flow": null,
      "grid_auto_rows": null,
      "grid_column": null,
      "grid_gap": null,
      "grid_row": null,
      "grid_template_areas": null,
      "grid_template_columns": null,
      "grid_template_rows": null,
      "height": null,
      "justify_content": null,
      "justify_items": null,
      "left": null,
      "margin": null,
      "max_height": null,
      "max_width": null,
      "min_height": null,
      "min_width": null,
      "object_fit": null,
      "object_position": null,
      "order": null,
      "overflow": null,
      "overflow_x": null,
      "overflow_y": null,
      "padding": null,
      "right": null,
      "top": null,
      "visibility": null,
      "width": null
     }
    },
    "2a13cf2d4cfc40629d52e7aa0b779a71": {
     "model_module": "@jupyter-widgets/controls",
     "model_name": "HTMLModel",
     "state": {
      "_dom_classes": [],
      "_model_module": "@jupyter-widgets/controls",
      "_model_module_version": "1.5.0",
      "_model_name": "HTMLModel",
      "_view_count": null,
      "_view_module": "@jupyter-widgets/controls",
      "_view_module_version": "1.5.0",
      "_view_name": "HTMLView",
      "description": "",
      "description_tooltip": null,
      "layout": "IPY_MODEL_ecd4c91ef51944998f3c6c87710feff1",
      "placeholder": "​",
      "style": "IPY_MODEL_e0c469e6089843de863afc9cb0fed7c5",
      "value": " 1000/1000 [06:37&lt;00:00,  2.52it/s]"
     }
    },
    "3f9b6c5f7f9e452db296f8c789a42616": {
     "model_module": "@jupyter-widgets/controls",
     "model_name": "ProgressStyleModel",
     "state": {
      "_model_module": "@jupyter-widgets/controls",
      "_model_module_version": "1.5.0",
      "_model_name": "ProgressStyleModel",
      "_view_count": null,
      "_view_module": "@jupyter-widgets/base",
      "_view_module_version": "1.2.0",
      "_view_name": "StyleView",
      "bar_color": null,
      "description_width": "initial"
     }
    },
    "a88f130052ea42fdbe560e60749774cb": {
     "model_module": "@jupyter-widgets/controls",
     "model_name": "IntProgressModel",
     "state": {
      "_dom_classes": [],
      "_model_module": "@jupyter-widgets/controls",
      "_model_module_version": "1.5.0",
      "_model_name": "IntProgressModel",
      "_view_count": null,
      "_view_module": "@jupyter-widgets/controls",
      "_view_module_version": "1.5.0",
      "_view_name": "ProgressView",
      "bar_style": "success",
      "description": "[997] Reward: 146.7723: 100%",
      "description_tooltip": null,
      "layout": "IPY_MODEL_d882dff31bc049e28403f45525cb9429",
      "max": 1000,
      "min": 0,
      "orientation": "horizontal",
      "style": "IPY_MODEL_3f9b6c5f7f9e452db296f8c789a42616",
      "value": 1000
     }
    },
    "b1fb731b063c4bdab7d98ee3293b444c": {
     "model_module": "@jupyter-widgets/controls",
     "model_name": "HBoxModel",
     "state": {
      "_dom_classes": [],
      "_model_module": "@jupyter-widgets/controls",
      "_model_module_version": "1.5.0",
      "_model_name": "HBoxModel",
      "_view_count": null,
      "_view_module": "@jupyter-widgets/controls",
      "_view_module_version": "1.5.0",
      "_view_name": "HBoxView",
      "box_style": "",
      "children": [
       "IPY_MODEL_a88f130052ea42fdbe560e60749774cb",
       "IPY_MODEL_2a13cf2d4cfc40629d52e7aa0b779a71"
      ],
      "layout": "IPY_MODEL_1aa630f83dcf43e8a055678ddead20f4"
     }
    },
    "d882dff31bc049e28403f45525cb9429": {
     "model_module": "@jupyter-widgets/base",
     "model_name": "LayoutModel",
     "state": {
      "_model_module": "@jupyter-widgets/base",
      "_model_module_version": "1.2.0",
      "_model_name": "LayoutModel",
      "_view_count": null,
      "_view_module": "@jupyter-widgets/base",
      "_view_module_version": "1.2.0",
      "_view_name": "LayoutView",
      "align_content": null,
      "align_items": null,
      "align_self": null,
      "border": null,
      "bottom": null,
      "display": null,
      "flex": null,
      "flex_flow": null,
      "grid_area": null,
      "grid_auto_columns": null,
      "grid_auto_flow": null,
      "grid_auto_rows": null,
      "grid_column": null,
      "grid_gap": null,
      "grid_row": null,
      "grid_template_areas": null,
      "grid_template_columns": null,
      "grid_template_rows": null,
      "height": null,
      "justify_content": null,
      "justify_items": null,
      "left": null,
      "margin": null,
      "max_height": null,
      "max_width": null,
      "min_height": null,
      "min_width": null,
      "object_fit": null,
      "object_position": null,
      "order": null,
      "overflow": null,
      "overflow_x": null,
      "overflow_y": null,
      "padding": null,
      "right": null,
      "top": null,
      "visibility": null,
      "width": null
     }
    },
    "e0c469e6089843de863afc9cb0fed7c5": {
     "model_module": "@jupyter-widgets/controls",
     "model_name": "DescriptionStyleModel",
     "state": {
      "_model_module": "@jupyter-widgets/controls",
      "_model_module_version": "1.5.0",
      "_model_name": "DescriptionStyleModel",
      "_view_count": null,
      "_view_module": "@jupyter-widgets/base",
      "_view_module_version": "1.2.0",
      "_view_name": "StyleView",
      "description_width": ""
     }
    },
    "ecd4c91ef51944998f3c6c87710feff1": {
     "model_module": "@jupyter-widgets/base",
     "model_name": "LayoutModel",
     "state": {
      "_model_module": "@jupyter-widgets/base",
      "_model_module_version": "1.2.0",
      "_model_name": "LayoutModel",
      "_view_count": null,
      "_view_module": "@jupyter-widgets/base",
      "_view_module_version": "1.2.0",
      "_view_name": "LayoutView",
      "align_content": null,
      "align_items": null,
      "align_self": null,
      "border": null,
      "bottom": null,
      "display": null,
      "flex": null,
      "flex_flow": null,
      "grid_area": null,
      "grid_auto_columns": null,
      "grid_auto_flow": null,
      "grid_auto_rows": null,
      "grid_column": null,
      "grid_gap": null,
      "grid_row": null,
      "grid_template_areas": null,
      "grid_template_columns": null,
      "grid_template_rows": null,
      "height": null,
      "justify_content": null,
      "justify_items": null,
      "left": null,
      "margin": null,
      "max_height": null,
      "max_width": null,
      "min_height": null,
      "min_width": null,
      "object_fit": null,
      "object_position": null,
      "order": null,
      "overflow": null,
      "overflow_x": null,
      "overflow_y": null,
      "padding": null,
      "right": null,
      "top": null,
      "visibility": null,
      "width": null
     }
    }
   }
  }
 },
 "nbformat": 4,
 "nbformat_minor": 1
}
