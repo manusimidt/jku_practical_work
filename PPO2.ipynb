{
 "cells": [
  {
   "cell_type": "markdown",
   "metadata": {
    "colab_type": "text",
    "id": "wp-owFvMsyhT"
   },
   "source": [
    "Authors: Marius-Constantin Dinu, Jose A. Arjona-Medina\n",
    "\n",
    "Date: 01-04-2020\n",
    "\n",
    "---\n",
    "\n",
    "This file is part of the \"Deep Reinforcement Learning\" lecture material. The following copyright statement applies to all code within this file.\n",
    "\n",
    "Copyright statement:\n",
    "This material, no matter whether in printed or electronic form, may be used for personal and non-commercial educational use only. Any reproduction of this manuscript, no matter whether as a whole or in parts, no matter whether in printed or in electronic form, requires explicit prior acceptance of the authors."
   ]
  },
  {
   "cell_type": "markdown",
   "metadata": {
    "colab_type": "text",
    "id": "2JCtceNbtHYr"
   },
   "source": [
    "## Enable GPU Acceleration"
   ]
  },
  {
   "cell_type": "markdown",
   "metadata": {
    "colab_type": "text",
    "id": "1-3aSPnHtVbP"
   },
   "source": [
    "---\n",
    "Before you start exploring this notebook make sure that GPU support is enabled.\n",
    "To enable the GPU backend for your notebook, go to **Edit** → **Notebook Settings** and set **Hardware accelerator** to **GPU**. \n",
    "\n",
    "---\n"
   ]
  },
  {
   "cell_type": "markdown",
   "metadata": {
    "colab_type": "text",
    "id": "uEr0OtA2sq-d"
   },
   "source": [
    "# Deep Reinforcement Lerning Lectures - Policy Gradients (PPO)"
   ]
  },
  {
   "cell_type": "markdown",
   "metadata": {
    "colab_type": "text",
    "id": "kKs_nHkcsq-h"
   },
   "source": [
    "### Imports and auxiliary settings"
   ]
  },
  {
   "cell_type": "code",
   "execution_count": null,
   "metadata": {
    "colab": {
     "base_uri": "https://localhost:8080/",
     "height": 1000
    },
    "colab_type": "code",
    "executionInfo": {
     "elapsed": 32119,
     "status": "ok",
     "timestamp": 1585589737653,
     "user": {
      "displayName": "Marius-Constantin Dinu",
      "photoUrl": "https://lh3.googleusercontent.com/a-/AOh14Ggjp9xw1rWHA81nVWnaDZv7DMr05fAFanjrBIVfmg=s64",
      "userId": "15394306909827369521"
     },
     "user_tz": -120
    },
    "id": "KAeeYLdFsq-j",
    "outputId": "e859de78-34f2-486a-f403-3425200d626d"
   },
   "outputs": [],
   "source": []
  },
  {
   "cell_type": "code",
   "execution_count": 29,
   "metadata": {
    "colab": {},
    "colab_type": "code",
    "id": "mukyekassq-s"
   },
   "outputs": [],
   "source": [
    "import os\n",
    "os.environ[\"CUDA_VISIBLE_DEVICES\"] = \"0\""
   ]
  },
  {
   "cell_type": "code",
   "execution_count": 30,
   "metadata": {
    "colab": {
     "base_uri": "https://localhost:8080/",
     "height": 54
    },
    "colab_type": "code",
    "executionInfo": {
     "elapsed": 585,
     "status": "ok",
     "timestamp": 1585590295355,
     "user": {
      "displayName": "Marius-Constantin Dinu",
      "photoUrl": "https://lh3.googleusercontent.com/a-/AOh14Ggjp9xw1rWHA81nVWnaDZv7DMr05fAFanjrBIVfmg=s64",
      "userId": "15394306909827369521"
     },
     "user_tz": -120
    },
    "id": "3MbfYIK7sq-y",
    "outputId": "dadf99f1-fd8b-4953-fbb0-880c5074c96f"
   },
   "outputs": [],
   "source": [
    "%matplotlib inline\n",
    "\n",
    "# PyTorch imports\n",
    "import torch\n",
    "import torch.optim as optim\n",
    "import torch.nn as nn\n",
    "import torch.nn.functional as F\n",
    "from torch.distributions import Categorical\n",
    "\n",
    "# Auxiliary Python imports\n",
    "import io\n",
    "import glob\n",
    "import base64\n",
    "import random\n",
    "import numpy as np\n",
    "from tqdm.notebook import tqdm\n",
    "from time import sleep\n",
    "\n",
    "# Environment import and set logger level to display error only\n",
    "import gym; gym.logger.set_level(40)\n",
    "from gym.wrappers import Monitor\n",
    "\n",
    "# Plotting and notebook imports\n",
    "import matplotlib.pyplot as plt\n",
    "from IPython.display import HTML, display, clear_output\n",
    "\n",
    "from env import RandomAugmentingEnv"
   ]
  },
  {
   "cell_type": "code",
   "execution_count": 31,
   "metadata": {
    "colab": {},
    "colab_type": "code",
    "id": "0cPDDuWXsq-3"
   },
   "outputs": [],
   "source": [
    "# use GPU if available\n",
    "device = torch.device(\"cuda\" if torch.cuda.is_available() else \"cpu\")"
   ]
  },
  {
   "cell_type": "markdown",
   "metadata": {
    "colab_type": "text",
    "id": "4atM9ErYsq-9"
   },
   "source": [
    "### Auxiliary Methods"
   ]
  },
  {
   "cell_type": "code",
   "execution_count": 32,
   "metadata": {
    "colab": {},
    "colab_type": "code",
    "id": "85Yw-gC4sq-_"
   },
   "outputs": [],
   "source": [
    "def wrap_env(env):\n",
    "  env = Monitor(env, './video', force=True)\n",
    "  return env\n",
    "\n",
    "\n",
    "def create_env(env_id='LunarLander-v2'):\n",
    "    # initialize environment\n",
    "    env = wrap_env(gym.make(env_id))\n",
    "    action_size = env.action_space.n\n",
    "    state_size = env.observation_space.shape[0]\n",
    "    return env, action_size, state_size\n",
    "\n",
    "\n",
    "def set_seed(env, seed=None):\n",
    "    if seed is not None:\n",
    "        random.seed(seed)\n",
    "        env.seed(seed)\n",
    "        np.random.seed(seed)\n",
    "        torch.manual_seed(seed)\n",
    "        if torch.cuda.is_available():\n",
    "            torch.cuda.manual_seed(seed)\n",
    "            torch.cuda.manual_seed_all(seed)\n",
    "\n",
    "\n",
    "def transforms(state):\n",
    "    return torch.FloatTensor(state).to(device)\n",
    "\n",
    "            \n",
    "def test_environment(env, agent=None):\n",
    "    state = env.reset()\n",
    "\n",
    "    for i in range(200):\n",
    "        env.render()\n",
    "\n",
    "        if agent is None:\n",
    "            action = env.action_space.sample()\n",
    "        else:\n",
    "            action, _ = agent.act(state)\n",
    "            action = action.item()\n",
    "        state, reward, done, info = env.step(action)\n",
    "        if done:\n",
    "            env.reset()\n",
    "\n",
    "    env.close()\n",
    "\n",
    "\n",
    "def get_running_stat(stat, stat_len):\n",
    "    cum_sum = np.cumsum(np.insert(stat, 0, 0)) \n",
    "    return (cum_sum[stat_len:] - cum_sum[:-stat_len]) / stat_len\n",
    "\n",
    "\n",
    "def plot_results(runner, reward_scale=1.0):\n",
    "    # plot stats\n",
    "    episode, r, l = np.array(runner.stats_rewards_list).T\n",
    "    cum_r = get_running_stat(r, 10)\n",
    "    cum_l = get_running_stat(l, 10)\n",
    "    \n",
    "    plt.figure(figsize=(16, 16))\n",
    "    \n",
    "    plt.subplot(321)\n",
    "\n",
    "    # plot rewards\n",
    "    plt.plot(episode[-len(cum_r):], cum_r)\n",
    "    plt.plot(episode, r, alpha=0.5)\n",
    "    plt.xlabel('Episode')\n",
    "    plt.ylabel('Episode Reward')\n",
    "   \n",
    "    plt.subplot(322)\n",
    "    \n",
    "    # plot episode lengths\n",
    "    plt.plot(episode[-len(cum_l):], cum_l)\n",
    "    plt.plot(episode, l, alpha=0.5)\n",
    "    plt.xlabel('Episode')\n",
    "    plt.ylabel('Episode Length')\n",
    "    \n",
    "    plt.subplot(323)\n",
    "    \n",
    "    # plot return\n",
    "    all_returns = np.array(runner.buffer.all_returns)/reward_scale\n",
    "    plt.scatter(range(0, len(all_returns)), all_returns, alpha=0.5)\n",
    "    mean_returns = np.array(runner.buffer.mean_returns)/reward_scale # rescale back to original return\n",
    "    plt.plot(range(0, len(mean_returns)), mean_returns, color=\"orange\")\n",
    "    plt.xlabel('Episode')\n",
    "    plt.ylabel('Return')\n",
    "    \n",
    "    plt.subplot(324)\n",
    "    \n",
    "    # plot entropy\n",
    "    entropy_arr = np.array(runner.stats_entropy_list)\n",
    "    plt.plot(range(0, len(entropy_arr)), entropy_arr)\n",
    "    plt.xlabel('Episode')\n",
    "    plt.ylabel('Entropy')\n",
    "\n",
    "    plt.subplot(325)\n",
    "\n",
    "    # plot variance\n",
    "    variance_arr = np.array(runner.logger.compute_gradient_variance())\n",
    "    plt.plot(range(0, len(variance_arr)), variance_arr)\n",
    "    plt.xlabel('Episode')\n",
    "    plt.ylabel('Variance')\n",
    "    \n",
    "    plt.show()\n",
    "\n",
    "\n",
    "\"\"\"\n",
    "Utility functions to enable video recording of gym environment and displaying it\n",
    "\"\"\"\n",
    "def show_video():\n",
    "    mp4list = glob.glob('video/*.mp4')\n",
    "    if len(mp4list) > 0:\n",
    "        mp4 = mp4list[0]\n",
    "        video = io.open(mp4, 'r+b').read()\n",
    "        encoded = base64.b64encode(video)\n",
    "        display(HTML(data='''<video alt=\"test\" autoplay \n",
    "                  loop controls style=\"height: 400px;\">\n",
    "                  <source src=\"data:video/mp4;base64,{0}\" type=\"video/mp4\" />\n",
    "                </video>'''.format(encoded.decode('ascii'))))\n",
    "    else: \n",
    "        print(\"Could not find video\")\n"
   ]
  },
  {
   "cell_type": "markdown",
   "metadata": {
    "colab_type": "text",
    "id": "OJoUS0kEsq_E"
   },
   "source": [
    "### Test environment"
   ]
  },
  {
   "cell_type": "markdown",
   "metadata": {
    "colab_type": "text",
    "id": "qjrTDiAQsq_G"
   },
   "source": [
    "OpenAI offers a set of environments for Reinforcement Learning, which are accessible via the `gym` pip package.\n",
    "In this exercise we will focus on discrete control tasks using a Box2D simulation known as LunarLander-v2.\n",
    "To access the Box2D packages, make sure you have installed gym via `pip install gym` and the Box2D simulator via `pip install box2d box2d-kengz` command in the terminal in advance."
   ]
  },
  {
   "cell_type": "code",
   "execution_count": 33,
   "metadata": {
    "colab": {
     "base_uri": "https://localhost:8080/",
     "height": 421
    },
    "colab_type": "code",
    "executionInfo": {
     "elapsed": 3452,
     "status": "ok",
     "timestamp": 1585590301492,
     "user": {
      "displayName": "Marius-Constantin Dinu",
      "photoUrl": "https://lh3.googleusercontent.com/a-/AOh14Ggjp9xw1rWHA81nVWnaDZv7DMr05fAFanjrBIVfmg=s64",
      "userId": "15394306909827369521"
     },
     "user_tz": -120
    },
    "id": "qwYyuiQrsq_I",
    "outputId": "a8049521-9744-4303-ee6d-6b11c1d4d989"
   },
   "outputs": [],
   "source": [
    "# show behavior in envrionment with random agent\n",
    "env = RandomAugmentingEnv(obs_position=20, floor_height=20)"
   ]
  },
  {
   "cell_type": "markdown",
   "metadata": {
    "colab_type": "text",
    "id": "ngvV7Dujsq_R"
   },
   "source": [
    "### Define Policy Network"
   ]
  },
  {
   "cell_type": "code",
   "execution_count": 34,
   "metadata": {
    "colab": {},
    "colab_type": "code",
    "id": "6Pw6d_0_sq_S"
   },
   "outputs": [],
   "source": [
    "class ActorNet(nn.Module):\n",
    "    def __init__(self):\n",
    "        super(ActorNet, self).__init__()\n",
    "        \n",
    "        self.features = nn.Sequential(\n",
    "            nn.Conv2d(in_channels=1, out_channels=8, kernel_size=3, stride=4),\n",
    "            nn.ReLU(),\n",
    "            nn.Conv2d(in_channels=8, out_channels=16, kernel_size=3,  stride=2),\n",
    "            nn.ReLU(),\n",
    "            nn.Conv2d(in_channels=16, out_channels=32, kernel_size=3,  stride=2),\n",
    "            nn.ReLU(),\n",
    "        )\n",
    "        self.fc = nn.Sequential(\n",
    "            nn.Linear(32*3*3, 128), \n",
    "            nn.ReLU(),\n",
    "            nn.Linear(128, 2)\n",
    "        )\n",
    "        \n",
    "    def forward(self, x):\n",
    "        x = self.features(x)\n",
    "        # convert the images to a matrix with the batch count as first dimension and the features as second dimension\n",
    "        x = x.view(x.size(0), -1)\n",
    "        x = self.fc(x)\n",
    "        # return torch.softmax(x, dim=-1) #-1 to take softmax of last dimension\n",
    "        return x\n",
    "    \n",
    "class CriticNet(nn.Module):\n",
    "    def __init__(self):\n",
    "        super(CriticNet, self).__init__()\n",
    "        self.features = nn.Sequential(\n",
    "            nn.Conv2d(in_channels=1, out_channels=8, kernel_size=3, stride=4),\n",
    "            nn.ReLU(),\n",
    "            nn.Conv2d(in_channels=8, out_channels=16, kernel_size=3,  stride=2),\n",
    "            nn.ReLU(),\n",
    "            nn.Conv2d(in_channels=16, out_channels=32, kernel_size=3,  stride=2),\n",
    "            nn.ReLU(),\n",
    "        )\n",
    "        self.fc = nn.Sequential(\n",
    "            nn.Linear(32*3*3, 128), \n",
    "            nn.ReLU(),\n",
    "            nn.Linear(128, 1)\n",
    "        )\n",
    "        \n",
    "    def forward(self, x):\n",
    "        x = self.features(x)\n",
    "        x = x.view(x.size(0), -1)\n",
    "        return self.fc(x)\n",
    "\n",
    "    \n",
    "class ActorCriticNet(nn.Module):\n",
    "    def __init__(self, state_size, action_size, hidden_size):\n",
    "        super(ActorCriticNet, self).__init__()\n",
    "        self.actor = ActorNet()\n",
    "        self.critic = CriticNet()\n",
    "\n",
    "    def forward(self, x):\n",
    "        raise NotImplementedError\n",
    "\n",
    "    def act(self, state):\n",
    "        action_logits = self.actor(state)\n",
    "        dist = Categorical(logits=action_logits)\n",
    "        action = dist.sample()\n",
    "        log_probs = dist.log_prob(action)\n",
    "        return action, log_probs\n",
    "    \n",
    "    def evaluate(self, state, action):\n",
    "        action_logits = self.actor(state)\n",
    "        policy_dist = Categorical(logits=action_logits)\n",
    "        log_probs = policy_dist.log_prob(action)\n",
    "        entropy = policy_dist.entropy()\n",
    "        state_value = self.critic(state)\n",
    "        return state_value, log_probs, entropy"
   ]
  },
  {
   "cell_type": "markdown",
   "metadata": {
    "colab_type": "text",
    "id": "AZ9B_0NBsq_Y"
   },
   "source": [
    "### Training Buffer"
   ]
  },
  {
   "cell_type": "code",
   "execution_count": 35,
   "metadata": {
    "colab": {},
    "colab_type": "code",
    "id": "kPOf2_C0sq_Z"
   },
   "outputs": [],
   "source": [
    "class Transition(object):\n",
    "    def __init__(self, state, action, reward, log_probs):\n",
    "        self.state = state\n",
    "        self.action = action\n",
    "        self.reward = reward\n",
    "        self.g_return = 0.0\n",
    "        self.log_probs = log_probs\n",
    "\n",
    "\n",
    "class Episode(object):\n",
    "    def __init__(self, discount):\n",
    "        self.discount = discount\n",
    "        self._empty()\n",
    "        self.total_reward = 0.0\n",
    "\n",
    "    def _empty(self):\n",
    "        self.n = 0\n",
    "        self.transitions = []\n",
    "\n",
    "    def reset(self):\n",
    "        self._empty()\n",
    "\n",
    "    def size(self):\n",
    "        return self.n\n",
    "\n",
    "    def append(self, transition):\n",
    "        self.transitions.append(transition)\n",
    "        self.n += 1\n",
    "        \n",
    "    def states(self):\n",
    "        return [s.state for s in self.transitions]\n",
    "    \n",
    "    def actions(self):\n",
    "        return [a.action for a in self.transitions]\n",
    "    \n",
    "    def rewards(self):\n",
    "        return [r.reward for r in self.transitions]\n",
    "    \n",
    "    def returns(self):\n",
    "        return [r.g_return for r in self.transitions]\n",
    "    \n",
    "    def calculate_return(self):\n",
    "        # turn rewards into return\n",
    "        rewards = self.rewards()\n",
    "        trajectory_len = len(rewards)\n",
    "        return_array = torch.zeros((trajectory_len,))\n",
    "        g_return = 0.\n",
    "        for i in range(trajectory_len-1, -1, -1):\n",
    "            g_return = rewards[i] + self.discount*g_return\n",
    "            return_array[i] = g_return\n",
    "            self.transitions[i].g_return = g_return\n",
    "        return return_array\n",
    "\n",
    "class ReplayBuffer(object):\n",
    "    def __init__(self, capacity, batch_size, min_transitions):\n",
    "        self.capacity = capacity\n",
    "        self.batch_size = batch_size\n",
    "        self.min_transitions = min_transitions\n",
    "        self.buffer = []\n",
    "        self._empty()\n",
    "        self.mean_returns = []\n",
    "        self.all_returns = []\n",
    "        \n",
    "    def _empty(self):\n",
    "        del self.buffer[:]\n",
    "        self.position = 0\n",
    "\n",
    "    def add(self, episode):\n",
    "        \"\"\"Saves a transition.\"\"\"\n",
    "        episode.calculate_return()\n",
    "        for t in episode.transitions:\n",
    "            if len(self.buffer) < self.capacity:\n",
    "                self.buffer.append(None)\n",
    "            self.buffer[self.position] = t\n",
    "            self.position = (self.position + 1) % self.capacity\n",
    "            \n",
    "    def update_stats(self):\n",
    "        returns = [t.g_return for t in self.buffer]\n",
    "        self.all_returns += returns\n",
    "        mean_return = np.mean(np.array(returns))\n",
    "        self.mean_returns += ([mean_return]*len(returns))\n",
    "\n",
    "    def reset(self):\n",
    "        self._empty()\n",
    "\n",
    "    def sample(self):\n",
    "        prob = [1/len(self.buffer) for _ in range(0, len(self.buffer))]\n",
    "        return np.random.choice(self.buffer, size=self.batch_size, p=prob, replace=False)\n",
    "\n",
    "    def __len__(self):\n",
    "        return len(self.buffer)\n",
    "\n",
    "\n",
    "def grad_variance(g):\n",
    "    return np.mean(g**2) - np.mean(g)**2\n",
    "\n",
    "\n",
    "class Logger(object):\n",
    "    def __init__(self):\n",
    "        self.gradients = []\n",
    "\n",
    "    def add_gradients(self, grad):\n",
    "        self.gradients.append(grad)\n",
    "\n",
    "    def compute_gradient_variance(self):\n",
    "        vars_ = []\n",
    "        grads_list = [np.zeros_like(self.gradients[0])] * 100\n",
    "        for i, grads in enumerate(self.gradients):\n",
    "            grads_list.append(grads)\n",
    "            grads_list = grads_list[1:]\n",
    "            grad_arr = np.stack(grads_list, axis=0)\n",
    "            g = np.apply_along_axis(grad_variance, axis=-1, arr=grad_arr)\n",
    "            vars_.append(np.mean(g))\n",
    "        return vars_"
   ]
  },
  {
   "cell_type": "markdown",
   "metadata": {
    "colab_type": "text",
    "id": "XHUx_w4isq_f"
   },
   "source": [
    "### Define Agent"
   ]
  },
  {
   "cell_type": "code",
   "execution_count": 36,
   "metadata": {
    "colab": {},
    "colab_type": "code",
    "id": "fw35TDTAsq_g"
   },
   "outputs": [],
   "source": [
    "class Agent(object):\n",
    "    def __init__(self, buffer, state_size, action_size, hidden_size, learning_rate, transforms, logger, eps_clip=0.2, n_epochs=1, betas=(0.9, 0.999), loss_scales=(0.5, 1.0, 0.0)):\n",
    "        self.action_size = action_size\n",
    "        self.buffer = buffer\n",
    "        self.policy = ActorCriticNet(state_size, action_size, hidden_size).to(device)\n",
    "        self.optimizer = optim.Adam(self.policy.parameters(), lr=learning_rate, betas=betas)\n",
    "        self.critic_criterion = torch.nn.MSELoss()\n",
    "        self.loss_scales = loss_scales\n",
    "        self.transforms = transforms\n",
    "        self.n_epochs = n_epochs\n",
    "        self.eps_clip = eps_clip\n",
    "        self.logger = logger\n",
    "        \n",
    "    def act(self, state):\n",
    "        with torch.no_grad():\n",
    "            # TODO: Check if this is correct!\n",
    "            # OLD:\n",
    "            # state_t = self.transforms(state).view(1, -1)\n",
    "            # NEW:\n",
    "            state_t = self.transforms(state)\n",
    "            state_t = state_t if len(state_t.shape) == 2 else state_t.unsqueeze(0)\n",
    "            action, log_probs = self.policy.act(state_t)\n",
    "        return action.cpu(), log_probs\n",
    "\n",
    "    def train(self):       \n",
    "        for _ in range(self.n_epochs):   \n",
    "            # sample batch from buffer\n",
    "            samples = self.buffer.sample()\n",
    "            episode_returns = []\n",
    "            states = []\n",
    "            actions = []\n",
    "            old_log_probs = []\n",
    "            for s in samples:\n",
    "                states += [self.transforms(s.state),]\n",
    "                episode_returns += [s.g_return,]\n",
    "                actions += [s.action,]\n",
    "                old_log_probs += [s.log_probs,]\n",
    "\n",
    "            # create tensors\n",
    "            state_t = torch.stack(states, dim=0).to(device).detach()\n",
    "            action_t = torch.LongTensor(actions).to(device).detach()    \n",
    "            return_t = torch.FloatTensor(episode_returns).view(-1, 1).to(device)\n",
    "            old_log_probs_t = torch.stack(old_log_probs, dim=0).to(device).detach()\n",
    "            \n",
    "            # normalize returns\n",
    "            return_t = (return_t - return_t.mean()) / (return_t.std() + 1e-5)\n",
    "            \n",
    "            # get value function estimate\n",
    "            v_s, log_probs, entropy = self.policy.evaluate(state_t, action_t)\n",
    "                        \n",
    "            # use importance sampling\n",
    "            ratios = torch.exp(log_probs.view(-1, 1) - old_log_probs_t.detach())\n",
    "\n",
    "            # compute advantage\n",
    "            advantages = return_t - v_s.detach()\n",
    "\n",
    "            # compute ppo trust region loss\n",
    "            surr1 = ratios * advantages\n",
    "            surr2 = torch.clamp(ratios, 1-self.eps_clip, 1+self.eps_clip) * advantages\n",
    "            policy_loss = -torch.min(surr1, surr2)\n",
    "\n",
    "            # compute critic loss\n",
    "            value_loss = self.critic_criterion(v_s, return_t)\n",
    "            \n",
    "            # combine losses\n",
    "            loss = self.loss_scales[0]*value_loss + self.loss_scales[1]*policy_loss - self.loss_scales[2]*entropy.view(-1, 1)\n",
    "\n",
    "            # perform training step\n",
    "            self.optimizer.zero_grad()\n",
    "            loss.mean().backward()\n",
    "            self.logger.add_gradients(np.concatenate([param.grad.view(-1).detach().cpu().numpy() for param in self.policy.parameters()], axis=0))\n",
    "            self.optimizer.step()\n",
    "        \n",
    "        return (loss.mean().detach().cpu().numpy(), \n",
    "                value_loss.mean().detach().cpu().numpy(), \n",
    "                policy_loss.mean().detach().cpu().numpy()), entropy.mean().detach().cpu().numpy()"
   ]
  },
  {
   "cell_type": "markdown",
   "metadata": {
    "colab_type": "text",
    "id": "v9C5-DnvsrAQ"
   },
   "source": [
    "### Define Task Runner"
   ]
  },
  {
   "cell_type": "code",
   "execution_count": 37,
   "metadata": {
    "colab": {},
    "colab_type": "code",
    "id": "qV_tbaGKsrAS"
   },
   "outputs": [],
   "source": [
    "class Runner(object):\n",
    "    def __init__(self, env, agent, buffer, logger, discount=0.99, n_episodes=5000, reward_scale=0.01,\n",
    "                 use_buffer_reset=True, stats_interval=1, print_stats=True, min_average_reward=300, render=False):\n",
    "        self.env = env\n",
    "        self.agent = agent\n",
    "        self.buffer = buffer\n",
    "        self.render = render\n",
    "        self.logger = logger\n",
    "        self.discount = discount\n",
    "        self.n_episodes = n_episodes\n",
    "        self.reward_scale = reward_scale\n",
    "        self.use_buffer_reset = use_buffer_reset\n",
    "        self.stats_interval = stats_interval\n",
    "        self.print_stats = print_stats\n",
    "        self.min_average_reward = min_average_reward\n",
    "        # store stats for plotting\n",
    "        self.stats_rewards_list = []\n",
    "        self.stats_entropy_list = []\n",
    "        # stats for running episodes\n",
    "        self.timesteps = 0\n",
    "\n",
    "    def run(self):\n",
    "        with tqdm(range(self.n_episodes)) as pbar:\n",
    "            for e in pbar:\n",
    "                state = self.env.reset()\n",
    "                total_losses = 0.\n",
    "                value_losses = 0.\n",
    "                policy_losses = 0.\n",
    "                # stopping condition for training if agent reaches the amount of reward\n",
    "                if len(self.stats_rewards_list) > self.stats_interval and np.mean(self.stats_rewards_list[-self.stats_interval:],axis=0)[1] > self.min_average_reward:\n",
    "                    print(\"Stopping at episode {} with average rewards of {} in last {} episodes\".\n",
    "                        format(e, np.mean(self.stats_rewards_list[-self.stats_interval:],axis=0)[1], self.stats_interval))\n",
    "                    break  \n",
    "\n",
    "                # create new episode\n",
    "                episode = Episode(discount=self.discount)\n",
    "\n",
    "                done = False\n",
    "                # train in each episode until episode is done\n",
    "                while not done:\n",
    "                    self.timesteps += 1\n",
    "                    if self.render: self.env.render()\n",
    "\n",
    "                    # select an action from the agent's policy\n",
    "                    action, log_probs = self.agent.act(state)\n",
    "\n",
    "                    # enter action into the env\n",
    "                    next_state, reward, done, _ = self.env.step(action.item())\n",
    "                    episode.total_reward += reward\n",
    "                    \n",
    "                    # store agent trajectory\n",
    "                    transition = Transition(state=state, action=action, reward=(reward*self.reward_scale), log_probs=log_probs)\n",
    "                    episode.append(transition)\n",
    "\n",
    "                    # update stats and update agent if done\n",
    "                    if done:\n",
    "                        # add current episode to the replay buffer\n",
    "                        self.buffer.add(episode)\n",
    "                        self.stats_rewards_list.append((e, episode.total_reward, episode.size()))\n",
    "\n",
    "                        # skip if stored episodes are less than the batch size\n",
    "                        if len(self.buffer) < self.buffer.min_transitions: break\n",
    "\n",
    "                        # update the network\n",
    "                        (total_loss, value_loss, policy_loss), entropy = self.agent.train()\n",
    "                        \n",
    "                        total_losses += total_loss\n",
    "                        value_losses += value_loss\n",
    "                        policy_losses += policy_loss\n",
    "                        self.stats_entropy_list.append(entropy)\n",
    "                        self.buffer.update_stats()\n",
    "                        \n",
    "                        if self.use_buffer_reset: self.buffer.reset()\n",
    "                        if self.print_stats and e % self.stats_interval == 0:\n",
    "                            pbar.set_description(\"[%03d] Reward: %.4f\" % (e, np.mean(self.stats_rewards_list[-self.stats_interval:],axis=0)[1]))\n",
    "\n",
    "                    state = next_state"
   ]
  },
  {
   "cell_type": "markdown",
   "metadata": {
    "colab_type": "text",
    "id": "SRMpVLPisrAV"
   },
   "source": [
    "### Train Agent"
   ]
  },
  {
   "cell_type": "code",
   "execution_count": 42,
   "metadata": {
    "colab": {},
    "colab_type": "code",
    "id": "BuYUpwjVsrAW"
   },
   "outputs": [],
   "source": [
    "# create environment\n",
    "# env, action_size, state_size = create_env()\n",
    "action_size=2\n",
    "state_size=60\n",
    "seed = 31\n",
    "# set seed\n",
    "set_seed(env, seed=seed)\n",
    "\n",
    "# hyperparameters\n",
    "episodes = 20000 # run agent for this many episodes\n",
    "epochs = 4 # run n epochs of network updates\n",
    "hidden_size = 64 # number of units in NN hidden layers\n",
    "learning_rate = 0.002 # learning rate for optimizer\n",
    "discount = 0.99 # discount factor gamma value\n",
    "reward_scale = 1. # reward scaling\n",
    "\n",
    "batch_size = 1000 # number of samples used for an update\n",
    "min_transitions = 2000 # number of minimum transitions until update is triggered\n",
    "capacity = 2000 # maximum number of transitions stored in the replay buffer\n",
    "\n",
    "use_buffer_reset = True # resets the buffer after every update\n",
    "eps_clip = 0.2 # clipping or importance sampling updates\n",
    "loss_scales = (.5, 1., 0.01) # loss scales (value loss, policy loss, entropy loss)\n",
    "betas = (0.9, 0.999) # optimizer beta parameters\n",
    "\n",
    "# additional settings\n",
    "print_stats = True\n",
    "render = False"
   ]
  },
  {
   "cell_type": "code",
   "execution_count": 43,
   "metadata": {
    "colab": {},
    "colab_type": "code",
    "id": "oklfElE2srAa"
   },
   "outputs": [],
   "source": [
    "logger = Logger()\n",
    "buffer = ReplayBuffer(capacity=capacity, batch_size=batch_size, min_transitions=min_transitions)\n",
    "agent = Agent(buffer=buffer, state_size=state_size, action_size=action_size, hidden_size=hidden_size,\n",
    "              learning_rate=learning_rate, transforms=transforms, logger=logger, n_epochs=epochs, betas=betas, loss_scales=loss_scales)\n",
    "runner = Runner(env=env, agent=agent, buffer=buffer, logger=logger, discount=discount, n_episodes=episodes, reward_scale=reward_scale, \n",
    "                use_buffer_reset=use_buffer_reset, print_stats=print_stats, render=render)"
   ]
  },
  {
   "cell_type": "code",
   "execution_count": 44,
   "metadata": {
    "colab": {
     "base_uri": "https://localhost:8080/",
     "height": 66,
     "referenced_widgets": [
      "b1fb731b063c4bdab7d98ee3293b444c",
      "1aa630f83dcf43e8a055678ddead20f4",
      "a88f130052ea42fdbe560e60749774cb",
      "2a13cf2d4cfc40629d52e7aa0b779a71",
      "3f9b6c5f7f9e452db296f8c789a42616",
      "d882dff31bc049e28403f45525cb9429",
      "e0c469e6089843de863afc9cb0fed7c5",
      "ecd4c91ef51944998f3c6c87710feff1"
     ]
    },
    "colab_type": "code",
    "executionInfo": {
     "elapsed": 397641,
     "status": "ok",
     "timestamp": 1585590722221,
     "user": {
      "displayName": "Marius-Constantin Dinu",
      "photoUrl": "https://lh3.googleusercontent.com/a-/AOh14Ggjp9xw1rWHA81nVWnaDZv7DMr05fAFanjrBIVfmg=s64",
      "userId": "15394306909827369521"
     },
     "user_tz": -120
    },
    "id": "EoyDdHhAsrAf",
    "outputId": "e789ffe3-50b6-4753-fd7f-e9709ddc1821"
   },
   "outputs": [
    {
     "data": {
      "application/vnd.jupyter.widget-view+json": {
       "model_id": "68a00a01a82c488fb897b2009d3ce910",
       "version_major": 2,
       "version_minor": 0
      },
      "text/plain": [
       "  0%|          | 0/20000 [00:00<?, ?it/s]"
      ]
     },
     "metadata": {},
     "output_type": "display_data"
    }
   ],
   "source": [
    "runner.run()"
   ]
  },
  {
   "cell_type": "code",
   "execution_count": 45,
   "metadata": {
    "colab": {
     "base_uri": "https://localhost:8080/",
     "height": 937
    },
    "colab_type": "code",
    "executionInfo": {
     "elapsed": 5643,
     "status": "ok",
     "timestamp": 1585590750145,
     "user": {
      "displayName": "Marius-Constantin Dinu",
      "photoUrl": "https://lh3.googleusercontent.com/a-/AOh14Ggjp9xw1rWHA81nVWnaDZv7DMr05fAFanjrBIVfmg=s64",
      "userId": "15394306909827369521"
     },
     "user_tz": -120
    },
    "id": "0aYNELqfsrAk",
    "outputId": "a9e3ee78-33d1-4872-eb1d-2b4a6a4fb56d"
   },
   "outputs": [
    {
     "data": {
      "image/png": "[encoded data removed]",
      "text/plain": [
       "<Figure size 1600x1600 with 5 Axes>"
      ]
     },
     "metadata": {},
     "output_type": "display_data"
    }
   ],
   "source": [
    "plot_results(runner, reward_scale=reward_scale)"
   ]
  },
  {
   "cell_type": "code",
   "execution_count": 28,
   "metadata": {
    "colab": {
     "base_uri": "https://localhost:8080/",
     "height": 421
    },
    "colab_type": "code",
    "executionInfo": {
     "elapsed": 4260,
     "status": "ok",
     "timestamp": 1585590789655,
     "user": {
      "displayName": "Marius-Constantin Dinu",
      "photoUrl": "https://lh3.googleusercontent.com/a-/AOh14Ggjp9xw1rWHA81nVWnaDZv7DMr05fAFanjrBIVfmg=s64",
      "userId": "15394306909827369521"
     },
     "user_tz": -120
    },
    "id": "0WbXUDVusrAo",
    "outputId": "b08aab3e-0765-47a5-d832-550dff29f69f"
   },
   "outputs": [
    {
     "data": {
      "text/html": [
       "<video alt=\"test\" autoplay \n",
       "                  loop controls style=\"height: 400px;\">\n",
       "                  <source src=\"data:video/mp4;base64,AAAAIGZ0eXBpc29tAAACAGlzb21pc28yYXZjMW1wNDEAAAAIZnJlZQAAhPltZGF0AAACrgYF//+q3EXpvebZSLeWLNgg2SPu73gyNjQgLSBjb3JlIDE1MiByMjg1NCBlOWE1OTAzIC0gSC4yNjQvTVBFRy00IEFWQyBjb2RlYyAtIENvcHlsZWZ0IDIwMDMtMjAxNyAtIGh0dHA6Ly93d3cudmlkZW9sYW4ub3JnL3gyNjQuaHRtbCAtIG9wdGlvbnM6IGNhYmFjPTEgcmVmPTMgZGVibG9jaz0xOjA6MCBhbmFseXNlPTB4MzoweDExMyBtZT1oZXggc3VibWU9NyBwc3k9MSBwc3lfcmQ9MS4wMDowLjAwIG1peGVkX3JlZj0xIG1lX3JhbmdlPTE2IGNocm9tYV9tZT0xIHRyZWxsaXM9MSA4eDhkY3Q9MSBjcW09MCBkZWFkem9uZT0yMSwxMSBmYXN0X3Bza2lwPTEgY2hyb21hX3FwX29mZnNldD0tMiB0aHJlYWRzPTMgbG9va2FoZWFkX3RocmVhZHM9MSBzbGljZWRfdGhyZWFkcz0wIG5yPTAgZGVjaW1hdGU9MSBpbnRlcmxhY2VkPTAgYmx1cmF5X2NvbXBhdD0wIGNvbnN0cmFpbmVkX2ludHJhPTAgYmZyYW1lcz0zIGJfcHlyYW1pZD0yIGJfYWRhcHQ9MSBiX2JpYXM9MCBkaXJlY3Q9MSB3ZWlnaHRiPTEgb3Blbl9nb3A9MCB3ZWlnaHRwPTIga2V5aW50PTI1MCBrZXlpbnRfbWluPTI1IHNjZW5lY3V0PTQwIGludHJhX3JlZnJlc2g9MCByY19sb29rYWhlYWQ9NDAgcmM9Y3JmIG1idHJlZT0xIGNyZj0yMy4wIHFjb21wPTAuNjAgcXBtaW49MCBxcG1heD02OSBxcHN0ZXA9NCBpcF9yYXRpbz0xLjQwIGFxPTE6MS4wMACAAAAHoGWIhAAz//727L4FNhTIUJcRLMXaSnA+KqSAgHc02r/ECJf+AE7r6FQiwjvolwwtvbyUQ/j4H3uwQrVbz73PFImgHLsND9bn1h8t5MF8oPO4CwAf5N0C4eQkmnT+DurOOG0m0CaQ6ZLX1e48j0qDcMo9gjz7VtGy90tJfFe8at+WgDX/7ldvTNwZrUZH4ENYtb1C2/0J3vb9Y5sW4XWV+kNok4/gW4zvBkXo4d958CVPZHbP/o+UwXuJleTN27//4jPAxwrlJduMIMNocdQrWCUM5ZUlpftqPa7DGIiVkq8cIsAAAAMAACGznLOq6be6nHj51wZFIoqbAAAlIIdH8EgDuDvEOFOKaR8jxajdSVBzvN7wDs3N2UNC4TPCma/fsZF/DjiBLYBfpsrL6eKCmqBcWwx4bxVJjqxSgxdAZ+l1TYYCdP83YLQx/9D3TQlBnQZbsvxuDvBOrTo4k6qEfXegUM4gcW5uz5C2v3Bzq1eeIzVFmOF6z8JNelExEIMM0ezY0ZvEdkTdRK7PnLXnSHIOjj6yL+/47gvH865SYcPGtfuDmlADdrFhVSC6Iw5JVNbXXzsaGNXp7/mQaEd/ktrYF6LQbE4ID7K8sTtvCBNdceeKiGq3YKfS9oK9a9vI9yKWrm9cQmXcv/7m9KgLs1y4ejJmX57nqOg/4BQajurKlHTIdCqqNvREZEJH9A3yiA2qEBRnEmQMzqHT7Pexpp0yc7FMu2KzE7EaUfATcjuK/WxYqvaOSxU98M5Ps9BOeVRnm+44uHV+GHLS6usfQvrrnj2MGKfXH+rQ/fB1HaesaPf+f5IuYHDcEwi/iIXud2mV71ixSTMRt9ecpCtzfzDzq/h0+H6ooi7sX9aHf5hUr5KFe0F9BuVNV40TPI4YAvxyz5Xk6Z79ofroq3Cp9pNWadn6rLnbrzCPzpxCvcdem6H+Rvoh/uVl/6o3oibl24sRxw1Tfmx53JuSyNCfRVO+2jaKIFDLvUoXdAh0+/I8P6dkE8x2RlCWZLRxf8soUlwDVg5o84tZUhadWvqzzDT8pXPYfPZJVwPamDoGbtHt8OjDgfUk9n2KEcjJNM2XANXNwHqF0klNg5f18F/QDrOIeiH2WO2GcWc7BntjzrZfgbeARlVWaZoJuv1na54leWeY22B9uinC7rbKFy2hRrxhJ/XhnkKii2oxDUIzNujxX5ijsK8ZNIuzMdeu4QIs4fQY0ZslQtechKx50Fg07uZu8KWvIdo5mjG5gPl+FlS3zogyCApDtd55taSElWzqeZzQcqi+Z++nxX7dKq+nqwhTKIwYiWcvJi8XVo57HDyw9zmv+/CRKJGB1n2ZbC7TiCSKix/6OPK+VIuRFJkq19aN0bHWHN33MalJAJutu0VZdbaXqg+kiPF6uXrEsv1ZLCPUAMl11erOx+ZnhKcDc5CRIsgLNQFEu4rvG342CoBXDbCil61X/TSxZtSBvV1o476Scw3X6n1vuFLlOThEcf4hUSgCkPYQ91rmWLkjSu6QFTkpsJpLWoIqODbASD7q4/NM5MgBtY9SIQ37ZC1DxDb5R+XQ4/exfVjTis7r12AcKtAEIY2jrdTGMc5iw6Kf9wYb2z+0iK5IZE0E9ZYTvh0k7T/0KjU4a99bTuhlfzNwdr1KgCP9ZuX/ewtQAgpi5H5yoQT9J8ZG+WVAHmGjDAECaVjlo2BOhjkPmFfTdNdktVr8FAK/ZCdZt56KP3wSE6dmsdy/+lUESldM5kf2UJph+GGnyVi9g47Pk+RyXivCD5yLxcK3aPhvRHofnH0iqEe0ttOkgQhUzrQZweWcvxpl3rOH4trHohkE9is/jPZ7uYFTkn//CnOhtBO6E7m+vpHu9jwvdJh4mDsfR9b0v2wUXqMj2u+rXLB1kn+Xtj09EB1byfQPJgqL2OC80mpzeE+T4IAjN1OVbacW/Bfed5Sh67mak6EXwpGZpHcn3mtZvJ4YY4UV9B8P/MqB7bhvC2DgKROUyDmFfaaV5ofNZGkTi1xUZa7nhaAAfkdoaE0HbcaR7nQ0/k/nkMaS6xf2cvo8umibTcU4Ny9e66n6uBqfxLAUM86JVd0aEOH/YVSwc1fym49DTNsDzLG9sSLIMLdRGdPAyvoGBxjvSg+CIzZFK+kzlsz4clo3N5zleEFfkOI+jhKr6UbJ0BvabvavoLUREsjXnTHrIqllJWwLIXXPXCk3mSPWuuv570b/0K1FbNVe+b9+MGOlbsSeuQ3tDueUaOv4EdOOj/ClPRkgQyDnyus+rVimkoFTqRyWWiidKV/qhagjk+Rt/i9Vc1/uYuRSQY+IyL4PtYsEd1zyRVrQ9Tt6CJwu3eF/1TjgHrqB8FAB4RGAGtd2picGWdyx6VwLs+ao//1ugoHoqXnDSvzewzHjQU2efR+A3tOATb9C/i+AAABlc1+GZiTbMRtroK3he5EmSY3f97aSiiEoP9FZTh3mPKq43SaS9FpnItmvmW2NEOPJypcGFmsdtgOPkvjqk8qm+WM8lh3GfM2S6MEq6ZcZGoZWspsLdnyoDsmx9K3mNfAjMU5y34jQogQQdm2HtwdHmcObbtELQLKZGx6jLt9jAAADALhAAAADAAKXAAABEEGaJGxDP/6eKksc46ATX14KoWUug7BN5QnWCreM4wfcDQVyamwzRyd2NzF5G14BJFjWLylM6Op9mFpl0K/fmdfJ+BZd44rgz0AAACQHfdtUy0gQLwIyXiyF6CGB9lVJj3cTTWXZaWy7i4nWx36CDgUJtujxtXVRy4/42lo8w1dI7ovEguAwL9/2Vg0b2HhImUqblLx16SZDxr6ZDXN9YdKDMHQXx33IAKqXut3CZ/uYv/Hz98JdOgiW56jI17l0Bk97+dFjJ/xfMuTMHUp4XaGwTJwhANl8CMYVTAou2g0gYtwZb4ToIqpd7QDQCAhLRQHg7m83jME5n1h+k/+cBYvE0y//E/+hg24QDuULUVG9AAAAd0GeQniEfw9KH8jmiNWtFkOoaSrgAE7afvIWe6x85y31+nScirebevOyXz0vLWV9O/lczHbbjQ2sCuhA8PAhm+c56l7xpXlqdN1Jx4wCWi9v9QCltHELofAui3iu/2Qni8ApxcwO9dEzl3IPcTWCDUwCDg7jADFhAAAAgAGeYXRH/xSx/VidUAw16pgsh4OJQaaQ8kZm7G7dECRSYwAlRQQaL39zwpCrsLjf7g1++yhFMyGRKbfWojv2y1uqMwEMOy68w3713AFJR20Q+jfX5oaBBpoC+xkz6AWKOio/sOe2xnVmCiX2Wb9A6DOBHAFkckrW+L1AIthcOAyoAAAATAGeY2pH/xS/mWfGaLe6z0vyMZ9kf1L0rwJh/VnaLsACHN/dvJElWlBK60asWk1fv2IAkQayRXka93EhY864akgEdVOptx8Vrg4wvQ8AAACTQZpoSahBaJlMCGf//p4tun+gO0MR8QKAFh3RKzwJSHjZ2R2w6zF00g7NU+6cu3ZnuncJIytivcFXcBCfefvcwgsS+Rc5aAHv0AAAP02zu21Ko/28SVzhrZEdSXCIXR5orkw1gScBeG5Y2Fv7zENOsJpHQ6NZUrreNdzZzw1XEUK6cRQJuAUDDOnt8SMOMPCcwA9JAAAAS0GehkURLCP/DqEGvI1gsAB+HmEoGiaw4ioUkp/89yjJJEUZJdI3c8fLmikPNLwmnAAAo3fn5cZBhI1nl2fEOtUO8OOabn+QVNCigQAAADQBnqV0R/8U6z27YDEAAtszTVIcuTttcVaVamYM/Zx4ADo/2nlsx34bSoALGv9x9jT1RgZVAAAAIQGep2pH/xLm6O5e/Mj2+1qGiONZEj6gAACdHb6OpVNWwAAAAHBBmqxJqEFsmUwIZ//+niHzNrQabw8pXgfqEu/ynAEKysi4osZzpWWPsjxdi/boKzZaLDHNL1i4AAADAH8nO7aplvY0PSrzQNVzd4Ev9ci6JaTR1mu903qPzfabr+84M31ywWFcxyTapn92Eqc2emGYAAAASUGeykUVLCP/Dbh9Mn1plyHxR+AAquX+cvWWm8amNINiWlsZFnx7YDk69xZZTc3Ht1roxCwSDPUcUAFrGUMf4PZvgsOTiPqg9IEAAABMAZ7pdEf/EymMpbtYEmqrL6MAEj986527FRjaNrwryJiDhWuD/378tPGbIvqNo6aUudK8YqeEeycFX41trApcwZ4AA8csf9RbNQ1NTAAAAD8BnutqR/8TNRtodVmUNVvfSeA0WhNXQ/gALA3eUqRL83laG1D61pLKDmexCmu450G9wAdohLPEbTcEKrYXRDwAAACKQZrwSahBbJlMCGf//p4hp44lRAAsvRcIfpAXzJTYuNe7MH98dP/rJcLPgFRJHgfvSJcJxRobuHlQAAALAjftqeINNIJ1ZD4oUhS+uamU8p4We9tYauCegpHfCQpj62/YI01PPiBoUhTApiVR+QOEYqscMJBEmupfAHprkvO3A44El2CHPkCFKsKTAAAAUkGfDkUVLCP/DbiI5fTgQA+zpcwa76XohK/AQ/tSLLvzzbmNxWSjCuRNFMRVc03vDx7mJ2lLpMWF6oK7lXDAFtSK8pZvcrABukWZVvP/wRjAP8EAAAAmAZ8tdEf/FSMdBXmCWiACtoc/JD0sxtIavaAANrK+KyefuSxbmzEAAABKAZ8vakf/FP15j5g+iHUACcjLP9QaSE0f7DeAGts/TCz1zA/+tfDYTXRjGaquVVucBjjZj+GUyNRk6t0AMzdQp9AY9SJWzl6ACTgAAACZQZs0SahBbJlMCGf//p4i0QX6MdgAK8mavT9JazmGYlKXuUP8Jx4n4fBzbxJ2rOCNEo4QAAADAJuDRdMkqP/eF0+BvFmj0wmV+nWcoy76xHnLB40yS8eb8LGpGRADcU74LjRHdtUy5YOGjZ8ckuZgsG+Ri5RitTb0m84+XXs+yBNS74uXnIRib6CX7onUi3qcCWM5JZ7vYBJwAAAAOEGfUkUVLCP/DgoWxfAQA/R1rvsvKFj5TGEf6Z8Kkv/dRJvh3krSuqOfYEsCN47PzlgxpF2OsAzJAAAALAGfcXRH/xTrOpW+5JMoEP55cAAH+rlL7YRyJgurWQAZqkft0ktYZhCzUGY0AAAALQGfc2pH/xM1G16UVYOvU0b/4APi+m5/oMxShwS77/AAGpDBib/CdGNyrVAKGAAAAJtBm3hJqEFsmUwIZ//+niFys21x0AJiUwOnfyMn3qzpLtSzNF3sS7TEKqBDPAoSVQGpX6jdO/wXLAG2r18u0rebMgT7MBBATGYvKhG/aNg/VugAAAMAAoSnP6tOY33a1KyFy7NNHeQYtPYbQt0HoOnDXLxLM0gUmN+q9YknQFHHwi/9dYeIkUDCnQVoFTOBkf/xonFavJR/4WDnsQAAAE9Bn5ZFFSwj/w4KH1Uv1ACKByX5qeBWKfMJ3JOsiP09KsbKX+07PddrnLAznoREZAENuqilgKydPuVc89bNhgCw3k/+Yhd5PfBR8TpxdQPSAAAASwGftXRH/xMWlciZFxYDBean3ur7oKnugwAON2b+TGUqjgf0XeGE2GmdCOtsxRvnfLXgpxZHT7XNwm0EGXiSQEBhbRp72XN+cNwnNQAAACgBn7dqR/8TIkvUCAEYnZeww57NG4OO7e++1qfBADnl2v1j2wmKTcUFAAAAckGbvEmoQWyZTAhn//6eI00/0usBflOba4AIRehWtF8y7tg9XKH58h3N4ZlkRX0tibinPADTPUwxcSJzut5WDHPttIravoC/LRfxZh3aociB16UjXdCPnP+vrOTB5On4Mw0xAa5inoBq7QoAAEu1i5b0gAAAADZBn9pFFSwj/w3lcA8IAC/14n8toJeYyDSxhsrqURmFCCs2YQrTpxH7R3AAA0tfi1kr0fNACLkAAAAbAZ/5dEf/EtnBrEeAGNDXGitjFbwAAlsqT0WAAAAAHwGf+2pH/xLn42nwBY10aA1AZ3LjXTDdG6wAAL6rijcAAADoQZvgSahBbJlMCGf//p4b3yU0bGCielNglABsLuO8OAuFneziKfMDZVYXHQGnhxzWhuy7xr2xtKzV4tQmA5lvl54cZRKmyVaMTrjwFSqr407NqW0qLM9yuJa7yUQY0onOmdzATYP7aNvKiY8UKMGp94c/Jif5YnpmqHaJKa2MPppGT/TDqxRx799kjw87XrOUInE0AACMh7A3KZ+7apmszHUZpKgNa5sdXcBchBKdA04F1eHFENp+ZaxOOzLoW9qlMArpZAY/YGukg5PEl6S+an12jaPNHOgXZTMq/aooxIrwOQ+r04BowQAAAEhBnh5FFSwj/wvRIDirEvBwDshX2ABcRhBPdbVmXvOrjtiMIa/I1L64OqTwpyA+c/5SFMKWoz+mzdKQACgBpf98pJE7e1gAmYAAAAAvAZ49dEf/EzK3XpVDK4ttyf6RH7nN73NW5hirsK52jA1YXFPgAAv2fw3JjcWZNewAAABkAZ4/akf/Eze/YGVBHgBa0xwtNvLk4ilzL2c+oyak6JdcJchDvo57CpwGxfqIC2elyqllcPCj5DgOVxCj0cIOdEodVW5F1roKrDzDfWghs2fF8Sp5AbqYgHNNqzSG1UtDG5KT0wAAAMdBmiRJqEFsmUwIZ//+nhvdtdHmC2m5uDmzwAQfwmz+7QAfvSUjlHKb0agditztsl5Cyd1Shh7PsLmKS3BABTvzqX40ajlXZnAi2G6f7u68FOo5cN5M/g0T5yhgV4DLFdw5yKbN6+MtbXLITnbtknMAybUsvJq4BRolTwJ6GG6Bk6+djNQHys+Sy1Iz+r9bAzhaNFT4o5n1Ji8WCdeofEbLlAgjhWUefxpc00lLi8kToG6Rf/ffnaaneuiqPds9Te3PMAAAAwM+AAAAbEGeQkUVLCP/DHNU5jZMgQALp4aaJDOcPUyTPWY3VZP8wyQ75DapbeICqG+NBJfjJH7k4GgE0ca5Y5XOGy3dSG5dp5M9m3jGYpZO5HKOQ1Wvtx5gmoc7BHsu0hPByABktnLrUr+VYUW+RWAGfQAAAGwBnmF0R/8RjB18gYACPFR7vG8Hqwgu9HzKKtQnBvescpd1B2kP/UM0WxSqrR8m7kyfd0WuFeRt7zyrDZmjSVT2uCHw/5q9PiA3cmAERkr9EpX85rf+2PFdrnnyBY41bmOGGFINQAIRqtfAgBAAAABbAZ5jakf/ESwUqS2czABJ0GbgW1EsMC6ArJtnrvOdvr4mGZbVk/+/4RtnimUx0rB/RX0uWLlfIJ7VmZ7zMskbBXQUwou/43wUb8mb4Z5YtSwY93xeACWDv89PUwAAAQ5BmmhJqEFsmUwIX//+jL5Jjqk5wY4ARUYmq2svUVB+mTNTFUhIRv2gdk7Qp6Uh3aUz1VG4Noa1zPcCxL8NcJO08xf/Vvb05uD4M/R9fwAQpyhtdVc3RCIZvfQEnNMk88HMWSD7975Bzew0tp06gxEdmzxAAA6ugDnVjQXqbSb1PcBnuCqzbeulaBZOjHe5Rw7/8IcCYF54d6r5s8usm0yxPfQrfPLwxD8TRJ0ZAhIO57i92qMypX8m0S0Rgi1RhGlTBPVVWB4QD6OQo9Rfe+7apmfVzdH9eDs1nogxpgyj9CtaNdGCsJuH0bNhM8BK/LUWB36WCuuo0ViqR/xrmgokrZOgPVfORswdxj1CAqcAAACAQZ6GRRUsI/8MVvhgvAr8HgnDPSr+lT1mjbk9ELgbdVj0WBrQwALZvyyHtDFXtuDN5CO/MYfL/N/QkQkh9BfqEtL1fGYBy8moZoQSMhf7rKrmRLC6Qtw7oTc2pwgk8DB0MZaUG+0+iuAMy90sykZWwAQIP0gXRcB5d+1vSEhArdEAAABRAZ6ldEf/EVcxhftpuwtgxb4g7+4mWVynbcFYAHP1ehweGDFPhf5SnEMN6pdMyOh4HdCmD51E8WPUFO25H939i0nP2VR2Y/ojgAOdjMPyxoShAAAAjQGep2pH/xGluvZs+ACrosIwg8N6ZeTlSE8+y8fQvwqqVVyj99JskE0AhWHVdKzk0y0d8AHPRhh7iMEGz6xGc8xNmot/EazNZCiJeHVG+01QRDXRPsW1poORCDR0h7Go+LeNHeOuTostiq5q3h8B5DAgsgcS8hf7k5Tc990uKPLBWH/AAVwBkGYIuKn8wAAAAR9BmqxJqEFsmUwIX//+jM897wANjBbsZ4StbMz5swX68ixHgaO4PJBoqGUs8b6dd3+3o2AUs5M0TpPlI+EodmZPH9sRoYThW536OcbDBIDTR6EHq16qunjcCKzDJmRxj4cCwJ+T5msPQkN6umad/VBncgGZK0jqLcjwG29N1VIH0g1xlSJ8irp45Jwwo8AAAAzmrmcLg3AxfEBKVTuN3ZWlg+/sugRqfG9HQV59QdTD8l7KezHZCU9M6cPXeK6VHOEJp8tC42zfe6tWh/e2qZp7Y1s+htDEX18g7yx50vfYk3DvNAquCd+pX1cz+/HBXx+rYPrbtiugdmSr/OOYT2wDa0zIV0ghX4lvi3ozeTRYcUo0WfcykQzpINOmHgnKmAAAAFdBnspFFSwj/w+n+oAODWquM0+rCS4e93iE/eMV7kh78wScrD2Mzd8nQB441CyOQNbunc9I9m07YTDSWwuJ0C87whpgEbt41PBxnmImkrwMUMdMM6zR02cAAABYAZ7pdEf/FSNYcuy3nxABwaLERmdOvqQw7zTKL8TffgnS6qSvQkVquOh23kveOcTKPkYHj/3Q9X0sf3NMiHXq9jJv19K/yNL3h0ACvzT4ZfxX7wD/jTALuAAAAIABnutqR/8XZrcABARKT6IoAwBkPD797z9KMXn6gOAb9D9Y79i0YYyCg65g8MbRAa1jdqoI9JukzkuOG8D+dIqWis8lnH/M/SkkMQ1wTa+DiYSu/8rcpmfHwg8EpdDJN98bu1PXLONlAEte4pQic+VAurJY++6lywAFhOOOrYElTAAAARtBmvBJqEFsmUwIX//+jNNWp9vKXyuHG5JXAA0cnVQFWP+8KhAkJbZF0gZvlMrjToB7EPhfXaT04NoID36YK8D2k4/xTTYq1Cy0pyPafef/DH90Bm7pcIEwf0nrUxU5jMEUbn25051dvn1bK/gB12DB6CTfJnzgFIh0cSnm8ePVLRAymil4AAAIBygwlt0+POOevXA4eh4TMUUBZzFCcfTHsD/OH3hjXjaXaVhfaTIIpXv6hRTpXoQA+FrYrVP3ETIrxVEcgQkOyKoW94NqQErutStFZ2FOPMTuPI3GiBLoRrr/RfruwX9YSsmoWGqBRqw4Hp4clM9A5waSYiH/2D10HmS/UZdS8+inZfi5802n8iFHEfkJ8jZ9BBsxAAAAikGfDkUVLCP/D2jZWyHbIdiWyAE3aK2dzgHVmz2FT/kF02JeY9qXgp+GJDR6s58lq36U5toPLDVeJSbHl1cxdy8rw0DBV4dZfFT1n0+GNRX7Nmu3swpnYkSwR08NhYczCNHAXtdY+gL1Cl/AAjB50cJ+vJdL1VuOmL3WwaRnmgIZF5mW7mf4ugxVcQAAALABny10R/8WFf7Y0ANLdKkSsEjQd6oYifWl/QhXhe9eemvj3cJsOe/r7GvdH3Up/Ha5DCFrgNXIiUW4IZWYygp7Zh1297q5ZVatYMHswEkuFUdo/cs0dU0k+6CGAwW7C50hpAHe+ZjwdmTxPB4d6bCKOc9TFXD1D9oyDX85P8kEgSnlezV9ywLcQmDwDmV/ojS3dAlD8kLy0rWiYc0I3hhtCkxpu3LYuAuYzwGtiyqyXwAAAGoBny9qR/8TKFyMsmszAATFou20+DEPaALxG/ISglvYWIv0zBWWdltrGlsaRGE1wMyxgdxEFMV0C0mqhIpKn9ZgkAPlO6C8siAKBovPWtzGtK9dcPiYOrkKlgmdPvvRwA62BTuOJ0KFZcJOAAAA+kGbM0moQWyZTAhf//6MxIGveoD4l3oBRFre8bcYAcCkVUvkVj7OtlIZRPBfn4L6+Bvotf4J/6yX46tcFGReknttKQMNS5/Sx5lUwyJt1KAcDmf5/cKxTDlGUu9AAACGwY9wDqxr+5oOmydDR6FZUR01xk4MCtqzsmeEkLiaZ+kbl2dW3Du6e9KA1sh78lgvdtqV9VHwxT+NFr2HTfMuOWD+whUXuaO5fFArElzSVLw9/xRJT4l8i40/JCUo59Btijui0Jlo4f+KuzXrq/yvVS06tL6fhVNGnD4anmu3Ouzm6z9WlF3BslLWGtXZbhPkX3IjX3WhXpnmnAQAAABnQZ9RRRUsI/8NP5//TwAjoIarFSBZAwKh0eeik1HNk98Y7NkaRFomqREOsqsXde1nk5lbTrNNtZ+vKXoDdYE33TrIPXLMAWkMB96TJn05RQa1VP0/f5Dsm6TAAJ81X1fUug9k7ZgBcQAAAFwBn3JqR/8XbhuAUkvQ4GneVEjLNXHRojklo9SOJOVq+6UW3UaZWbuM+lqf+UjIT6Q/mGiCFmefXNDQX61xMCG4CdmmUrzM34hV9gUwKIJYjAAAHwzQ0uZliRAc0AAAAQJBm3RJqEFsmUwIZ//+nhhn3H8rIIAWkAvjfpuSND1ZZqYBWzwVlriibNYEUV3HtVUi3kJXNFW4AAADAKNPPIxyQZtk+Ozc9C9oJxTmlBdJftYZYXR0EAAJqWZJdQuKEfGmClUChx+HwH1yDvjiMbeubRvvcTCm3vu2qawwFOkvpQyK6k357Hz91yFamUKVpRF30+i25Usz0+P3+Sy6rFm0TpDhFVgMOn37NS6Q9JNnxFsZjSXEH6aFrVXdI1osbZEy5hSmUIQJA/0WjvnLaRY0IqJZ8XfQCojRHhAl4Qsr/xiC9ZZEggvGuCxXpBwjF2/rD9QQBIyR6w/nKkYiS3sACTgAAAEZQZuYSeEKUmUwIZ/+nhk/T6jLCST1DPa8KNl4Nf7kCN0Bp8PKbYomRQzJ8Qh0qMNPYVffYiMa5l4CS7hF4AAAO6/vsD4mIr7FkhkzRwfyCkeLNX3/LZQXbg3SKesZsaCfO+7apw7mXJxen7NJK8WzrGHRlKxmpoLaScLDzGobKV08uMPzOyuzdR9btivNYTZ7ybYfyxCEBMMZtiWIlK7OmtJg5PXSDlPm5veObhauHHOvj8S32kqzkfJYwoMDtx5N6iw5ZmP94j64ZRlKStgngu1Gqqo3BKnks/9YUl13bdsRqEW58VzKVw2LZf7tEP5K7wbqM1Er+tBJLaxohELDZOYmhQ9nBJL3EZ8LFonROd2YyKjW14SuAW0AAADCQZ+2RTRMI/8Lbh52eK2xUGGS8XUgAK9WaHK//XiufBE30Kblf7JIwO2CoZo02Z97UdrCg+Fd8D3sge8KLtt3GU5V70T5REvPyY90OK5SyaYXYnAEroK2d99jiwP/7+Wwrbo0Tmr2nwGN6UV7q+QUPVxxChqUjqYSEvqMUH/k9tVeqUwBnmRQT5IX6CehCy1M/6hbUtpmR4IWR0+HyqjCcTFvNB9f/GV/yJ7AeXhgpuu7sIAGF23zvmG1TtVcjcilGLAAAABxAZ/VdEf/EABIrLHXxHygAJYLQgNJVgkNYb1ulJUzndrUl5mB+g4A1vUCFwRUKJgylB5iqF2YzvXTQ9F2d/RgXTwg9hwD0OmQLpvb/7/Fk+umvIoTTQURYxaoBTm+wBkzNwpIR1RbWnP034AGSQn2eLsAAACbAZ/Xakf/D/vHifp8PHgXpUhEKKENtUa84JeDnq/k03JvWsz6xgASpnYkbSqEzlnHiiZadYqMdT7zbk6xIjcqXHqeT3997cwOvapJD7a3rRYCblpflJcPMhOczWrQFO+PZNSQlVwmgfHxqmJLv32si/Q0w8dzXbP5b790p1WBDohZyGHRozBZhZeDOwBABwRr3+WmdodPBRYEYEEAAAD1QZvcSahBaJlMCGf//p4WiZf1THrOF0wsh+/GgAy2Xhl+NukJeSih/J2t8G+Lt05N7lQwssBmUDRE0Pu/ogLxq2jPe8Oxyw3IFWudFfZSsscRW0tMfIgRUEk16bO6+K0mY/FuD0HZmq/Fun9awXok6+HzzAFet4m4mUfH8/Zz8+r3reZmi/YeMx7ufJlzqaFBVF3hMqIWF0YbYGiCdB1p5fLtevIOCBiux6hIRlZCAmIeURla+mCxJIWvUj5zI+UzhShPLiiAABuvcgEJ2OfeqeW5d6NJS8wRnOsctjWlSGmDdkPDNZCuBjB/TKH99nQgAYm8wOkAAACkQZ/6RREsI/8Ki0uPwyrfQBEbEq7qv0hzidchy/sxBiT9E00pO8DpiJMYjglrzp/4bzegEpD9wP/l+2NCHP+oN2IuUFKw2P8QN/czXdJYwC4Pxw6wuE8cq+/WiJkO+/2qSsgmhhAxMbdzIkCHj3g/x5jwtH2TYmyBH5KeBHYK5eK3PTEFpTAlIveMEFk5VWb20iAuUy3rAE3khX6NuGko91UmwfMAAAC+AZ4ZdEf/DrmejxvQAI92oMKYVVcVe2KgjwnzlxW3pJMn1svRmM5xpB1dLMFZE3TaVqDbO2m7EBbTYPtBquKID2eK05BUTo7GnuCfgCL3kOx1CFR4k6VE2qMQ5F2LpR6xR5Q0j18BAaGahiMfX/G13Nq9zhzzBGIEmlFHKKjOmFq2kwuj17S0+gsQuSiRnT23mt3JgMeCXEf/HdMIH9aviUWFk/u/JcfMBaJAcPtiV+kvLpBx90rLgFgRFXUVsAAAAKABnhtqR/8OtSRdJAB0i4/w/gTRbUfDQyMEU1auEvZ+/jDlpCjC5ydydmIzkQv73GD/Ct7pVqEghkolkAmrOnHpxK5ESs8WGK2PFBHaqrQu6Sev9laM3mW7DMxmVq7gfkpa8+fMIKom1uW/dJLSC+tR8vBW7ahfNUzX5yAeNySzO1ad5uhXjKXg0ehp1opY8HzH5KghrByOzlScAw7dWAJfAAAA9EGaAEmoQWyZTAhn//6eEAinfxjFYfvHcEuSIAacYPbAAPPzwnwBWFd9nshAdo2VSsOaxBGRH643YN/mt2b6p8APb9iIADGFjDeLmOVfNndJ1hRy821nATd5xif3afu7GOIg+ElRbtmuVLbN/0UOvhOYBv47zTkE0dxqTTyWRl9Cv2iMZodJJ3yY7RhzD1UUceyg5+2m8MjkHM69JabQXZSDC7YzlwWyF78WNgbO05yFkJrn60hJezwxQhikwh6dY1jSlSd06Y95N8Qc72HPZw99A3GhGAug2xKYtXfWkA5yCoxyt1ckLiXI9Asds1asTr/bdGkAAAB0QZ4+RRUsI/8Hx2kAEI7kk7GewsEyY9jxSiSdEhw9PPepwF9kA/NBdr9kQOzD3GKth7tVKJ+K+9BCgUBNW3QNObXNK1iV9BWd+/8thcM1tUqjea7/OtkRtJcyW/vBtLPtB3V8AwY3hSfm0gzDAAAJkrXRw6YAAAC1AZ5ddEf/CyIHXPqADamBeH/iQvgPR23XzW2CnjV+k/QbBsH+IanTTHO0efl4FhoWjDu4psSRHqRXWQIvPGE8eCZTBhxIpxHtPDAyKJOmp59y+Rp0qpJAbFauxN4eWL+fxsr89AMBFdNTsuEUAy7eec7a7ImyEI2Qxb01FL163DNIwFByFiLdrOh0aEHyK5MJLUSiW1ncqszEDSIyBMmGAqV12McotYKBqb2onRhw9wI7QAAY0AAAAI0Bnl9qR/8LFGvUOW1KAg/JuLu6TyW0AIyAQuEpVMAadLX/9tu4bjgdXNL/3ZufpUIch7evRvIbddE1Rkuj6W8zBotZrD0cE2h0j4lmOA1lZhZ4T3v9AlgBFqTGkC1hBTlJl6mM9A7AzPWNurolorsSxbjWV4Mc8AzmPTAOUAhSajkr3Ux4VYDNZAAAHHEAAADEQZpESahBbJlMCGf//p4QB28J0eiZzC+q/Cj2QvPBUEr/zpxl0COQAhNW++pfJpwV55EpeokSZ+vHhHbqw8t8K8RKwM6Ufp2VUMd7d4VxtNs1khX6xMYcX3mvwBtq2tlVyhyHP7+34lw2hvqOC/TKzSv48mImcCEMWnZZSSaULJYRxKMkPJucyPaSJFqd/jmIxgq81rY+qCBzbSUrHS8UKxCQZz2N7V8slkwaIkxaEJJJtvcxU1IOsMPSER6SpF324AA+4AAAAJRBnmJFFSwj/wIa9l59x/l6f7pfeABdAJQ+YgGE9E8JLIWIV8oI0lHF4SumkOoN9DD1C+SXM4Cj72wnv/c3SjZEpVGVZBD1YiQC4O5HIi+/ZXO8Z9uA7jPCMd3X203y5h7ud0d+9A+b1CNcc6V1nhQan7K6kSS719vqZk//bTOlpor/nAWmrm+aC0zGYB+0hOfHoETBAAAAxAGegXRH/wNbeTbvJAD0dsXyAI8m4tWaEfApCEJo8QP5jmgyL39k/5Iez6JvR9L3+94d0KuJDGEK4jla2w4HF6xy123tcq0oR5s8pWvTkJHzB9bsjGW3Sxj0oILuiike/yewd/b8wil4k98LWwpg04ez/I09sSUpxyV60f8gPS9Laaw6BHrviSQgjxiyfCpnJQzuxvvz3db3aEQaU4YpHxiocFSpAMDFVV+tO3WrAKQWb0gqiKgeKk2RsEuJH+OIBtChOmAAAAC8AZ6Dakf/Az++eofc2ACMeffZabD6cwgTIHu0lQi8W08+7rzhrtRyrbyyavSqqH0d+uwetibfbsOLw8t3BFMNDZhUl8PgJYTJz0LVJTMefdtjmCesXk7cKDC7CpTxvgDWKBVmjKYHxVIYUOKcK2wQ+HcKavLmD0uZHM1OdHi6KcPjZ/RjwEpXXzA1in1HBfpVm8ID22dgQKJMsfq1yMq2WUv7NyBAAUfQ35KOWiXIIknnW/8+8pFw4ElOAxcAAAEUQZqISahBbJlMCGf//p4QAp2L0AAnb1w+nFhg/WszPAorxgY2pM8WhezK5tunSx5zQfAgm4tupCja/H8Ek5Hn26yfiG5phurq3K499jhZ69VromQLKgWnaETMfFLqYlYVfNab/Brv2TiCmcZt+lB2bs6cQ5yoMAcOYBfPR9vF9A4W4AxNyZeX3jEm2P/6yH6TV5EPZkbYwtEz5ULxATk750H6v6dSPxSyB23oYqI1JdHF5MSm1p6w1nnbH2SgCZTldDtT+OS2z1rk0g09BgatZMuua2f8Cr1VlLkP94QGWqzbpcZdioMYLxKuM2qPUE6JUsmI17Z46gR5p0GiTsuj5TEtNxGSnqSpae5M4qK47PSUABbRAAAAiUGepkUVLCP/ANhMHW9BdrZl1IadClII2VLHdSMwZFfFvfobG975QpsBxi5uWAS455kAbG0bjaUqtizT6o0npjVUvbPrbFS3cvlYL2oAMYRMLqo0Kkx9NpLuh1zE3I4u5P3S0OOWOoJbJjbagEJd7QCFvhyB/bG9cbxSc2vqiFC4ZWcgROlNDANTAAAAhAGexXRH/wFGomE49VIAAmqXr8Oc6rSpGcE+OFMPIpC7uK/TeJeMLLmcpOtDdjoBLoHoGr6rvNEIYXLZ1a5hzvL3Ux67lQHymlnINYKxWPT9OdI+8nKktg74o/RARqGrpIEU5tL/KIb+FYEyhJkFcOvQc6urT+x3UuByCBuNjTRSsAAfcQAAAIIBnsdqR/8BWcqHXogBMAFqDRsPxmzy4NT7mZNnQFl4oShSBwl9hbnVGvmh149zwqtMiV4dqc7YRbsdov/1HO03Ixnucsery1qtVzaV9m8tW+yzig06ZsH2qZFPm7qCXpLlu9YqeV4d+HIu0yrR70JyFSUb9wzX3Br1jUe3heN4AAm4AAAA9kGazEmoQWyZTAhn//6eEAKh7v1g0Py57VzxT4DgtB25XeeDUpfbhnFkx/OXAEn7rAC+NqvHFm7PaPwlaguNU5G8S0rjcgzC07rMyrCKeVy8Rqma+Vix44mjxCQ5L/Li0jqMT+B72B3MKMvskl/AddxZhcD6zBlJAbcnDTDWZHtt4JT4R08RdRxQjEyGD0hYxB5ntEy1iBf9A0NF/ULfmOUKbbW80FquB8D5ARkm25E1pcz4Oop3SSPB8ZD9ezOokpxpwT+xIF9HcEv6KVL9gehms0tG/LI3Afknb63WEqqYXOpVZFauYrpI01hejfPqHoeO3vuw+AAAAJtBnupFFSwj/wDYE1YoqKyaqcvs6rwARgA0vBM3MtIJ2QCDTH+p16kr3ytON+zWMLVGR8N6fA/Go/XRRFB0Ao71qo8pWc1iIzgJG8V4SXXj5PsvbFu9AUObWLNlz5e+/CVlWvTZ5CvskksXOTmswRyp2G9Dqx9CHew5sMPt9g6GtCNHG8p4I2ltlw76N0IxhajoJGqAvif8Jr4CTwAAAH8Bnwl0R/8BWRSWHxKtOU6rd7jkF2dc1dH8WgAGsKcLRgUrzk64yDNzZmfrxAOQlvh55TDq8DRM3CP2AWbG3bRtrEQlqaEmjVQj/sQB/GpaHx1YW6uRjEVes2Wjzi18DKzfueZvlrGio0Tn4VfBN6twSgP5mLFoCEuoV+BggA/IAAAAnAGfC2pH/wCCxyuH41hCHGq4zk2Jqos9fCV9mAAtTHZ9aiU1ZTJ6YJUug18HMrCX7eQY79t8Hm6uj33lcYjfzHTGTxn+jZhZ/QT4zzJZ2A2VuUKSY+jO8aaNp1XCWpMoyDWaLCC/K1j+e4MEQ+hcGYwm8FJuyeH4J8K/yQGkO7bO8cMCxH7uMoxC4vQi7Dy2BpSFFOp6NFcn5w+DcAAAARVBmxBJqEFsmUwIZ//+nhAA7n9H0YqnXgIibNAmZIMLCOhvE/U4eITk/plw7IxcWS+ioHpr096FqLt7yhzAQw3rBavU/IdiXnzKOyWfOnoPNE3rFL9stgyaKDx3KuueCYcxyadw5Uu46GhVo8MA7mnnFhlHE5INW9C0ZgSaO32cRmYHQPY71zaMSVDjWNz5KZMzVosFhA/gQB7upFvoP6kD6vsfvXm9fRZPANIkyBfIhLyyPMbbMzyaEzOqBfqArSQKf+aMSbToNUoPY+DHvHw3mLAgLCMzO8KUeP+hHcc+CPnK1zeQRw6yg6paW5cIgVICLcgfTcWAhyzu4Xt6zqry57vbY0fGHjmaN5qBvpn5ADbNsFuBAAAAlEGfLkUVLCP/AEx8ym3C/2c/2D94wfePLJo77NACM9HJP35RCl70Y3u8wXT7gM/fETXb6T0YNz00Fqkf9Ldv/ShYn3GELTbHBh3gkPfmyQ06g6Or4wAliWSNrHW1aqJlMY9BqFzq+2rEQ1NULPZtUEam6L2Eoeu7pBm3t6bK/oH8M4Bo3Gg6mQOQHUAmwabh0pVkj4EAAACbAZ9NdEf/AR7C5gKF1uatO9vYIRAaT3qxjXg1RCE9wiU/FshRKocldi9HnskGnuqu/+/7z4JJ/geOyKLIAkJNSnZQ7bXmrtvoK4MifiH1rAT+w39gAyJJXx9pJ/IKd4SF3CwKFJa4+fbd0QbMh7VXDUvfuaG0B5WMJXYZqwOaQqjzOY6TNyHcDT2Ghx6+syHGgSvRYbfAHBMtFBEAAACXAZ9Pakf/AR7C5gKA781c9Sn/GIbZ4yjn3X78JJU6hX9e/4Fuvm1IxlVEyTVf7nj1iA6EGsr5Qv7AgXk3HtODWAqZvIDNvHs4Jtu9K8gfiJra7whQJVjMzY/iNvGviWVXE30HuUU5yHs4sivLsjxBRpaNv1PIimtIuUBEGopwtf4NuYtwymiimwW4MLyPsU81Ce/1cwwCPgAAAMxBm1RJqEFsmUwIZ//+nhAA6PsdzpoW6X8KCk2eaAFgBqfQYoTEcfFD/va25CEQTQnDWycyagPbfuSrVYhfmLuNNukIp6t09ZRLTlOxqxAudnaDi1AbIz8KD5lpUjOT6brrxfIoIe+dFHzIeQF0CaaTa4C20HkiR0N+0VEos+YDV4eQgfH42tC5PC+UxKRpNHOt+dKUPWDx6kjjiRzHweQz8jUMI57zZ8ceIHjMlVClCseZqO3bR81uHPZhLGKQFCX3nCFDkAlO+qhlOdgAAACFQZ9yRRUsI/8AS1/TDdaRNWQ3KvQeuUxaoRnSH4TP/A+VQvfUWAFh0OBw+hcJ0O4krjiuU/Ig/zGxiHY2Gemh4z7uXC2CCtcmoqlAyhvWqx77yqDcxdl3i0Io5MpTK9ukvopNY7YDhD1UyJ+LW0se0loVLRaebsxPq/41wC5MyV9q1cgG7wAAAIoBn5F0R/8AdqH1iSpU8wbjT7VCMCT/xMT5TMxg39AB8wh2yNTJNxKYvwZdDvGqRUgzNU1sgWnacHxc/CwAKWPeOuULLALnegdBBdOW+awWf0EDRtmS+7/Nshn2EQ0GcIjTmUReECbam9bx/nZPchEGUrlMVm+Diu/cbRWMq1gR9J8GIfB5EZJ/FJAAAACAAZ+Takf/AHFgBsaro4UR/vNkJ51lElwQAJxudpVhIVBTq6me4Af/49VpWgFGkDoAP507rTGpnf7NibPK73k5anQlcIbcBQXzFTHP2TPwnORw2OFL/js8htwloKp/jSnrP+heGd4RuxVk6zfbKDwNINAiixlkGLHiFaBuClyAsoAAAADLQZuYSahBbJlMCGf//p4QAFs/o+hhxOumdvXKZhH/iE6w1E0eB9unHLgb00aYPpQMbHuzv1TsxqUHADsDdPNI0GqJ+PSpYBgP+X5gaiid8Zj8G72m+Gc24M0NwrVptjB6WlLIHqrRFIsT7bD25BalmtmOavHSb/GiJNZh2S7xAV/4E6VOQabmoMCPIcOkTSRxo96nh0R82SysS6a5mCSwHn5RKvyThKU5r/DH4+Z6J9chq9G/rk6HAfjJTHiTdMt6MbBvBl/zXv5dEMUAAACgQZ+2RRUsI/8AR4qBpXYKj3NEMhQzZisnkEhVPiuMX08peABcVfF3Z3JmdDcsnGGajK0Jjk6D17yceUZcr9arvfvhoraOqoYcJSgTWjMhzlDnsOpzj9TA28NDT4N33/JUMc0oDTz5cqxR9KBkPYYv/XU090Aq96HgE1DdRz2HXZFU9tJpFxf3qdUL9pBhWT/7uIucrG9IkCE8Z23MVSwCbgAAAKsBn9V0R/8AcSKjOS/tQAbrs/HWyBad8stzJ0aiMJ9XViyraXjsg6i3mLCvYMEh4QY1im5aZU5vv0UdgxstEOOTvt5EQzou61yYbXkP/knl/MQCb+YNQYzIWQjxwSMeUBBC0oZcboLp2sBVCDzrCU3/itFpYAcWPqw9NyXxpOFnXHhKBIsyY3TKAQ5ZdqM3LIB14PzSKpy9ifeSlIiS3qENLLCBAttwWYC5Y+EAAABmAZ/Xakf/AHFgCSTFuzHYKFIfGwxIAAcRn6VLZruYnebPnkRoie4x95F62xAJW5gsd4HDkcBZH4rgZ/R9WpC+YwlCvmB8be8wCB3uAQgN2FWF6xYbN9zaPguqegwNnuhLs8HXhFHHAAAAz0Gb3EmoQWyZTAhn//6eEAAhqIkjmSsDZ2bvc0BAAt5BDCoYU/mVQm+Me+Lyby33dY4lLebp3TiH8jA7zrOOHPEGgT3zL0uFU+nqeYeRaim1J9GwTaBHtsu/txjBo7k6SqggOgM6B0869ExSx0NloWPe5oOz155svPuNA/g/DUuNfeDz01LKz7xReu1kqBY+0q8chYd8BLzEN8BP5lZv5vl8Jm3Mo0FS3OJ9MdUq0QmS0UgojpXyUsV3SLfgvDDZUepe+O4wZxX6E+8y24ALKAAAAJ5Bn/pFFSwj/wBHin2TGKi5snfC08FiKiWMeOHQWJaBYGtgNLhR0p6XkqdiMNzGR1TOSzAScADdDLylvf/AS3I4nzglCDug2M/uQDtayFO2JczXbdNrg1n5IoZb5Vk/1/jG3hJt4Ax2B4zxhTjVB++3Nd1Xt8s1pnwe/GFiULxUdOnBBmmj78mwjBkq9GIhap8ivLGjDMx4rxNm2hfwgQAAAIMBnhl0R/8AcSKHn0ZswVbHcLr6PuZUNSrKN2LSRzeldcc6hoJP3AR7rvwhDN6UZYvd7QAXFZN0w0iTnAEaWK3eO8ofchec/nCs5TDUW3C09A5mrLDeRPzFDsbgaf6XXFkz6q0xtyoUJZ2+fA0ifrU7RI/tyqFn3PdUN0uJQ7IHbbLFQAAAAH8BnhtqR/8AcV/1XjTpKX+ABZtH+abFWzDW2qjKhenv67X7h8Zc6IjzkYwM+weMxbx4bPxnWZmTwEzLTteOUq3d4ITe1mtJvaMVjZRTOcfiSIrcIqVOmkca4hyXCYdP+kdvIxaIFhTvWnOtPcRis8WB4oU6/SeNJj9v0aZIDdDBAAAA5EGaAEmoQWyZTAhn//6eEAAh3TekMZEevqhwpgBdR9R+XrT1rLyxYhwNJBIsq6S9v0/mB9hbH1teuwyhkfBuoh7ufuvaot4A0IKG9T6YRoLNcFS31m4/gFMCs0eVDWmETYSh3rJQ1jFhDM4XizP10JqXySX+LCM/xDRnrcTkFsEZdytERxTSpwUC7j/txdUEBr20zRkYvkbPZwzkwtb1DV7eKJLH84fKfJ+ouOd255zAUs4phBo7Di3mVK2FmyJ9LfLZULZEhZLlRT5H5sappcqW+QFdsh899sKcQWhEnDDOqgAC8wAAAMJBnj5FFSwj/wBHin2TGYAFSVaUhXI3voAbrnU0+9TcJtSqp1mvlNUAktarsniu8jebrmYlhxwHw3K2qilpb2OkhKwrwvHeF74vK4cCz62GvmO7IvAM8lT5NKhE8TGwSOqH8jjbR5YGTae6P0NqM2jCPHRjzZlRdT/bDo77a4O0ByPbLHb2JT2OEDdax9WpeqA5V2FYwP+HlhsBx7b8pagfiYlgIzx5PaecDYGgGqsQZBlrZ8g9Tny6Z5qFRCSBSHy0gAAAAJUBnl10R/8AcSKHn1liZPuV9ziRiEAAsHpf3HJpH7S7VAx7YzwvyS67O94FZ3W7keVCc8jdsWUJdzrqCueXOYPc3pWpatwp+i6bgAh1YIjOXzBz0GABsu/ptVCs0NAbgEKxSNvT8CwjLKIRbFzC+dQ1HDYwLAhhMraUeCoG8w7KnzBRHIXBYfHgweNS8pgjLkmipSAHHAAAAH8Bnl9qR/8AcV/1Xjp5FXqu8ABYIYfo4b5dt/AAmy3MRsLWqW5ln8rkAbetO5S4kocSWlXN4ec4W/FoHxZrN0dxmDxgZquTLDDNfr3UnJFDJA2lToRzXxTdkwgAhmPDWTJAA6q0oWzyok4wsEObTdVn4QPQE1GkgoxeM+ioADjhAAAA/0GaREmoQWyZTAhn//6eEAAef2PCR7BvtpJT0z5EeFQB05WqMPySxoP5NnjeRLMrIM+hL+RmVBn8jAnbmDSO8atkENEw14O8Hcp/3+teohQqiMpk/9/9Ef5GbEDje+2jUt/sQsln50LAk6rl1t7oWNtO+YWxHI7jr8NHJeDYvHNm7Unf/pcuJhy6/WfKlku3jCAqWaGd5U8v/da0TmzbecJgtIx3+ACcwC1mKW+hovR3jjVkuZ6d9IiRgZaqhwIntQk9ThX6d5OfD48naYhLxTPVzQ2pZ2kvleAP7IGoooMYoVoUfxbw8NSjqYFD5nxXmRP/A7kVWPkbGxOehAAMuAAAALBBnmJFFSwj/wBHin2TDj21PsqKXnKAFSBHI8yYAjkjpWEFp5+vzL8pgm8iBHClcjs4XzeKfjey9+Ml9Y17KGe0YZRW7jQ3tg4Zvkvk9HnPo2AWueOK0AVr56CLJeqXBMbjyiTHKVrh3l482i37PcKwtJZStj4U2iQK8EkZWD06gSBcPN7DGh21v7KNt6jv+5zcBlOmKxRlQMjuXinH4lBTjHzFrX137qhIr4UqjvwCpwAAAKIBnoF0R/8AcSKHnr7ZaCrHkZmXu8e/HgBuYyvU0lMF3on6eSTKpNhNffgSHkyjLkAUGYGf8vaOpcqfl/eXlqx9TyzO8rb6oHOOffE5VrUNR7uDtsqYLzdxBaOS5iOXRp/X4aOWD2CJwSwFQhgF8/O1FCPBlfJK1lypZUwX1bBkvlMNEFpuAL/yElGI1dL9usr/h7vd0hvN/C6U/O2jWMS82hgAAACBAZ6Dakf/AHFf9V3tw9/Y9FJINJRm09/BAAkRZz4zqXO7IqS4XXKCP2IjHpSXe2G6jSLN6qiRgCD2SYm1xYvbhXOU6OE/mqLIlDW/ZvimEw0oLurZE2dB715BvU9YX2zuW1BvMB02mLGd2N6sI6m9SH5arbelDcugx8tCTMLcvYz5AAAA90GaiEmoQWyZTAhn//6eEAAM7wnSFxCS9oiOhOlhuYoAONvbAm6qUcFxf7rd7VMoW7miFDKm4fY8CLJ8PBGHo0kqqnWZ85UZJfDwPFnObbEyHrcM5hfixZNZ/vDUwwNQDJ6gQFRx0v4KUat+gMp30oyVbSzWbIgvBI6UPMBtg4Ki5x0Ouc84Dnv7K+YwP9RDvuuLksYQayWIGKnxZ6HccxxAzBA6Sf8zzVdkuG+SrBVtGNc51BrpgeJAliwd4zVDCpC3idW2nta/Klnsv10J8V22WD49nLeEtBRBbc8An6W6Zi+WTFhjVnfUxNWzvtC98c0a4EroAS8AAACeQZ6mRRUsI/8AR4p9kxBwO5JBOfID4WTr82jbOMF/aI9r+jRhqg7zQxDGylBQ21DcGQFxmQsLcBf25w8JwBPXQFEOSN7SnmSn1X1PlfPCvdMXdrp6XZ5tQ9Th/YszMqS368MnHLR10/c2MSS+hQtAXhDlb4rA7S6RR4OM53D63+iunZM8XOnSQNocJkFOHEt0mhrVhWTUF+5ykKbAE3EAAACLAZ7FdEf/AHEih56+zLkzGYly062bkJcYIZaqQaZLgwIbiH58+PCPTfEAJq6d1pjUzxPSGFno9BXvzCqqe2OHV0sMk2Y3PU2qPifBNxgax9AiwqY8qQMDfW9efbZhc+g+V5H3rtXyQ2XlJ/HCRahEohWBGnejlUOyU9+KFUc54yml6anzL5IIafYK+QAAAIEBnsdqR/8AcV/1Xe3CbJGIWIh3WNz1Xztr7aZdcF1GplxpAoAFAEQULcq7btAuMVWT7lLo4lKvYCDzsuJ7NM3Or3wXtipk10nfOlZBrf9m4hom85IWoTSJnV46IQYKTCrtmVPXTn8mmWzQ2in2gMiRISvySZcscli3fvvT0WtiCvgAAAEQQZrMSahBbJlMCGf//p4QAATVTGCGAgzxxUOsAJXfL2NPpTcWWxQ3DUH3QXcc49uNp1UTxES2d5RPj/UhvoeUd8zGzZbGuSqaF1xbxo2ftYIyyae0CzZjZZ2RWqK3A0Q/f5XMIVELe+za+2IxvJBRg+3XzUjUddEdsMvU0pe1a+jdBSnqLkhSDF+4eFV901d9RFbwisGKd6lOSxo85Nv4/a5wFf3sbmrGHNWlzgngTEm1eq78ZPgtWI9yuERYmMjbA+PRCSwzTYGMMEqP+CJQ1ol9rpxl/ObDAS7aFW3SMfzqKGepz2sPoLMqSxu7JE2QjTPOEy0daIID9duw8LI2vogZc/Cp/m5651/rufeaAg4AAADUQZ7qRRUsI/8AR4p9kxBwOvOrEH5sjwARbuHSXBsZlxQSX+h/pH92u977sOdpSZ4GBAUrtqC37ba49wfuaeqgD+CXE1jEPIFf1CRW8yckC2gtaD4B9esH7NfD0gp1b9ISo9MO1y/Qa25SHjrrpMiaajsxQMFi5II1hXA+aLcnk9l4aVhFnZLs73sWyXcuiyt9IjZE7D3Zez3/QZBC+nv+78cfmgPR88srPura9WKju5wcPFWH/hKaBy+NK6zE5G2xPoZHLy9QWu2tKAUBWubmObqYFlEAAACMAZ8JdEf/AHEih56+zHe9EECdQ1hsWqUvA9MHtagADjdm/kxlKo+BodMX1lpSycmw12C98zmqUhimzZGVLigV/K/j0lHQ+c7KtLO04JY7LmkUGcSBd/w/WPX33LtXD044gSWfl0VaQDOtdi7o8GCE0VnlmGtFdxaV8LHXaHWdKGr24M7iF96Fz98lTpgAAACgAZ8Lakf/AHFf9V3tw7D0U/vh1DgQAD0ChEwAaY+va54zXh80PoG201o52JD2YGasDPhWATfN6nKweWexecL/R9goux5aNb0KwK4rVQkx0z4UbS2zAVqz0fT/2XEOOa5nf39ywBSoGymwa7FrSw8ibfwOKXNd34POGxJEemPhDxum9nsDh1dEicfcc6BCdMpUsU3mCSS7bTFSSfGSRABNwAAAAOVBmxBJqEFsmUwIZ//+nhAABNum9IXE2kzHOHzW9rxC+OhCFtbr9VGqIsdyc6umEEPuuv6HIxK+Fx3DMix4zDfe95DBq5BNOrvfugetaE151UpZN2ytdlCJ72lu26PEmCgIqgynULOSmJBXizN86weGOQrvxR8ose/PRiwv5Dp18xVn3zIeVmbqyQ6HCdxFh26cganrll0WD0VJyZGnGQoxY8nv4zMX+yyShBDCJ2KsT5esQSqgJegolfLB2Y+dPXbU7BM6JP2Uct2iFJ5xe3zGrom0xutmAZKr4qnL/At9Nip13gQ9AAAAd0GfLkUVLCP/AEeKfZMQcDrzqxNP2z9V5rLNsNbJkSpEkACdEC1j+pUKa3BpCpSvphjGQWIv1+AGi8ONw5wfiAeeWBeN2TRgN16tbMlqqZt2DNo/9JIdxvR0B4aQ01mEBk632IWo+mg8CsOAvN9nHL7YZDJG6ZaRAAAAdQGfTXRH/wBxIoeevsx3vRBIQAD/6vzID6L+8ksEzGiTmbqHIAagA+/hbBsUZkvRtJ7N79afEcpV2cirn7J9tptFgx8RBsTTb4DHtgLw45tdJT56/3WfA+ifeSREwgJMi+bpqkCnjSZe0TlYb7rn4I7FGADUgQAAAJkBn09qR/8AcV/1Xe3DsPRUuKfpXscH0HRNzAA4rfKmQ4x1f5dBs1m+98ex8rX4Ew+xvamLmT5ewtVJ9J0QrGicA2dWVkclEWIze5RoAQf4gz8prKafRWCiHu4RQ1IOqSRdCmp7ElzWRmRxZJ9/G60XCvZSrVIbBukPIWxNto/bsYKa7rV25Fdvorz8qaemVUI7hLvcjkC1BiwAAADcQZtUSahBbJlMCGf//p4QAARVIGu7HJItURbACa+YMM7nUD8IvByvVTKqhLPWBWppJcJ1y9sSXYeoBZTix0qftIqc/FUaY5jY011COJa6sG46sWV37nZP2nKD+TveZM0IYAYy8AC3Jsims9ZzcJtKUIXem7ph0M143dp0/jauJR+jEH71Mu4Dk9yBGg6ZAz7KakSVj6JBqSOg6V7IgGPy0LkIVrh/X0G4m27RfAZq4hn4xFpHcLdqqJw4CN6NbQxQYuxfcY0WuF34lD90bvXicqN8RU6RaltnFPgQ8AAAAItBn3JFFSwj/wBHin2TEHA686rchSgw6FErwgAAugZJOaQlQEvAGzAsD/OfUiF4nDE3ag+UdpY27WygvPuMrdfbWipOlOFlw+WDJ8ZYp7BDZS9R3Y0BA9wVYRsYAQt5zr80E9xCWZ/Pgv5EIDdQZsfbSarmC2IonaWHabLFx9il9OMsuTw3GMFb0EPBAAAAhAGfkXRH/wBxIoeevsx3vNVM9QA5hRdQAZmEfQLP3KlKkCyOwBN4uMx24w2x7b937G5+3CnpNmOWepBQWVi5b+twcNLNIEwh6wvrUjZKaaNDcmHoKBgTXWbjeLE2zY6z0D0vK3qYw90htUGbXUX/IFtblblwSWA4nGNpYOOAepQE+gBFwAAAAIUBn5NqR/8AcV/1Xe3DsPQXe7Nx4ccnb4AiIjKMRyGU/jDVT28On7f+t/Rezn/CMKmV34qjCcWT1rpFPB8CprwpfS29sKi0lJNEweINHl83q2wDr1GMSkLs3Q0RDIq68+naqiCsGI5RHMySMuyNFdiCDKNcnmDuheZF0sdqqfi7/4a3wImAAAAA30GbmEmoQWyZTAhn//6eEAABzvu8yiuIYF2lPX7xYcXthCbvW6ALmpwHUC9vBSewnK3asx2LIwwFLyoo+niI727IQrj9fDy6D/MKUyYGfdSEDeUbQkN1Vjyyhhd+dqE4x6YhMErHn5Cck2JpzYJEd8Ynei6XAYon73AKzmpSQ+6o/ys4eIRX+4FAof7+wjfU0WzixiGCYSJMqyRj6/CGU//bTrLc5FRAL43ubbozvkkJtATpMCHJQwlQwaGtB6EeZdy8ZwpY392uieFLYLXSVRMdRO+YqnCo0ncJqAcA9IEAAADCQZ+2RRUsI/8AR4p9kxBwOvOqOnw8XUGGjns0ih05oxLKY8xJPqctAEbCS8RJ3++Xl8DtsGf14MpHHyxxMp8Oe9pmbpbwSiGTPzRru+EAD0/4nPvcDXgQyqW/TOYz+Mi1Oj5hMJS2liVg3l8RhKXySqRxSWlwwiYtSCLkgtlfqLGvKqn+JjkdU5TCJYVvnmD2SRT67jrKX58V0dBLfzCXV3ZpMI4rXdnbW/bLiGqGs/EVzelIDIx0snh6PTVKTZWYRMAAAACDAZ/VdEf/AHEih56+zHe8Fkdr3ttUy8IRBbgAmVr+Lrg7OSBU7TrM5xtThWLhXdatXjfQk0sxIowPg8iaiuzWbEuP3aKuVZ3M9QU6uZY8T6Eyv3y1+vCUzaETlOjO2iXT2vt8eTFslAbz3s8SqrqT7pNfcDhnSpL1ijrjVeZObTv+gZ8AAABHAZ/Xakf/AHFf9V3tw7D0FZEhjHqF6D0k00FWeQzSDOG6F2hxD2dXZt6BVnAftJJwGCS9AV8bU7XjBrc7W8yD2YbJud9wuIEAAADKQZvcSahBbJlMCGf//p4QAAHR4TpDGRHrfr5pq3ltcdxBa8aU7f+osjWVWSCEHAERl0sYSTM+h8P90VW9/T8uL5J874BkHTGiZhakFAzro4Ls4c+MI8VfDyF+hufzX6MZwKqwfJvmbXuNTIuT1/Jc4Ndv5djyhugKQT5dal9wM1033YkriBDYV/YmgKo+RIBgjoixu1PF8viED85kcZHqxtovf/ybTRPru/RWR6Wa0ATGk5+++vYbRvFn+9/MO3aq/lxJe9FEySiBiwAAAJtBn/pFFSwj/wBHin2TEHA686o7KgreBBbt5Mh4y1bB2aYdLYQNMHKuAC2SOiSbefEOzjtqBvL/G9m50++Ji/W6GjX/WLADGILonh5gECkwFZVjo5ZGZ5pPutr20IBBPpGhDjBkNNUbR8CrlP5zEylN6VKues0Br/j7NPBqX4uRcelLbVD+dt/8NmNSki+Br8Y63OnpcZmkAEAVMQAAAHgBnhl0R/8AcSKHnr7Md7wWRJ/SVF7g10oBenkaaayLH/1M7alMvsCabR5Q2ivTjVl4pJv1wACujG1xOD+DV56YLdd2q6TBnM+t6PWjwLTLElUNS/nXYwpEvH8/0UuL9bNYkKZlM2ZOwcp1mHKRtNSMEy+oG+s4/4AAAACJAZ4bakf/AHFf9V3tw7D0FZIBkEkAA4cSxGRnN4JHmxs1Mlutn3gAXTVXxTrFUzUes1Do80oYlY4Qdju6xxgZY3YJAPnmzwCSTHrv9i30Q/W62iOcg9ZKxX+qPjTBn2QhwnUrpeZRUGX6YleVhKbhAVxBvqQPR6zOrPiLgqrOvJsk2R9HGAkgdMEAAAEEQZoASahBbJlMCGf//p4QAACxBWM8+kANmxksBGoEv9uCWdn6UguBxCMngjGfvaNy7+ujdWr87zaUofQaTcYL0azFLwJ2mBt/xIqibrHS2+KZRbWuzwmtBwdz8ZfaxV4/ZlALj9oJkddvPfqBigYxoAjg1+WNKQIeVUzNt7kF8U42v/Zeq3xEsmuLDmWm7ySHMSfgFTJgms6gZIW3SEbgbbu05ka9ODKhnhYPIt7QVub7b0Lpzf2TpfS8p8bz2maEokrGJavNHq6dw6T8b1M0FcyStKIMQJhTG2ZCAL2a2MgqOJfhpp+8afNrvYh//4JLr7ynHxw7u9mZkJ8tLHc8XLZAMqEAAACiQZ4+RRUsI/8AR4p9kxBwOvOqOyqrJYr6/GLKrQ0+BwURIGCxV8KGL29skheYYYJjmuGgCHFEvJ736Z5/CEmkoe06xsfFbpNdyoINHWgslyNClnPnzrr6hNpvIlNq3U4vD2QPXJ3P3SgXBxeMURRvp0DS9fqzUCfhPLgmGVvOaHPXGlp8jXlBz19rue1UTiW2iDFZK44rEjN8LzwcwrJbALyAAAAAnQGeXXRH/wBxIoeevsx3vBZK5VNd8UTUCm4BOdhweLgBVdTdHq9WdlT+UPu75sADjdCvWVZPI9j0QVCCQz+eAafF+vh1qJXE125QDPTRxZJ7MOPO3lpGLzlAw2Xmr+7YxWQSauxjLNQsntmI7qN/gOECw284Lq4FNPz9ufnysqlb1n7++osEpai48ck6Ah6fVcGOQf4jmbrwhigA9IAAAAClAZ5fakf/AHFf9V3tw7D0FZG6r2grTYw6uUMmXczQgUXcAAugUVMheJbnULghQQ970DUl3hIgNTQNO1YiiHkyjLkATlStmp0BGSsdJ+i0ZLWT2sHyjoA4tJ1czyDCsG1kss6e7KQvM7DtrR0cWe9niVVgsgoFaFNZj3KjKK9VO6stmFRfFCjDOqqfDm+HzKnGcx9z8RFrvspQIicYDtKB/4OJ4AxpAAABA0GaREmoQWyZTAhn//6eEAAAsfMrWfp7yzTiPU8p6/bvzX3GjQYY/X6AA0Hm+ECdUK92OUCJYP3BY+ek5o0J7Z88pTmAYESWredtNQJ0y/dGAFzPlNXP51otwmK2m1WbVWh/VjLFPsaalbpgZ1/DzC5Pf6CzYfc9RxR0QGof3SbZqtUI22IeuLgEy9BIcPis0BMO6+SrXfhxVBKnCauBTnzOrCyhCUub8ifM3m+iO9e5nQrYQNfw6Gb9y41x9HRfL0NQ1Mt5c8WDOuG+Bn4MTLKA0nzjpB6GnXDKenCDU1BddpbSC9Gru44/iSj3e6x4rq0flbcb1swSfXhNF9rZJ79A5oAAAAClQZ5iRRUsI/8AR4p9kxBwOvOqOyrZqFvxdAC2AxgiZ+kcR92ip230rELSmgPuW+77coUoJMV9VLz4E2psCIZqIB9QnsTUocfltx+OlZmEC4D+synSei//uDNNfjh0ZqORReUby4XPm3O5cxWNNZBfl1peaBlvmaAR2AGGFQzMW3aJbBCmRHLuM2oi9Ru5Lr+IeLnvrYCsR3tJLWvF05jN1HqqTYVNAAAAnQGegXRH/wBxIoeevsx3vBZK9X91JXrVaoALoFJRsPO3VqqdU17/8hpTY9yLj829bhjQMiFaNW4lOdT9pWJw6nrXPqaWxt0PD+bbjAGixpi6a/G9PkAiSkoOW/0+y5vlkDRUSBb7VJCnA8v0xs90WHxAsaFMU9ZSwMm06rp1tGO/cJE5JE4qTLjFHY42FMFegBmR6cW+liy+Sj0WEnAAAAC0AZ6Dakf/AHFf9V3tw7D0FZIEd8IAX+k7bu/1pPx7DFFX9oOZa6g9ErIttY8DL4ZcE3E2XOm+u21XW+hadMCWGr3gak03q0FabG/u7DFLq7UROTGf/5wzfndbawY//9XfPNIG2A4TMz95VJGFmqtlEJUPdpaBivf3IGShe4izLZS9GD66kxD8s1Ohkv/OpBFLOa8fjSM5bQ+Gtirj4A4ZCITqZJCzcZz6cynStnGYsG2roBDxAAAA4EGaiEmoQWyZTAhn//6eEAAArXMsrvKKIPfN7KxXTrnme550q8VB1PkqCpkuyZABAAjONRTBAlqx1+Z2W4/Y46t2N/X+2ccoWKQqFTOhgS6Y9WoFDsjpBg+AtTWIWOVpMMa1CAOALe/72yGwTY+rDEKvnzNNkhhlpaw4mWaEt7xGaShmKTnZkxZjcM+U1HgwnW1goKIYAbBDNZIpHYr3kLe+jphO84MrPr4uDHkcPmHJiUXgZ4X2wivCcuJMcpJoU60Zdn6Sv7D85Xv4PYjgLkWEEVeN6OfZMTpksRIfi1HLAAAAr0GepkUVLCP/AEeKfZMQcDrzqjsqqycX9ow9dD/R2zgd/HKadXVpjlRXF9MnUrfHgBc63CGGPS9m3Z96D9gamZ043CYVoU+FrnwdZhhwkjQVibTFt3hlUaWnlaSzGVu7/Yow5eKT/S1SRYunAZt0sU1bcmYicWkspcoVg5s7ZvDQRHgQrLHByyKOdlYBTEN6INt/+JehTcdzuZvZPQds5FanCibwSRxpmJKtQ1PAccEAAACfAZ7FdEf/AHEih56+zHe8FklbyxlzorKRKXXaJ9JEHQwAEOJetbvndOntunlsF4sPrkM45j5epivrEkVdcvIbvXJcmECrNplnNOVvAhjvTtyhVv11MJ39+KM+Tao1SV5hawHtAb6oKsNAhlrzFb9ubgy0athTYbqqG3bv8d6XF40h7W8+t+nZQq/O1OVjII1uGJ0e2Zw0MAG5sFuGACthAAAAoAGex2pH/wBxX/Vd7cOw9BWRu3FtwnB5YvNSAzu+XhPoavJQAkPl8MdnLgV+TrdTtMQbDN8zsNVbVc/gDVozktzfwE8lzuNYKivSDfrPIfI8nlN23jaTlFwb8AlOyL3tXfnQOC25piOvWEKXAMumVp3mY0xSBIbPjLk4RQGhcg6L6FxfAXV8zwzK7OVv5QIkqxnhpOBW7QSl4b1m8OXaMqAAAAEcQZrMSahBbJlMCGf//p4QAABDSMDgAaN6LGFytjuMjbUBokAFF5VcVyTlmbO14Xe6SV91M6hgzLVLl3/5mAWRWbrk4TdGWYoPOvGZlaye2X6i6JHm2QpydLWpOewiWST2OBQZjG4RS0w5xaJeZYXbMa9Fe+wvmJZ/xrftNRW4X2I6ATX9J/lNt+be+2bvtEk74CUpqWOOS7lkQnQqN6IhdjAb4kQjxlopRjIFOYlLJpQdwxu1/WHTCUkWp7SZp4CsaSMtfLsZNXQ0Pu0hWM/Rlyxx4tDItnpR7YgRvfasPfmMUfwYwIquzSzryA2KtUbkt4+vIPMRS0Sfg02M7QjqS2dvd+qEgtOSI62S0ScGEtnAW3QrGop1woVLz5gAAACTQZ7qRRUsI/8AR4p9kxBwOvOqOyq8xL8WhVoQqBLUtVQNVJCngWbOyYC9NV74YaPvIAOMtMkoGhyMODmoyh4K1SIOT4U5S/ysgyNqiXSf1wftD0qRT1xBdrqI73YXcqX4BXJ9qbGlbVWYk0F2fP481BeOnbeXMsHrS32jWtWTQ0K/LGN3WsOcs6fG5ovYN3tfsA45AAAAkQGfCXRH/wBxIoeevsx3vBZJWzugsAZqK3XbuBuyNuzFmVVD3oD80gAWjtYUqP6wCaJKWzAcUROIoDCo9M16ejsEo9lIUPGx2iBJgaZyAjzq/jRWbBtycpaWN3kH0poCUl20MgOc8bzZfPhCS3rSiqo7ZrrQoOACUPJeBoO+dNTFd1IzoN5Lhl2wZKXaZOawyoAAAACpAZ8Lakf/AHFf9V3tw7D0FZG7enjDHSD5jrcAHBCHPCEV6+1SIo/r2Ax8462/eCg7Sm9NCM0PtWumVjrDE/Xp71C+WuQxEQi6pS+E9XqZj+AfjJdeYHb6uj7DG/xDP7m3axPgVJy8WkrVq7ZPEuOSsqvDVucL5rpKfxxnvX+5YmQgR+CTIcdLZibk+Wt0vFfr6PwYoxkUc72Ca9h1vyFdzkJ2ChTICQGRTQAAAORBmxBJqEFsmUwIZ//+nhAAAENR9MJ4qeic0AVvRmOqIKgqyfyet2Ug3fFfOb2PIwZbQXewbHw4777nBpWt5Vsqa1eEJWG0FqSCCChJ9Ar/tZLP7HSP/l78r4LyliWlNMBt8tCrLZo1z5vOWKGlgk6wdPki5eUg9CeI2LkjRxHgY7e9sDVYP0C/cJBsdUNrnO4whCJ1rUnG5dONL8nukX2FEL73ScfRYR7y0HWEh3Y2YfYeyleN3RLmIlgceCEfNcyx0xwvPpkFU4YzsB4YiivtnQXKSVMGDR13I9I8aYLWRIegOOEAAACuQZ8uRRUsI/8AR4p9kxBwOvOqOyq8xFtfeiw6RgHlE+sIPT2w4DIgCt9O9/V8Bm4OlmRKuFjV2KzIETFTpHIaOOopQCJHZtiVx/nKm8k5YgOHboqT1jjoF5RoKGPC8ih+/9x7P6ecU9NLABFLoyhh0Rmqp2xVirrMc2wdIDQQHKtpVS09ZKIwfod/r4LGdzE6bcSk7crr9X1C00urJLVrAgGKmqNyWSmwWVV2GKmBAAAAugGfTXRH/wBxIoeevsx3vBZJW4QTXTt4ANg/wSogTQYe4BJ10wKlEBEpvd7z14aimw/I+XOQ7IQbZNOZHW/VpI/bF9DPUQWM8kjoi2xEquOgYKno1/rTg/Y77nu8i6Ogmj9vLB5o7T0IJO65NVSD5EoaP8uOLbNvP1F1fcWZoGRhrJJROdiRkifgX7nW/pHam7QdCOCDA887Fqr++mM0f8JtjneNsCs/EopFgXyWkxsSYP/0bm8J66ACkwAAAHMBn09qR/8AcV/1Xe3DsPQVkbt6eMLpAFMlh5lrIGMYqHJ+8+Z2YX+pY5iVIhID3wAEyp4DAVIbkTFf433OTArAZgdQ288U5gCcvRs7swqBlUXhFlK9OCUoS1x/8c/tkO5FymA4rrAAk1W2hNMz/iEBzAH+AAAAuEGbVEmoQWyZTAhn//6eEAAAQbpvR6JflnUMcT21/TPgAO0PVYn4RF/YQi3+0pdD4EUG/TwcLOD12BQXtg99dxFKUqCDUIxVALLpEaYvxITYMZBk/4UM5jzIUjFk5IdLZCWjOGSc9FOvm7c2afmJmfjAjqmAD5SQW0FsTm4/5drzTlUe6AqKqkohxO+e5oGV56LtM8rnfpAih7rltkRsqpxhylVNOG0GKVtcQvNLURfa8nhpMgUwOmAAAAC9QZ9yRRUsI/8AR4p9kxBwOvOqOyq8xFtfbcnSXFCsxegEAcwuMhENY+98XmtNmmNXqeLO/Xg9GT/3MijvQsFCNF35CML/ecYUXNmomRlVfUbt4dCfepxsSVzwqE4JORh3qecXYl2lCOKVEP2WcDwzma9QlWhgW++k+A8NQxvM2OpqgkOcfca0TAv0R6YRjWDPcdhxEjP4JVh3EUPH1ryo/wYnp6pRTnCC+vYaCfGk4FwtWsFTdW36vmLJXQI/AAAAqgGfkXRH/wBxIoeevsx3vBZJW4QTXAs43szAARCip9/g7k6k6oiFbAPdMrMRLNGyAVPlLcgowXzIM6XboVFgFCglWaykB62WfBww7hVs1VV/RVzKtWFjcalBs2Lhm1rqeL2n415JXRC/ZP/8GqEgCQNexpQ8DVB2JChYf/Ov3Eb40cECEyRt3rcyoXg8dv8I0mrezJjjsClFBH98gDqRzA60SbFbNUfUAIeAAAAAgAGfk2pH/wBxX/Vd7cOw9BWRu3p4wul0fUkPCzswdv+UGAC1xgMGtFgM06RzoMirT0ltnaTMufsNBKxK508cxAWUS0aYHGRBnhJws7gBhvB4xd8m1rN/i4w6PTGSoW7u0kBe7DqoTd/iGth0LQp7Dtm7RM8fzo4rTgG4hMaMuLuAAAAA70GbmEmoQWyZTAhn//6eEAAAGlt6DaRcVLwVclhuUGWc7H7oQAg8T0xrMM4xxb3ZhZoNuHUDIis+ostFEkqXqwKl1zJXW/cw8angNVXIqUKPLvjoEDrkrG4bH/DBnLFfSENwRG3YBZbyiEV4CNt4ez/kHJisjWGGDO+oyoMpbvT5U9FbOOUcHhVwmFsdJRLUIC7gsbuLoLuCQE6Vyfcd99hqI/8cJ19eFeznYexd7Op0UvSyE/yZbNW/KKyVtQxpSFiqr5dQwINdvK/CALm2ICG8Sn2d3FzCYnxKLjJmJWnVZqL1/PDuPINtrInmMYoJAAAAwEGftkUVLCP/AEeKfZMQcDrzqjsqvMRbX2Vs/4Sen8g66gBuKa4+oZQcRvYtn+PUPVidlxQYyNcgbi3q1YcFV9eSK/jgtnw0buhv+ps0H2P4OgSYXxXOoM8bQMkzhq2/vH8ek9zQDCAlgHRYphNP4uy0RX1sVdXUXZhm0j4zpY14v4Cf5JAAJ9nvU93shVO5iejZalejQNe8XbSVmiDtucBWHc/gEIM4V7i3/qi8Y/75Q9OkxF/oevCb53kJtwBxwAAAAIIBn9V0R/8AcSKHnr7Md7wWSVuEE1ciSqd4G0dPT8pz4UDb2Cpmm7MjGd0UAJiB0l/4yZBzzf1AeZAp7Yk8BYPFn/x9+hPAPffB1pCFloUTnfe94S+3WZTpzesmss3ClGkjtLUVjYbgdpZu1pyabvQX6F29lSgHTr3yBovn71otxIQNAAAAigGf12pH/wBxX/Vd7cOw9BWRu3p4wou70L474AJwz1PLBLHyplcvWlNrkpGMOJgl7rbL5hgtREallxKxDyN0fcEMv2/wgFqMmZOd+H8rvUrP2fKies2W+YbYmW9YvVHioqjJZgK4fDA4THkP7bZab/ycu29V+QB5uZc5g/6pn2jU4QDfvkJsXkBoQQAAAOlBm9xJqEFsmUwIZ//+nhAAABpXq1wAtdYdREN2doByvxu8xzwTt+6EveLlfVa2wbt3ynidKgHZJ/52miXHcsSyMWPkUN/3n9dY9tXrOUKZDohWgFNAfzzlWxWbmJeAudeGOkYEYVkoMgqFcTWLJo5GkKsQ93ZFWi+FXBRZo35w8jYSyYm6jTlGL67RZHHzsmiCr7uHVsLUS9mh0ZeTCCj45kbLWEKpxCNV83nzB/SGLhbq72fCe4fsUd3+D8x28J8TXE7kCBU+CmlhNE/EM6bXXWHMzRqvhguJfp01wDrSt4aYNJLPMLIKCAAAAKZBn/pFFSwj/wBHin2TEHA686o7KrzEW19lbP9/EKnEpIAH5ytx5neVHHVcfDdwe1GxuN4tEVILz5DAJIx2B0sBuxaFJneUoy492zFANqU4psNkYAI6EGuWvi1iV6VWGkIZY2KH+9a+RCipyRL0oj2kDK2yJbiWB3abLNLcKSFiTlxlMBvc9ZFfUhK9Qlv8PDBnjp+1Pob+Kli59tAUOIFb0kpCtQWdAAAAiQGeGXRH/wBxIoeevsx3vBZJW4QTVx74S+LDNXoRxZnVkoAW4Nj25vlbPQU0GwhFnOxAyU99O+O5JZlr3j0N8XGt0RNc7IEyiSCKFDeUHl9bZUilkTQ3TR3zZXBL9zbFAxrvh/WrvyT1E1NDUTvgCbSdGMpGX0DjK41V08ACnlRbGuNujV9MyJDwAAAAuQGeG2pH/wBxX/Vd7cOw9BWRu3p4woxSm+AA6RckMUwQ1PLODXxOsVAtfIXJYPXM+79evS3DCPT538w5ClEpyn6J4YoDUd2j5Ms18owaQyZDH5dFPn/enzcV2wXjFfA7MZwFGax6/LCIahdvjCCSEPX5FSedToFNZ0xrtnImCBLllN8XEQPzrzmLx7S7EbYmeCzdwetuRz8Zoee2qDrghZzDEZ8amyoZdGmrUkovGxfx6ksL9YvBbBCxAAABJUGaAEmoQWyZTAhn//6eEAAAGlpXHf0fTw5qPC9SDcZM/ie7KlXIWH2NVYD/sYMSvITTC48lOWuqnNeZPc7wjh3+vt/e38PQj15aw+Wa7xoLv+AhgX1l6FfLw0l23k9UaBOjzPY7M1kmEMG2hkOem7T7Lf47FGiU6bxJ0ltkIC6kEMIHRjS28TyRr0HvinlP3Y8mqJmpFvxikorjHVpHEyHQD0sq+eqxcKyT3bVguURhkzrSiEAC3onw6UbF/seLZuFpAiUiUlOHimKjDjweriMCg0HdHqbwIJ/kxej+xCX2iWKAT/iWF3Fh2HhLeJlRxqwBgpgDK4O0DnN5mZWYC07H3vgwVdQ0c5ofb9ryKhQqtRr9eFoEjS+pyXjhp2PxhHTW2ApxAAAAb0GePkUVLCP/AEeKfZMQcDrzqjsqvMRbX2Vs/4SWLTrSJve6JlXWRN8L/SIHPedBkdQv1Em3WWAEpa74hPnvc/idWWz69Z26xxtH0lqVY/AqQfAuoiHnH4KSAIZqxsPfrgeVpKKafiYpqwge5+kDFgAAAHsBnl10R/8AcSKHnr7Md7wWSVuEE1ciSeNxLey8XBcMhRiFPE+yVGpxa3N74ALOtajbjsbQyWIN1RcUNZENYb/6Wo61UEkVf5qelvyUf7xBf0XR1M0Kh+9Lxa8hBB2k4XUfFEkhZ71OXZ0nHZD/ZV5LEf4bj4+pvkVUCVgAAACEAZ5fakf/AHFf9V3tw7D0FZG7enjCi8NuEoDPe+AV7G+JZu++UTbueewAEoMb/1IXL7+j3k3xya8ZEfYVK8ZLFsdghTqDWz+UoO2qzJ3yXyu7ksY/UuO9ghaiJkXEu/faKz6j4dQszIX31veggdM7wTjpMuzhDLiRlQcWjxpKzP1D3YHpAAABAkGaREmoQWyZTAhn//6eEAAAGJ4TpJzw8z3zVgBCOocNcF2kit4leU/MT+7LPj0U9wg58lQ4pAxZ6gDWDh26WsfqAmb6WNReAbwbqHdnyh4ZXZQNjBuqvo/JdE8ijcYz/KXpueLf+m6YMZ7MkCDRrjJtmt8D9x/lCwH75OSiM2LOZKe01YIj0uot3XXHCJVSQw5M1/N090CJjnuFMC37j5VkXZRZ1gl15PwwQt1Kb4IOMcIf/42E4PkwtNbHsfomDqQGnBNI2oRsPvgxfVs5gf8Wng3xwquN6Ubvor+Kmm5eCsz+G6zK4mxlMcD5ASZ49KUcjRkSwPCbpvrpAjmnHjaDWwAAAItBnmJFFSwj/wBHin2TEHA686o7KrzEW19lbPlGzeoJn6FHuj1AAJIyQLhirP58/4sQA3XVuGHlAvPu29WEYhCkbe23wtUrgQf3/aTMYp0feSdzrJ/z7nogE+5nwatGYWIMFeN5pSl1KJ+u1YS+sOj4CKT2QSuySqF5Mcf6kdJdtGhfKR9Bm9RdQFJBAAAAnQGegXRH/wBxIoeevsx3vBZJW4QTVrmlbO8Al+1pD206ZkPegBk0CfweIAWtoPgQ5+x6vundMoNWhDcs1Baz5Cp2leZwyCO+9FCmb/8Mnw1KAPwrrpw6ReBOV8aZkX07OsW3G1OXzeOIHqId4pqkWai0gVdW9+Mhzw2SoFumqTAquL1MOOWKvioBkKnfrMO8rItXi6iCjadqQVHcl4AAAACYAZ6Dakf/AHFf9V3tw7D0FZG7enjChIB7+M3t4n+ztNiz/hmUizgBABKQA7YfI/MExlG5QCvjQwV8JA/i/vS6MGlaZDHuwMHcToZNoliFrqkYGY0BnDwiUbSoZdBAnfSqaqW9c+cw/2qfkDLDQNkKfDu36xFxOixbjtzcjzNlGHTqckdjvlh+fBz0eVOHkoi7B69b7S5ZLaEAAAEcQZqISahBbJlMCGf//p4QAAAJt03nW80VdOAAh+Uaxb4fJjnX2tNf7Tz6ajPPs1gk+/ArbcM5yw4I0hVqBy2hDHydJ7MHIaJ8H8mZciGVHKmKWVE51UxBD4/VYeU6A4JUysHX6XU11h4PlgkghcDj2yYhXBoAHAx90Fl5RU1EbLEkyzTE02zFv+TdZqFGC/tbSlyUiBkR7a7NYTvIIolDqMuiae6tJLnPW1/qHHRoGCXIcRDh2+DgrlQPEwl319LZsK6eMxy9d5sjtfoIc7Brh9/FDeX9DjxfTGZ8WwoW7ukIhlvkWX/it/j5wr/1cwK54VIMA9lcYSv62yHNyQfcNv/yYd8rf+32pU11kO9kBNueLFROEfmj7+9YPmEAAACNQZ6mRRUsI/8AR4p9kxBwOvOqOyq8xFtfZWz5RXI7N+Z6/IxPYm2AEhXYATLYy7IbsXcLZIjVMqkhvQBXr9ecvLibAktJlCdjq39kzeNYGyuB3+mQltSgoCX24d6P6NwhApHcbtJ5KrB2o9TF6/SBZoUoV0Tlw4hDeGnFof0uxf24SVMIbYaPahs8Fv3HAAAAYwGexXRH/wBxIoeevsx3vBZJW4QTVrsXRY+Dv/OEcqIgAV7lz4MSBXPvbOp7ru5KA6hS1VY/QvXm7kFY9LW3ivp9idLcH/P3cNyl53jPtqinyqXQ5CzgCPlbsHkj5ZMVklOakQAAAKsBnsdqR/8AcV/1Xe3DsPQVkbt6eMKEgLqOZRxilQ2u7FKk6fKAFf016AKcFRQ4r6C49vZJoimay9Kpa6JVzO1RHcJwdmRx02aiSPtaGJorOL9A1sH/UAmuueZfT1hat2TE4mIYGFsa9m7wj0oobKHpWmE+F52tYgaZc7qkbDXSdKW5JSQJPcJI/5ZJFzU7FhcaXKsI+p4yyxUPUvF0f+jEtCy69DQLXUPUoOAAAADwQZrMSahBbJlMCGf//p4QAAAJaITbTD3IATS7Hzg1/6kKxD209NC+ef85qY5PGmkY4HKPOSkh+0AW4/x8uIPBLFowuJcVtcYtiOJ3MaE/zN2I5FrMvYjqwHRNStlAU0NRzuHzkBP/Ne6Pux+lfE2BBnydvcLOIJVLLGPymLegAOqAgUgYsje89t/MuMdeVoknETyemcIYyPVXZeoE5FNBU4uaKE/EXK3ZO5uz0clyet9q/sNgdGZNgSg5dy/1Xq7Dfg89I+3TbMPUV4oltuAm2QgyMSEP1TtBQsgAwdznZY+BjV7/TaeNIJvUkhL8zEVMAAAAqEGe6kUVLCP/AEeKfZMQcDrzqjsqvMRbX2Vs+UWGlEp++lRi0e+QmIpYtU19uY6j2CwAs5Cung+EZ9KxSSRMFaiZE/0OKahUKc58za7Qpp7/rmBw5beLwo2b5raC5Aag6upVovTbawyFrins6qQRiOul0sX4uITgn+9OttSW3vbzAA2p3VbTp3t2vHpY1F6sblUTIvfE2dtnWJ0/KOikF7TtgOmnkUADUwAAALABnwl0R/8AcSKHnr7Md7wWSVuEE1a7G18ofoTOtriB5TbB7Rn4Tw3fmfAh9PjwnfJDQAtvGZXF3Hnkp3+uNzy5Kvq4PAK6I1gyWBSr1TW1KwGwSJ+nNVxLuyqQtRp02IcCFwzXXzjbzqo5DAxuFKyJoimmG9HOt8ag7hH94PHsVXysVdHPre3rlrG+FQ6ZupI/K/XP56y0r7bCxIv6mL9QDE45RvDXcwggF3iLIJ+WPgAAAIQBnwtqR/8AcV/1Xe3DsPQVkbt6eMKEgINUmHkdqkihNKw2tHdibc3PoiAG1/s9aSZXBUHavnolhb3Da76U0qxaySUQz+DW1/3yyB6KG2AiN4YGmK0jPryO1HwP1R6XW/Fo4zsWn6mHfy8HaoVYiCX3spNKDHQgKzj0Lpf1Ka97HnXHAP8AAADMQZsQSahBbJlMCGf//p4QAAAJd+lOozStvgh3M4LPaHB8PK+S7o0ZO/k99gvN8A0jvv3R6FtD2ZCz+6Cig46JTPihTzUJ32H/+Uzwz23Co4lmB1R6kxTY6XD3X6AjJEpSX7S9+OJrkFiam1dXoUMhv8RHCAZdO2P9ZzkYlX9HX9Ealc+Hd9zqSEojNmvIX2J2pSarQqq2N0p48gri7r1uQKgBAFM4ookY0QyWr54EkGXyN1k2kWcdOkSi8XWGHzUyQXMP1QNn7FaPcjQhAAAAm0GfLkUVLCP/AEeKfZMQcDrzqjsqvMRbX2Vs+UVzzooGz8i0f6X/z55Dnn2xbc7zjpGmBCisO0OFIMcp+GsqQAW0jl+TSXJc8FmoU4CfORg9g6BoQN/v20rqpQB4OEI+o12kUeIa2yedsXd/has312YhBgoRh89W24xKeSaI96obdJAEw7glE56PCF1iQZJT4BYdmq062es+S8EjAAAAlQGfTXRH/wBxIoeevsx3vBZJW4QTVrsYysEAg3f2dCDzx7AR3D8Atw/JlNCzxKqfFzKQ6dTqqEJUhHZ9atSPFlqZ2zFa/aE19HYu/h6f4yF0pxJABgYVRf6YjCdZrZu4zhRrtcvgJ73IRYgJ8zwdX+yrb351QhKKdSaGqYNiFISvx8G2FYTj1FGSObPnAK6a3ETGIAVNAAAAYgGfT2pH/wBxX/Vd7cOw9BWRu3p4woSADRg9IKld1JEAtk/wKADZy2i311rHH1laZPHismfuTo9pidUIkaW74EAA41592b7uwl35oaHro3SlxoOB0CpfKsuhRAMlKEi5oN6AAAAAxkGbVEmoQWyZTAhn//6eEAAAAwOd9fmVOlzJ3bQAPwDiH/mCQOxvMjxvnjWTcmDn17Kl8xPT7TwOKEZozjTf8NlBJlsH56Tx9qwuOcFyWdvGH41OWtyDJUvblRRHZZg9neC1XA5HXSTwpMAFkNPp3eLZjIJCLwxf3dedh7o/SjzvNsPUdcu2/qqHoNqcQEvETeRqokfwdhP8nuVKNccM6LaNZhOVG11HXHXsmEBhf1j9zsJehq95Q8WzOxJerjJyoc7e1klsgAAAAJpBn3JFFSwj/wBHin2TEHA686o7KrzEW19lbPlFXwH4xlinMZrUSHOMcAJYtKLxa34OAJ8BAH9dimHxlT1tCDMvynePor4YKtn4mGBizLZV+st0ADh8YL7bjS+mslc10Fi+i3YtJGMJqk7KbzamFgjxjykGyjxfM7bneHOMgjv4jFvJfVUl4sz2f/MGtpHUNDnj4SN/TFxaAATdAAAARgGfkXRH/wBxIoeevsx3vBZJW4QTVrsRwZ+345B0k52u9h3Z1E2cL6QL36KlBtt55mhgKsrNMJirZJ9i0tfUurKCbOoAoYAAAABsAZ+Takf/AHFf9V3tw7D0FZG7enjChIANHBJ61n9wv8FooJDCBJIw1h8QGC7AT4zvNiG10sxAeGNCT5jgAunsGOffxnJTs9jiwMy52oJWeejFGhZz4+R5g603u99TFv4BxBDYe9uQIk10Ue1sAAAAu0GbmEmoQWyZTAhf//6MsAAAAwOkgb69QAulCrljUEcRud/SmZV6F7hwcS0MPgzLS3BZCGJvzh+4r44HC/f+tKdQx35RH8/89Gx4IDXage9+02kpUZa++D5mgOkQKtzX6v3JjoEbKYIp1ZF19ALemrAuObfwt6yyUqJKq68eQVQMLdXHM6f9pgGm42f0y6F90DURj+PyGpaQ1AeGVmovbfSve5HrsQ8zknagPclwUPIs4z971TIbYYeZYL0AAACtQZ+2RRUsI/8AR4p9kxBwOvOqOyq8xFtfZWz5RV8BTuSU+H1C2IvQAQKRu9l8727KvsZ7rHH3+ls9pd0fmI9ajQpF/9GMOU/glVhAPMcAErbfKkcN6BJM/z9DA/1jvDthn2MU8dIqqkl+NXdosY11I/rDBfJPixOA0En04A4TpaAxJw3g+Ao9fAd+iUewoCvluh/DfJyY0cLJf4YhBJoUOxJjcHaQ410TaTUgLaAAAABiAZ/VdEf/AHEih56+zHe8FklbhBNWuxHB0c5/Tvv5oUBotmHXYNZNrQdWOv18Bxi7cmCr5PcoAf8ALdU2f+c5k0CY8TtVbrYCoWeiI5KC22hCIwuf+Awvcm0NRe2W9aegw+8AAACQAZ/Xakf/AHFf9V3tw7D0FZG7enjChIANGrxi9DFxdVKcmQDs7i8vTzIM2Iro7gAFqJVM2MT/tF/P1KRvRrBZ2TNcL5LSyUufSFG0mJ5e34fH8vY2vDF+nad+9MGBUaupCMdk8WbSwzFCQy913FPzuHENflXI+Pk2wx+uvNCnNo/wdjoaJm6P6afxEoZG4EXBAAAA0UGb3EmoQWyZTAhf//6MsAAAAwOkpTdFOXPYeJVQODyTG7iLdGlLBOBjncaOzTLMhCH+skyrn2+KkANuR2tmVQjKG+olsrmGXpF4NoxGo87dZIxfAM/LmR5+DsByop/KKrE1LWRtISTeephv/l3FiQxWjuzZgCPIKq4jSNGIA11bFc8PDS4eL21h8SA8SouMx+Ms0KsN/SMsa277q7IA7LbDdZAu9k6zedyYQ4rzGRMl2Sb6K83WdmWIJrcwu7J+RcNCiTvGiBEHbspZnrzLVGLAAAAAf0Gf+kUVLCP/AEeKfZMQcDrzqjsqvMRbX2Vs+UVfAYLHh9SEI8Sccczm2QTpUsmZL/0btusIpqFvcvQPjGo8FACMAkhFrp/xkHGHq4H3XlciHo2Wb7if5kAWBH3wuYE07mRJHbsEe/bRjJy6nF781yd6jFdCdqTIwx2M67tQAmcAAAB6AZ4ZdEf/AHEih56+zHe8FklbhBNWuxHBqE2ghHeTKo9DmvIUCahrsC2FANXoVVjcuwOKLFT2GbN0289buSYCTual+fWxBP9Ozxd6KM7Rralr4iCIOs2EpyXmJ8dCc5yw+VXE9/HU5IpxXNhkyyxN6DWb4WctdfSAE3AAAAB4AZ4bakf/AHFf9V3tw7D0FZG7enjChIANFNvzdv4wHvGbQj4djl9pvh2Lvf7nzQFJgLhmeICpXRZjtvjvPugriYwAkLQZqbRKK85jDnYjxgNnWefXtIbNEYckK8dEpqZSC0jeDxmEpRh6tRK/j2UwuN9m+APg0EfBAAAA70GaAEmoQWyZTAhf//6MsAAAAwFk+EWxLuAG5odAaXd2o0Z3QppNxVv7j1NmHVtOkWuTR3tJQM69UsT9m4zaLiilsYwxoRPb02bT710kRX4mEz6+z9NNwAFUtpSvxenloaBDWmulnMqnvgw3KKE87ka0rK2SBRDbDcn96seQRTt0RZ9OV7k1Bf9JtuaOJGyGK1W/Smf5mLHlLu9Cw7H/K0ff8RqSMVrbi57nVI8+i3pxhV5an+iw4+RMi9z63v9Xmsv70P7HJlhnNfNCsJfwHFnhMRVzAUK3Tf4gGv9DbOW6jC9RWsZOwiSaKzVuoJ9lAAAAcEGePkUVLCP/AEeKfZMQcDrzqjsqvMRbX2Vs+UVfAKZ5azhyRYAbUjPrseeFxuSFjzmIWOmxoYWfPb0M7uWQr74lLkykJz6IyCUy5p2HJ69Jj+2aPTF6GGLJk10o1JoOfsoc01Ql6boh4EDFN4wALuAAAABoAZ5ddEf/AHEih56+zHe8FklbhBNWuxHBXGZKyji4GFWYysKg/1k3F7SoMu3QATqwn8+tXRrmNeJsyjTI7ACr4vn2LZ6ZpOWjFqz9tgDJAtv4wpwPPup2VmaOc68TFnp0SyNWLQpFV3AAAAB4AZ5fakf/AHFf9V3tw7D0FZG7enjChIANFNvJV1UU23uZeXK9t/NPAfBKUFWKwnlTuGjk1VWrwubAB0iWvLb66gl0MBvNex6OJBBVDpcOwHKrePwvhP1UY+EuxSgUMmgk4U8hTCFY+QrzrU2br220Y2uhgDgJXQMDAAAArUGaREmoQWyZTAhX//44QAAABWuT7N1rAcRwbBnF/n3h6E84lDqMhgHyMr424yxaNQAt4VePEhMpeFTQ7DNwzR13455WftDUHpledNjJwjt4RnvhG74Zz+eGGgNxpM5VDYefE6QPEsG9HVEOVXa6E29eCdbevZ6TZECd5lEOF5acDvHqH9LVp3SSFMJWyBe5MdFx4UTpQH2en/etmCHYaMhSEnGh7AcbM/X6q8AfAAAAgEGeYkUVLCP/AEeKfZMQcDrzqjsqvMRbX2Vs+UVfAKZ2Ev3efOoQbUUW+rqhmLobjl6Qj0eUJR5CAEmdq8h6Quv8jKNpqRZ0WzR3bDadZqL56+MK6qbfO/ChtxQUsQAQKxdyCHbrkJxD11G3UdLfQammsQ2PgvMq3Z4MIS2zpAGVAAAAeQGegXRH/wBxIoeevsx3vBZJW4QTVrsRwVxnjCp0dHOSfyscWsyOXPvcXAyi+KiW+ACzkpc0UkP3Sg7w8AHG37J812X8W6u1WC43ehU+/ZzqnNR4jfCEgL5QBu9MfYrVC3B5SdLl3avNL9ONyuLp726O3a8iidTfg44AAABUAZ6Dakf/AHFf9V3tw7D0FZG7enjChIANFNuu7lvACgdkNZkw9k8a4+ETX0c16wHA4TYRtm8j7A6gF7qA40At/TFBa6X9RYhcjY3rXYHIzbWRsCphAAAAVkGaiEmoQWyZTAj//IQAAAMAHnhItFhB0chJX5yCOrKBnugT/32q5wAJjpFEH7quWLDDgeDJIotEiXyb+J+dAc5tNU9fLmLEV7VlT7Y1M0+w0UNz/z8hAAAAdkGepkUVLCP/AEeKfZMQcDrzqjsqvMRbX2Vs+UVfAKVWms4hPBMpw+pubO8+eT5TdRmVBP5PS1VF18efv0svSSBtYrlJPShQAXzChHzgnSC73GCp6Ps9xyUb0XDUgQNIXa9/sh99jJO/C8LL/ciS/Hl3TQDoDqkAAABeAZ7FdEf/AHEih56+zHe8FklbhBNWuxHBW1pH65wZGPZQOGHwe4NtBABm+mz3DZmihzPrmTcRyA5RIaCb3eY2ZRbqB8oMk2x8bDk0oNZ0G7F+bGeiI4KY85ABWogtoQAAAIYBnsdqR/8AcV/1Xe3DsPQVkbt6eMKEgA0Uz6N90KYAJaXdDZlI3U84563CXnZ15eKM1fnLptUlW0xFllgEsgr2WZkbnEEon3S77ZZnjDlqX+3e+p9uS48rAIOFIJfhWg+DxHcfqixT0P5lJ476Y0qTeu19LdvEz65QB7I1u1n63z7eUuCZgAAADHdtb292AAAAbG12aGQAAAAAAAAAAAAAAAAAAAPoAAAPtAABAAABAAAAAAAAAAAAAAAAAQAAAAAAAAAAAAAAAAAAAAEAAAAAAAAAAAAAAAAAAEAAAAAAAAAAAAAAAAAAAAAAAAAAAAAAAAAAAAAAAAACAAALoXRyYWsAAABcdGtoZAAAAAMAAAAAAAAAAAAAAAEAAAAAAAAPtAAAAAAAAAAAAAAAAAAAAAAAAQAAAAAAAAAAAAAAAAAAAAEAAAAAAAAAAAAAAAAAAEAAAAACWAAAAZAAAAAAACRlZHRzAAAAHGVsc3QAAAAAAAAAAQAAD7QAAAIAAAEAAAAACxltZGlhAAAAIG1kaGQAAAAAAAAAAAAAAAAAADIAAADJAFXEAAAAAAAtaGRscgAAAAAAAAAAdmlkZQAAAAAAAAAAAAAAAFZpZGVvSGFuZGxlcgAAAArEbWluZgAAABR2bWhkAAAAAQAAAAAAAAAAAAAAJGRpbmYAAAAcZHJlZgAAAAAAAAABAAAADHVybCAAAAABAAAKhHN0YmwAAACYc3RzZAAAAAAAAAABAAAAiGF2YzEAAAAAAAAAAQAAAAAAAAAAAAAAAAAAAAACWAGQAEgAAABIAAAAAAAAAAEAAAAAAAAAAAAAAAAAAAAAAAAAAAAAAAAAAAAAAAAAAAAY//8AAAAyYXZjQwFkAB//4QAZZ2QAH6zZQJgz5eEAAAMAAQAAAwBkDxgxlgEABmjr48siwAAAABhzdHRzAAAAAAAAAAEAAADJAAABAAAAABRzdHNzAAAAAAAAAAEAAAABAAAGUGN0dHMAAAAAAAAAyAAAAAEAAAIAAAAAAQAABQAAAAABAAACAAAAAAEAAAAAAAAAAQAAAQAAAAABAAAFAAAAAAEAAAIAAAAAAQAAAAAAAAABAAABAAAAAAEAAAUAAAAAAQAAAgAAAAABAAAAAAAAAAEAAAEAAAAAAQAABQAAAAABAAACAAAAAAEAAAAAAAAAAQAAAQAAAAABAAAFAAAAAAEAAAIAAAAAAQAAAAAAAAABAAABAAAAAAEAAAUAAAAAAQAAAgAAAAABAAAAAAAAAAEAAAEAAAAAAQAABQAAAAABAAACAAAAAAEAAAAAAAAAAQAAAQAAAAABAAAFAAAAAAEAAAIAAAAAAQAAAAAAAAABAAABAAAAAAEAAAUAAAAAAQAAAgAAAAABAAAAAAAAAAEAAAEAAAAAAQAABQAAAAABAAACAAAAAAEAAAAAAAAAAQAAAQAAAAABAAAFAAAAAAEAAAIAAAAAAQAAAAAAAAABAAABAAAAAAEAAAUAAAAAAQAAAgAAAAABAAAAAAAAAAEAAAEAAAAAAQAABAAAAAACAAABAAAAAAEAAAIAAAAAAQAABQAAAAABAAACAAAAAAEAAAAAAAAAAQAAAQAAAAABAAAFAAAAAAEAAAIAAAAAAQAAAAAAAAABAAABAAAAAAEAAAUAAAAAAQAAAgAAAAABAAAAAAAAAAEAAAEAAAAAAQAABQAAAAABAAACAAAAAAEAAAAAAAAAAQAAAQAAAAABAAAFAAAAAAEAAAIAAAAAAQAAAAAAAAABAAABAAAAAAEAAAUAAAAAAQAAAgAAAAABAAAAAAAAAAEAAAEAAAAAAQAABQAAAAABAAACAAAAAAEAAAAAAAAAAQAAAQAAAAABAAAFAAAAAAEAAAIAAAAAAQAAAAAAAAABAAABAAAAAAEAAAUAAAAAAQAAAgAAAAABAAAAAAAAAAEAAAEAAAAAAQAABQAAAAABAAACAAAAAAEAAAAAAAAAAQAAAQAAAAABAAAFAAAAAAEAAAIAAAAAAQAAAAAAAAABAAABAAAAAAEAAAUAAAAAAQAAAgAAAAABAAAAAAAAAAEAAAEAAAAAAQAABQAAAAABAAACAAAAAAEAAAAAAAAAAQAAAQAAAAABAAAFAAAAAAEAAAIAAAAAAQAAAAAAAAABAAABAAAAAAEAAAUAAAAAAQAAAgAAAAABAAAAAAAAAAEAAAEAAAAAAQAABQAAAAABAAACAAAAAAEAAAAAAAAAAQAAAQAAAAABAAAFAAAAAAEAAAIAAAAAAQAAAAAAAAABAAABAAAAAAEAAAUAAAAAAQAAAgAAAAABAAAAAAAAAAEAAAEAAAAAAQAABQAAAAABAAACAAAAAAEAAAAAAAAAAQAAAQAAAAABAAAFAAAAAAEAAAIAAAAAAQAAAAAAAAABAAABAAAAAAEAAAUAAAAAAQAAAgAAAAABAAAAAAAAAAEAAAEAAAAAAQAABQAAAAABAAACAAAAAAEAAAAAAAAAAQAAAQAAAAABAAAFAAAAAAEAAAIAAAAAAQAAAAAAAAABAAABAAAAAAEAAAUAAAAAAQAAAgAAAAABAAAAAAAAAAEAAAEAAAAAAQAABQAAAAABAAACAAAAAAEAAAAAAAAAAQAAAQAAAAABAAAFAAAAAAEAAAIAAAAAAQAAAAAAAAABAAABAAAAAAEAAAUAAAAAAQAAAgAAAAABAAAAAAAAAAEAAAEAAAAAAQAABQAAAAABAAACAAAAAAEAAAAAAAAAAQAAAQAAAAABAAAFAAAAAAEAAAIAAAAAAQAAAAAAAAABAAABAAAAAAEAAAUAAAAAAQAAAgAAAAABAAAAAAAAAAEAAAEAAAAAAQAABQAAAAABAAACAAAAAAEAAAAAAAAAAQAAAQAAAAABAAAFAAAAAAEAAAIAAAAAAQAAAAAAAAABAAABAAAAAAEAAAUAAAAAAQAAAgAAAAABAAAAAAAAAAEAAAEAAAAAAQAABQAAAAABAAACAAAAAAEAAAAAAAAAAQAAAQAAAAABAAAFAAAAAAEAAAIAAAAAAQAAAAAAAAABAAABAAAAAAEAAAUAAAAAAQAAAgAAAAABAAAAAAAAAAEAAAEAAAAAAQAABQAAAAABAAACAAAAAAEAAAAAAAAAAQAAAQAAAAAcc3RzYwAAAAAAAAABAAAAAQAAAMkAAAABAAADOHN0c3oAAAAAAAAAAAAAAMkAAApWAAABFAAAAHsAAACEAAAAUAAAAJcAAABPAAAAOAAAACUAAAB0AAAATQAAAFAAAABDAAAAjgAAAFYAAAAqAAAATgAAAJ0AAAA8AAAAMAAAADEAAACfAAAAUwAAAE8AAAAsAAAAdgAAADoAAAAfAAAAIwAAAOwAAABMAAAAMwAAAGgAAADLAAAAcAAAAHAAAABfAAABEgAAAIQAAABVAAAAkQAAASMAAABbAAAAXAAAAIQAAAEfAAAAjgAAALQAAABuAAAA/gAAAGsAAABgAAABBgAAAR0AAADGAAAAdQAAAJ8AAAD5AAAAqAAAAMIAAACkAAAA+AAAAHgAAAC5AAAAkQAAAMgAAACYAAAAyAAAAMAAAAEYAAAAjQAAAIgAAACGAAAA+gAAAJ8AAACDAAAAoAAAARkAAACYAAAAnwAAAJsAAADQAAAAiQAAAI4AAACEAAAAzwAAAKQAAACvAAAAagAAANMAAACiAAAAhwAAAIMAAADoAAAAxgAAAJkAAACDAAABAwAAALQAAACmAAAAhQAAAPsAAACiAAAAjwAAAIUAAAEUAAAA2AAAAJAAAACkAAAA6QAAAHsAAAB5AAAAnQAAAOAAAACPAAAAiAAAAIkAAADjAAAAxgAAAIcAAABLAAAAzgAAAJ8AAAB8AAAAjQAAAQgAAACmAAAAoQAAAKkAAAEHAAAAqQAAAKEAAAC4AAAA5AAAALMAAACjAAAApAAAASAAAACXAAAAlQAAAK0AAADoAAAAsgAAAL4AAAB3AAAAvAAAAMEAAACuAAAAhAAAAPMAAADEAAAAhgAAAI4AAADtAAAAqgAAAI0AAAC9AAABKQAAAHMAAAB/AAAAiAAAAQYAAACPAAAAoQAAAJwAAAEgAAAAkQAAAGcAAACvAAAA9AAAAKwAAAC0AAAAiAAAANAAAACfAAAAmQAAAGYAAADKAAAAngAAAEoAAABwAAAAvwAAALEAAABmAAAAlAAAANUAAACDAAAAfgAAAHwAAADzAAAAdAAAAGwAAAB8AAAAsQAAAIQAAAB9AAAAWAAAAFoAAAB6AAAAYgAAAIoAAAAUc3RjbwAAAAAAAAABAAAAMAAAAGJ1ZHRhAAAAWm1ldGEAAAAAAAAAIWhkbHIAAAAAAAAAAG1kaXJhcHBsAAAAAAAAAAAAAAAALWlsc3QAAAAlqXRvbwAAAB1kYXRhAAAAAQAAAABMYXZmNTcuODMuMTAw\" type=\"video/mp4\" />\n",
       "                </video>"
      ],
      "text/plain": [
       "<IPython.core.display.HTML object>"
      ]
     },
     "metadata": {
      "tags": []
     },
     "output_type": "display_data"
    }
   ],
   "source": [
    "env, _, _ = create_env()\n",
    "test_environment(env=env, agent=agent)\n",
    "show_video()"
   ]
  },
  {
   "cell_type": "code",
   "execution_count": null,
   "metadata": {
    "colab": {},
    "colab_type": "code",
    "id": "j7eOUJ2_srAr"
   },
   "outputs": [],
   "source": []
  }
 ],
 "metadata": {
  "colab": {
   "collapsed_sections": [],
   "name": "04-RL_PolicyGradients_PPO_Solution.ipynb",
   "provenance": []
  },
  "kernelspec": {
   "display_name": "Python 3 (ipykernel)",
   "language": "python",
   "name": "python3"
  },
  "language_info": {
   "codemirror_mode": {
    "name": "ipython",
    "version": 3
   },
   "file_extension": ".py",
   "mimetype": "text/x-python",
   "name": "python",
   "nbconvert_exporter": "python",
   "pygments_lexer": "ipython3",
   "version": "3.9.7"
  },
  "widgets": {
   "application/vnd.jupyter.widget-state+json": {
    "1aa630f83dcf43e8a055678ddead20f4": {
     "model_module": "@jupyter-widgets/base",
     "model_name": "LayoutModel",
     "state": {
      "_model_module": "@jupyter-widgets/base",
      "_model_module_version": "1.2.0",
      "_model_name": "LayoutModel",
      "_view_count": null,
      "_view_module": "@jupyter-widgets/base",
      "_view_module_version": "1.2.0",
      "_view_name": "LayoutView",
      "align_content": null,
      "align_items": null,
      "align_self": null,
      "border": null,
      "bottom": null,
      "display": null,
      "flex": null,
      "flex_flow": null,
      "grid_area": null,
      "grid_auto_columns": null,
      "grid_auto_flow": null,
      "grid_auto_rows": null,
      "grid_column": null,
      "grid_gap": null,
      "grid_row": null,
      "grid_template_areas": null,
      "grid_template_columns": null,
      "grid_template_rows": null,
      "height": null,
      "justify_content": null,
      "justify_items": null,
      "left": null,
      "margin": null,
      "max_height": null,
      "max_width": null,
      "min_height": null,
      "min_width": null,
      "object_fit": null,
      "object_position": null,
      "order": null,
      "overflow": null,
      "overflow_x": null,
      "overflow_y": null,
      "padding": null,
      "right": null,
      "top": null,
      "visibility": null,
      "width": null
     }
    },
    "2a13cf2d4cfc40629d52e7aa0b779a71": {
     "model_module": "@jupyter-widgets/controls",
     "model_name": "HTMLModel",
     "state": {
      "_dom_classes": [],
      "_model_module": "@jupyter-widgets/controls",
      "_model_module_version": "1.5.0",
      "_model_name": "HTMLModel",
      "_view_count": null,
      "_view_module": "@jupyter-widgets/controls",
      "_view_module_version": "1.5.0",
      "_view_name": "HTMLView",
      "description": "",
      "description_tooltip": null,
      "layout": "IPY_MODEL_ecd4c91ef51944998f3c6c87710feff1",
      "placeholder": "​",
      "style": "IPY_MODEL_e0c469e6089843de863afc9cb0fed7c5",
      "value": " 1000/1000 [06:37&lt;00:00,  2.52it/s]"
     }
    },
    "3f9b6c5f7f9e452db296f8c789a42616": {
     "model_module": "@jupyter-widgets/controls",
     "model_name": "ProgressStyleModel",
     "state": {
      "_model_module": "@jupyter-widgets/controls",
      "_model_module_version": "1.5.0",
      "_model_name": "ProgressStyleModel",
      "_view_count": null,
      "_view_module": "@jupyter-widgets/base",
      "_view_module_version": "1.2.0",
      "_view_name": "StyleView",
      "bar_color": null,
      "description_width": "initial"
     }
    },
    "a88f130052ea42fdbe560e60749774cb": {
     "model_module": "@jupyter-widgets/controls",
     "model_name": "IntProgressModel",
     "state": {
      "_dom_classes": [],
      "_model_module": "@jupyter-widgets/controls",
      "_model_module_version": "1.5.0",
      "_model_name": "IntProgressModel",
      "_view_count": null,
      "_view_module": "@jupyter-widgets/controls",
      "_view_module_version": "1.5.0",
      "_view_name": "ProgressView",
      "bar_style": "success",
      "description": "[997] Reward: 146.7723: 100%",
      "description_tooltip": null,
      "layout": "IPY_MODEL_d882dff31bc049e28403f45525cb9429",
      "max": 1000,
      "min": 0,
      "orientation": "horizontal",
      "style": "IPY_MODEL_3f9b6c5f7f9e452db296f8c789a42616",
      "value": 1000
     }
    },
    "b1fb731b063c4bdab7d98ee3293b444c": {
     "model_module": "@jupyter-widgets/controls",
     "model_name": "HBoxModel",
     "state": {
      "_dom_classes": [],
      "_model_module": "@jupyter-widgets/controls",
      "_model_module_version": "1.5.0",
      "_model_name": "HBoxModel",
      "_view_count": null,
      "_view_module": "@jupyter-widgets/controls",
      "_view_module_version": "1.5.0",
      "_view_name": "HBoxView",
      "box_style": "",
      "children": [
       "IPY_MODEL_a88f130052ea42fdbe560e60749774cb",
       "IPY_MODEL_2a13cf2d4cfc40629d52e7aa0b779a71"
      ],
      "layout": "IPY_MODEL_1aa630f83dcf43e8a055678ddead20f4"
     }
    },
    "d882dff31bc049e28403f45525cb9429": {
     "model_module": "@jupyter-widgets/base",
     "model_name": "LayoutModel",
     "state": {
      "_model_module": "@jupyter-widgets/base",
      "_model_module_version": "1.2.0",
      "_model_name": "LayoutModel",
      "_view_count": null,
      "_view_module": "@jupyter-widgets/base",
      "_view_module_version": "1.2.0",
      "_view_name": "LayoutView",
      "align_content": null,
      "align_items": null,
      "align_self": null,
      "border": null,
      "bottom": null,
      "display": null,
      "flex": null,
      "flex_flow": null,
      "grid_area": null,
      "grid_auto_columns": null,
      "grid_auto_flow": null,
      "grid_auto_rows": null,
      "grid_column": null,
      "grid_gap": null,
      "grid_row": null,
      "grid_template_areas": null,
      "grid_template_columns": null,
      "grid_template_rows": null,
      "height": null,
      "justify_content": null,
      "justify_items": null,
      "left": null,
      "margin": null,
      "max_height": null,
      "max_width": null,
      "min_height": null,
      "min_width": null,
      "object_fit": null,
      "object_position": null,
      "order": null,
      "overflow": null,
      "overflow_x": null,
      "overflow_y": null,
      "padding": null,
      "right": null,
      "top": null,
      "visibility": null,
      "width": null
     }
    },
    "e0c469e6089843de863afc9cb0fed7c5": {
     "model_module": "@jupyter-widgets/controls",
     "model_name": "DescriptionStyleModel",
     "state": {
      "_model_module": "@jupyter-widgets/controls",
      "_model_module_version": "1.5.0",
      "_model_name": "DescriptionStyleModel",
      "_view_count": null,
      "_view_module": "@jupyter-widgets/base",
      "_view_module_version": "1.2.0",
      "_view_name": "StyleView",
      "description_width": ""
     }
    },
    "ecd4c91ef51944998f3c6c87710feff1": {
     "model_module": "@jupyter-widgets/base",
     "model_name": "LayoutModel",
     "state": {
      "_model_module": "@jupyter-widgets/base",
      "_model_module_version": "1.2.0",
      "_model_name": "LayoutModel",
      "_view_count": null,
      "_view_module": "@jupyter-widgets/base",
      "_view_module_version": "1.2.0",
      "_view_name": "LayoutView",
      "align_content": null,
      "align_items": null,
      "align_self": null,
      "border": null,
      "bottom": null,
      "display": null,
      "flex": null,
      "flex_flow": null,
      "grid_area": null,
      "grid_auto_columns": null,
      "grid_auto_flow": null,
      "grid_auto_rows": null,
      "grid_column": null,
      "grid_gap": null,
      "grid_row": null,
      "grid_template_areas": null,
      "grid_template_columns": null,
      "grid_template_rows": null,
      "height": null,
      "justify_content": null,
      "justify_items": null,
      "left": null,
      "margin": null,
      "max_height": null,
      "max_width": null,
      "min_height": null,
      "min_width": null,
      "object_fit": null,
      "object_position": null,
      "order": null,
      "overflow": null,
      "overflow_x": null,
      "overflow_y": null,
      "padding": null,
      "right": null,
      "top": null,
      "visibility": null,
      "width": null
     }
    }
   }
  }
 },
 "nbformat": 4,
 "nbformat_minor": 1
}
